{
  "nbformat": 4,
  "nbformat_minor": 0,
  "metadata": {
    "colab": {
      "provenance": [],
      "authorship_tag": "ABX9TyNLiv7Y61aToNhsNpZ9cb0t",
      "include_colab_link": true
    },
    "kernelspec": {
      "name": "python3",
      "display_name": "Python 3"
    },
    "language_info": {
      "name": "python"
    }
  },
  "cells": [
    {
      "cell_type": "markdown",
      "metadata": {
        "id": "view-in-github",
        "colab_type": "text"
      },
      "source": [
        "<a href=\"https://colab.research.google.com/github/Sagarjain93/Pharma_Medicines/blob/main/Pharma_medicines.ipynb\" target=\"_parent\"><img src=\"https://colab.research.google.com/assets/colab-badge.svg\" alt=\"Open In Colab\"/></a>"
      ]
    },
    {
      "cell_type": "markdown",
      "source": [
        "#**Project Tite: Exploratory Analysis of Indian Pharmaceuticals Dataset**"
      ],
      "metadata": {
        "id": "puBvJiex32B6"
      }
    },
    {
      "cell_type": "markdown",
      "source": [
        "#**1. Introduction**"
      ],
      "metadata": {
        "id": "zGIErSgy31K8"
      }
    },
    {
      "cell_type": "markdown",
      "source": [
        "# **2. Dataset Description:**"
      ],
      "metadata": {
        "id": "7y76hosh38rQ"
      }
    },
    {
      "cell_type": "markdown",
      "source": [
        "# **3. Import Required Libraries**\n",
        "\n",
        "We import Python libraries necessary for data manipulation and visualization"
      ],
      "metadata": {
        "id": "AkBgyGT0IjV0"
      }
    },
    {
      "cell_type": "code",
      "source": [
        "# Data Manipulation Libraries\n",
        "import numpy as np\n",
        "import pandas as pd\n",
        "\n",
        "# Data Visualization Libraries\n",
        "import matplotlib.pyplot as plt\n",
        "import seaborn as sns\n",
        "\n",
        "# Set a consistent theme for all plots\n",
        "sns.set(style = 'whitegrid')"
      ],
      "metadata": {
        "id": "KjZjlE_iItUE"
      },
      "execution_count": 1,
      "outputs": []
    }
  ]
}
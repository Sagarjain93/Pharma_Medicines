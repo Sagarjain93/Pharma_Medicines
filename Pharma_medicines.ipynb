{
  "nbformat": 4,
  "nbformat_minor": 0,
  "metadata": {
    "colab": {
      "provenance": [],
      "authorship_tag": "ABX9TyNgUUWvI1mWRJwYMozgWjWS",
      "include_colab_link": true
    },
    "kernelspec": {
      "name": "python3",
      "display_name": "Python 3"
    },
    "language_info": {
      "name": "python"
    }
  },
  "cells": [
    {
      "cell_type": "markdown",
      "metadata": {
        "id": "view-in-github",
        "colab_type": "text"
      },
      "source": [
        "<a href=\"https://colab.research.google.com/github/Sagarjain93/Pharma_Medicines/blob/main/Pharma_medicines.ipynb\" target=\"_parent\"><img src=\"https://colab.research.google.com/assets/colab-badge.svg\" alt=\"Open In Colab\"/></a>"
      ]
    },
    {
      "cell_type": "markdown",
      "source": [
        "#**Project Tite: Exploratory Analysis of Indian Pharmaceuticals Dataset**"
      ],
      "metadata": {
        "id": "puBvJiex32B6"
      }
    },
    {
      "cell_type": "markdown",
      "source": [
        "#**1. Introduction**"
      ],
      "metadata": {
        "id": "zGIErSgy31K8"
      }
    },
    {
      "cell_type": "markdown",
      "source": [
        "This EDA aims to uncover patterns, distributions, and insights from a dataset of 253,973 medicines available in India. The dataset includes key features like product ID, name, price, manufacturer, type, packaging, and composition details. Through data profiling, visualizations, and summary statistics, we explore product availability, pricing trends, formulation completeness, and market diversity in the Indian pharmaceutical space."
      ],
      "metadata": {
        "id": "JJMe2XrrTXVv"
      }
    },
    {
      "cell_type": "markdown",
      "source": [
        "**Potential Hypotheses to be explored **\n",
        "\n",
        "**1.Higher-priced medicines are more likely to be discontinued.**\n",
        "(Test by comparing price distributions across the Is_discontinued flag.)\n",
        "\n",
        "**2.Some manufacturers dominate the market with a higher number of products.**\n",
        "(Test by analyzing the frequency distribution of manufacturer_name.)\n",
        "\n",
        "**3.Certain medicine types (e.g., tablets) are more common than others.**\n",
        "(Test by checking the distribution of the type column.)\n",
        "\n",
        "**4.Combination drugs (with short_composition2) tend to be more expensive.**\n",
        "(Compare average price between entries with and without short_composition2.)\n",
        "\n",
        "**5.Pack size is correlated with medicine price.**\n",
        "(Extract numeric info from pack_size_label and check correlation with price(₹).)\n",
        "\n",
        "**6.Discontinued medicines are more likely to come from lesser-known manufacturers.**\n",
        "(Compare discontinuation rates across manufacturers.)\n",
        "\n"
      ],
      "metadata": {
        "id": "sEmUJ3tFUneK"
      }
    },
    {
      "cell_type": "markdown",
      "source": [
        "# **2. Dataset Description:**"
      ],
      "metadata": {
        "id": "7y76hosh38rQ"
      }
    },
    {
      "cell_type": "markdown",
      "source": [
        "**id** Unique identifier for each medicine entry.\n",
        "\n",
        "**name**: Name of the medicine or drug product.\n",
        "\n",
        "**price(₹)**: Price of the medicine in Indian Rupees.\n",
        "\n",
        "**Is_discontinued**: Boolean flag indicating whether the medicine is discontinued (True) or still available (False).\n",
        "\n",
        "**manufacturer_name**: Name of the company or brand that manufactures the medicine.\n",
        "\n",
        "**type**: Form/type of the medicine (e.g., tablet, syrup, capsule).\n",
        "\n",
        "**pack_size_label**: Label describing the packaging size or quantity (e.g., \"10 tablets\", \"100 ml\").\n",
        "\n",
        "**short_composition1**: Primary active ingredient(s) in the medicine.\n",
        "\n",
        "**short_composition2**: Secondary or additional active ingredient(s); may contain missing values."
      ],
      "metadata": {
        "id": "JuoV7yCuUCxV"
      }
    },
    {
      "cell_type": "markdown",
      "source": [
        "# **3. Import Required Libraries**\n",
        "\n"
      ],
      "metadata": {
        "id": "AkBgyGT0IjV0"
      }
    },
    {
      "cell_type": "markdown",
      "source": [
        "We import Python libraries necessary for data manipulation and visualization"
      ],
      "metadata": {
        "id": "3EMQE1jGPwfG"
      }
    },
    {
      "cell_type": "code",
      "source": [
        "# Data Manipulation Libraries\n",
        "import numpy as np\n",
        "import pandas as pd\n",
        "\n",
        "# Data Visualization Libraries\n",
        "import matplotlib.pyplot as plt\n",
        "import seaborn as sns\n",
        "\n",
        "# Set a consistent theme for all plots\n",
        "sns.set(style = 'whitegrid')"
      ],
      "metadata": {
        "id": "KjZjlE_iItUE"
      },
      "execution_count": 1,
      "outputs": []
    },
    {
      "cell_type": "code",
      "source": [
        "from google.colab import drive\n",
        "drive.mount('/content/drive')"
      ],
      "metadata": {
        "colab": {
          "base_uri": "https://localhost:8080/"
        },
        "id": "nIi1a8eQJu1M",
        "outputId": "7fe6c752-ed35-49d0-ff40-2650c1b84065"
      },
      "execution_count": 2,
      "outputs": [
        {
          "output_type": "stream",
          "name": "stdout",
          "text": [
            "Mounted at /content/drive\n"
          ]
        }
      ]
    },
    {
      "cell_type": "markdown",
      "source": [
        "# **4. Load The Dataset**\n",
        "\n"
      ],
      "metadata": {
        "id": "ci03FY-pJULd"
      }
    },
    {
      "cell_type": "markdown",
      "source": [
        "The dataset is loaded using the pandas library. The dataset has been uploaded to a GitHub repository. This approach allows the CSV file to be accessed directly via its raw URL, making the code cleaner and removing the need for manual authorization or drive mounting each time the notebook is run."
      ],
      "metadata": {
        "id": "-osEm8SaPtj5"
      }
    },
    {
      "cell_type": "code",
      "source": [
        "df = pd.read_csv('/content/drive/MyDrive/colab/eda/4. Pharma/MEDICINE DATASET/A_Z_medicines_dataset_of_India.csv')"
      ],
      "metadata": {
        "id": "wF7fNI_bJU42"
      },
      "execution_count": 3,
      "outputs": []
    },
    {
      "cell_type": "markdown",
      "source": [
        "#**5. Inital Data Inspection**"
      ],
      "metadata": {
        "id": "7aUenGfAKXea"
      }
    },
    {
      "cell_type": "markdown",
      "source": [
        "To gain a foundational understanding of the dataset, we begin with an initial inspection that covers several essential aspects. This includes previewing the first few records to get a sense of the structure and values, examining the data types of each feature to ensure they align with expectations, and reviewing the overall shape and completeness of the dataset. We also generate statistical summaries for both numerical and categorical features to identify distributions, detect potential anomalies, and guide further steps in the analysis pipeline."
      ],
      "metadata": {
        "id": "fB9vt_AfKaz5"
      }
    },
    {
      "cell_type": "markdown",
      "source": [
        "##**5.1 Preview Few Records**"
      ],
      "metadata": {
        "id": "F9X91HCjKfSp"
      }
    },
    {
      "cell_type": "markdown",
      "source": [
        "### First Few Rows View"
      ],
      "metadata": {
        "id": "aagSpIz1IStR"
      }
    },
    {
      "cell_type": "code",
      "source": [
        "df.head()"
      ],
      "metadata": {
        "colab": {
          "base_uri": "https://localhost:8080/",
          "height": 206
        },
        "collapsed": true,
        "id": "UuAvc3TKKez1",
        "outputId": "d28b890e-f11d-4179-ee73-e3fc69913390"
      },
      "execution_count": 4,
      "outputs": [
        {
          "output_type": "execute_result",
          "data": {
            "text/plain": [
              "   id                      name  price(₹)  Is_discontinued  \\\n",
              "0   1  Augmentin 625 Duo Tablet    223.42            False   \n",
              "1   2       Azithral 500 Tablet    132.36            False   \n",
              "2   3          Ascoril LS Syrup    118.00            False   \n",
              "3   4      Allegra 120mg Tablet    218.81            False   \n",
              "4   5            Avil 25 Tablet     10.96            False   \n",
              "\n",
              "                      manufacturer_name       type         pack_size_label  \\\n",
              "0  Glaxo SmithKline Pharmaceuticals Ltd  allopathy     strip of 10 tablets   \n",
              "1           Alembic Pharmaceuticals Ltd  allopathy      strip of 5 tablets   \n",
              "2          Glenmark Pharmaceuticals Ltd  allopathy  bottle of 100 ml Syrup   \n",
              "3                     Sanofi India  Ltd  allopathy     strip of 10 tablets   \n",
              "4                     Sanofi India  Ltd  allopathy     strip of 15 tablets   \n",
              "\n",
              "      short_composition1          short_composition2  \n",
              "0  Amoxycillin  (500mg)      Clavulanic Acid (125mg)  \n",
              "1   Azithromycin (500mg)                         NaN  \n",
              "2   Ambroxol (30mg/5ml)    Levosalbutamol (1mg/5ml)   \n",
              "3   Fexofenadine (120mg)                         NaN  \n",
              "4     Pheniramine (25mg)                         NaN  "
            ],
            "text/html": [
              "\n",
              "  <div id=\"df-e93baa40-3045-4a9c-a813-290a89373ff3\" class=\"colab-df-container\">\n",
              "    <div>\n",
              "<style scoped>\n",
              "    .dataframe tbody tr th:only-of-type {\n",
              "        vertical-align: middle;\n",
              "    }\n",
              "\n",
              "    .dataframe tbody tr th {\n",
              "        vertical-align: top;\n",
              "    }\n",
              "\n",
              "    .dataframe thead th {\n",
              "        text-align: right;\n",
              "    }\n",
              "</style>\n",
              "<table border=\"1\" class=\"dataframe\">\n",
              "  <thead>\n",
              "    <tr style=\"text-align: right;\">\n",
              "      <th></th>\n",
              "      <th>id</th>\n",
              "      <th>name</th>\n",
              "      <th>price(₹)</th>\n",
              "      <th>Is_discontinued</th>\n",
              "      <th>manufacturer_name</th>\n",
              "      <th>type</th>\n",
              "      <th>pack_size_label</th>\n",
              "      <th>short_composition1</th>\n",
              "      <th>short_composition2</th>\n",
              "    </tr>\n",
              "  </thead>\n",
              "  <tbody>\n",
              "    <tr>\n",
              "      <th>0</th>\n",
              "      <td>1</td>\n",
              "      <td>Augmentin 625 Duo Tablet</td>\n",
              "      <td>223.42</td>\n",
              "      <td>False</td>\n",
              "      <td>Glaxo SmithKline Pharmaceuticals Ltd</td>\n",
              "      <td>allopathy</td>\n",
              "      <td>strip of 10 tablets</td>\n",
              "      <td>Amoxycillin  (500mg)</td>\n",
              "      <td>Clavulanic Acid (125mg)</td>\n",
              "    </tr>\n",
              "    <tr>\n",
              "      <th>1</th>\n",
              "      <td>2</td>\n",
              "      <td>Azithral 500 Tablet</td>\n",
              "      <td>132.36</td>\n",
              "      <td>False</td>\n",
              "      <td>Alembic Pharmaceuticals Ltd</td>\n",
              "      <td>allopathy</td>\n",
              "      <td>strip of 5 tablets</td>\n",
              "      <td>Azithromycin (500mg)</td>\n",
              "      <td>NaN</td>\n",
              "    </tr>\n",
              "    <tr>\n",
              "      <th>2</th>\n",
              "      <td>3</td>\n",
              "      <td>Ascoril LS Syrup</td>\n",
              "      <td>118.00</td>\n",
              "      <td>False</td>\n",
              "      <td>Glenmark Pharmaceuticals Ltd</td>\n",
              "      <td>allopathy</td>\n",
              "      <td>bottle of 100 ml Syrup</td>\n",
              "      <td>Ambroxol (30mg/5ml)</td>\n",
              "      <td>Levosalbutamol (1mg/5ml)</td>\n",
              "    </tr>\n",
              "    <tr>\n",
              "      <th>3</th>\n",
              "      <td>4</td>\n",
              "      <td>Allegra 120mg Tablet</td>\n",
              "      <td>218.81</td>\n",
              "      <td>False</td>\n",
              "      <td>Sanofi India  Ltd</td>\n",
              "      <td>allopathy</td>\n",
              "      <td>strip of 10 tablets</td>\n",
              "      <td>Fexofenadine (120mg)</td>\n",
              "      <td>NaN</td>\n",
              "    </tr>\n",
              "    <tr>\n",
              "      <th>4</th>\n",
              "      <td>5</td>\n",
              "      <td>Avil 25 Tablet</td>\n",
              "      <td>10.96</td>\n",
              "      <td>False</td>\n",
              "      <td>Sanofi India  Ltd</td>\n",
              "      <td>allopathy</td>\n",
              "      <td>strip of 15 tablets</td>\n",
              "      <td>Pheniramine (25mg)</td>\n",
              "      <td>NaN</td>\n",
              "    </tr>\n",
              "  </tbody>\n",
              "</table>\n",
              "</div>\n",
              "    <div class=\"colab-df-buttons\">\n",
              "\n",
              "  <div class=\"colab-df-container\">\n",
              "    <button class=\"colab-df-convert\" onclick=\"convertToInteractive('df-e93baa40-3045-4a9c-a813-290a89373ff3')\"\n",
              "            title=\"Convert this dataframe to an interactive table.\"\n",
              "            style=\"display:none;\">\n",
              "\n",
              "  <svg xmlns=\"http://www.w3.org/2000/svg\" height=\"24px\" viewBox=\"0 -960 960 960\">\n",
              "    <path d=\"M120-120v-720h720v720H120Zm60-500h600v-160H180v160Zm220 220h160v-160H400v160Zm0 220h160v-160H400v160ZM180-400h160v-160H180v160Zm440 0h160v-160H620v160ZM180-180h160v-160H180v160Zm440 0h160v-160H620v160Z\"/>\n",
              "  </svg>\n",
              "    </button>\n",
              "\n",
              "  <style>\n",
              "    .colab-df-container {\n",
              "      display:flex;\n",
              "      gap: 12px;\n",
              "    }\n",
              "\n",
              "    .colab-df-convert {\n",
              "      background-color: #E8F0FE;\n",
              "      border: none;\n",
              "      border-radius: 50%;\n",
              "      cursor: pointer;\n",
              "      display: none;\n",
              "      fill: #1967D2;\n",
              "      height: 32px;\n",
              "      padding: 0 0 0 0;\n",
              "      width: 32px;\n",
              "    }\n",
              "\n",
              "    .colab-df-convert:hover {\n",
              "      background-color: #E2EBFA;\n",
              "      box-shadow: 0px 1px 2px rgba(60, 64, 67, 0.3), 0px 1px 3px 1px rgba(60, 64, 67, 0.15);\n",
              "      fill: #174EA6;\n",
              "    }\n",
              "\n",
              "    .colab-df-buttons div {\n",
              "      margin-bottom: 4px;\n",
              "    }\n",
              "\n",
              "    [theme=dark] .colab-df-convert {\n",
              "      background-color: #3B4455;\n",
              "      fill: #D2E3FC;\n",
              "    }\n",
              "\n",
              "    [theme=dark] .colab-df-convert:hover {\n",
              "      background-color: #434B5C;\n",
              "      box-shadow: 0px 1px 3px 1px rgba(0, 0, 0, 0.15);\n",
              "      filter: drop-shadow(0px 1px 2px rgba(0, 0, 0, 0.3));\n",
              "      fill: #FFFFFF;\n",
              "    }\n",
              "  </style>\n",
              "\n",
              "    <script>\n",
              "      const buttonEl =\n",
              "        document.querySelector('#df-e93baa40-3045-4a9c-a813-290a89373ff3 button.colab-df-convert');\n",
              "      buttonEl.style.display =\n",
              "        google.colab.kernel.accessAllowed ? 'block' : 'none';\n",
              "\n",
              "      async function convertToInteractive(key) {\n",
              "        const element = document.querySelector('#df-e93baa40-3045-4a9c-a813-290a89373ff3');\n",
              "        const dataTable =\n",
              "          await google.colab.kernel.invokeFunction('convertToInteractive',\n",
              "                                                    [key], {});\n",
              "        if (!dataTable) return;\n",
              "\n",
              "        const docLinkHtml = 'Like what you see? Visit the ' +\n",
              "          '<a target=\"_blank\" href=https://colab.research.google.com/notebooks/data_table.ipynb>data table notebook</a>'\n",
              "          + ' to learn more about interactive tables.';\n",
              "        element.innerHTML = '';\n",
              "        dataTable['output_type'] = 'display_data';\n",
              "        await google.colab.output.renderOutput(dataTable, element);\n",
              "        const docLink = document.createElement('div');\n",
              "        docLink.innerHTML = docLinkHtml;\n",
              "        element.appendChild(docLink);\n",
              "      }\n",
              "    </script>\n",
              "  </div>\n",
              "\n",
              "\n",
              "    <div id=\"df-de0c26cb-24e5-4c18-89cc-c7aceb5fc17c\">\n",
              "      <button class=\"colab-df-quickchart\" onclick=\"quickchart('df-de0c26cb-24e5-4c18-89cc-c7aceb5fc17c')\"\n",
              "                title=\"Suggest charts\"\n",
              "                style=\"display:none;\">\n",
              "\n",
              "<svg xmlns=\"http://www.w3.org/2000/svg\" height=\"24px\"viewBox=\"0 0 24 24\"\n",
              "     width=\"24px\">\n",
              "    <g>\n",
              "        <path d=\"M19 3H5c-1.1 0-2 .9-2 2v14c0 1.1.9 2 2 2h14c1.1 0 2-.9 2-2V5c0-1.1-.9-2-2-2zM9 17H7v-7h2v7zm4 0h-2V7h2v10zm4 0h-2v-4h2v4z\"/>\n",
              "    </g>\n",
              "</svg>\n",
              "      </button>\n",
              "\n",
              "<style>\n",
              "  .colab-df-quickchart {\n",
              "      --bg-color: #E8F0FE;\n",
              "      --fill-color: #1967D2;\n",
              "      --hover-bg-color: #E2EBFA;\n",
              "      --hover-fill-color: #174EA6;\n",
              "      --disabled-fill-color: #AAA;\n",
              "      --disabled-bg-color: #DDD;\n",
              "  }\n",
              "\n",
              "  [theme=dark] .colab-df-quickchart {\n",
              "      --bg-color: #3B4455;\n",
              "      --fill-color: #D2E3FC;\n",
              "      --hover-bg-color: #434B5C;\n",
              "      --hover-fill-color: #FFFFFF;\n",
              "      --disabled-bg-color: #3B4455;\n",
              "      --disabled-fill-color: #666;\n",
              "  }\n",
              "\n",
              "  .colab-df-quickchart {\n",
              "    background-color: var(--bg-color);\n",
              "    border: none;\n",
              "    border-radius: 50%;\n",
              "    cursor: pointer;\n",
              "    display: none;\n",
              "    fill: var(--fill-color);\n",
              "    height: 32px;\n",
              "    padding: 0;\n",
              "    width: 32px;\n",
              "  }\n",
              "\n",
              "  .colab-df-quickchart:hover {\n",
              "    background-color: var(--hover-bg-color);\n",
              "    box-shadow: 0 1px 2px rgba(60, 64, 67, 0.3), 0 1px 3px 1px rgba(60, 64, 67, 0.15);\n",
              "    fill: var(--button-hover-fill-color);\n",
              "  }\n",
              "\n",
              "  .colab-df-quickchart-complete:disabled,\n",
              "  .colab-df-quickchart-complete:disabled:hover {\n",
              "    background-color: var(--disabled-bg-color);\n",
              "    fill: var(--disabled-fill-color);\n",
              "    box-shadow: none;\n",
              "  }\n",
              "\n",
              "  .colab-df-spinner {\n",
              "    border: 2px solid var(--fill-color);\n",
              "    border-color: transparent;\n",
              "    border-bottom-color: var(--fill-color);\n",
              "    animation:\n",
              "      spin 1s steps(1) infinite;\n",
              "  }\n",
              "\n",
              "  @keyframes spin {\n",
              "    0% {\n",
              "      border-color: transparent;\n",
              "      border-bottom-color: var(--fill-color);\n",
              "      border-left-color: var(--fill-color);\n",
              "    }\n",
              "    20% {\n",
              "      border-color: transparent;\n",
              "      border-left-color: var(--fill-color);\n",
              "      border-top-color: var(--fill-color);\n",
              "    }\n",
              "    30% {\n",
              "      border-color: transparent;\n",
              "      border-left-color: var(--fill-color);\n",
              "      border-top-color: var(--fill-color);\n",
              "      border-right-color: var(--fill-color);\n",
              "    }\n",
              "    40% {\n",
              "      border-color: transparent;\n",
              "      border-right-color: var(--fill-color);\n",
              "      border-top-color: var(--fill-color);\n",
              "    }\n",
              "    60% {\n",
              "      border-color: transparent;\n",
              "      border-right-color: var(--fill-color);\n",
              "    }\n",
              "    80% {\n",
              "      border-color: transparent;\n",
              "      border-right-color: var(--fill-color);\n",
              "      border-bottom-color: var(--fill-color);\n",
              "    }\n",
              "    90% {\n",
              "      border-color: transparent;\n",
              "      border-bottom-color: var(--fill-color);\n",
              "    }\n",
              "  }\n",
              "</style>\n",
              "\n",
              "      <script>\n",
              "        async function quickchart(key) {\n",
              "          const quickchartButtonEl =\n",
              "            document.querySelector('#' + key + ' button');\n",
              "          quickchartButtonEl.disabled = true;  // To prevent multiple clicks.\n",
              "          quickchartButtonEl.classList.add('colab-df-spinner');\n",
              "          try {\n",
              "            const charts = await google.colab.kernel.invokeFunction(\n",
              "                'suggestCharts', [key], {});\n",
              "          } catch (error) {\n",
              "            console.error('Error during call to suggestCharts:', error);\n",
              "          }\n",
              "          quickchartButtonEl.classList.remove('colab-df-spinner');\n",
              "          quickchartButtonEl.classList.add('colab-df-quickchart-complete');\n",
              "        }\n",
              "        (() => {\n",
              "          let quickchartButtonEl =\n",
              "            document.querySelector('#df-de0c26cb-24e5-4c18-89cc-c7aceb5fc17c button');\n",
              "          quickchartButtonEl.style.display =\n",
              "            google.colab.kernel.accessAllowed ? 'block' : 'none';\n",
              "        })();\n",
              "      </script>\n",
              "    </div>\n",
              "\n",
              "    </div>\n",
              "  </div>\n"
            ],
            "application/vnd.google.colaboratory.intrinsic+json": {
              "type": "dataframe",
              "variable_name": "df"
            }
          },
          "metadata": {},
          "execution_count": 4
        }
      ]
    },
    {
      "cell_type": "markdown",
      "source": [
        "### Last Few Rows View"
      ],
      "metadata": {
        "id": "4wqfhzEhIcQl"
      }
    },
    {
      "cell_type": "code",
      "source": [
        "df.tail()"
      ],
      "metadata": {
        "colab": {
          "base_uri": "https://localhost:8080/",
          "height": 258
        },
        "collapsed": true,
        "id": "ulxYP6VWLj9w",
        "outputId": "7e07e7e6-f38d-4f28-9f18-4234c1e0d4dd"
      },
      "execution_count": 5,
      "outputs": [
        {
          "output_type": "execute_result",
          "data": {
            "text/plain": [
              "            id                           name  price(₹)  Is_discontinued  \\\n",
              "253968  253969  Ziyapod 100mg Oral Suspension      62.3            False   \n",
              "253969  253970            Zemhart 30mg Tablet      54.0            False   \n",
              "253970  253971              Zivex 25mg Tablet      57.0            False   \n",
              "253971  253972        ZI Fast 500mg Injection     152.0            False   \n",
              "253972  253973      Zyvocol 1% Dusting Powder     110.0            False   \n",
              "\n",
              "                            manufacturer_name       type  \\\n",
              "253968            Ziyana Lifesciences Pvt Ltd  allopathy   \n",
              "253969                 Leeford Healthcare Ltd  allopathy   \n",
              "253970                          Euro Organics  allopathy   \n",
              "253971  Burgeon Health Series Private Limited  allopathy   \n",
              "253972                         GBK Healthcare  allopathy   \n",
              "\n",
              "                        pack_size_label            short_composition1  \\\n",
              "253968  bottle of 30 ml Oral Suspension  Cefpodoxime Proxetil (100mg)   \n",
              "253969              strip of 10 tablets              Diltiazem (30mg)   \n",
              "253970              strip of 10 tablets            Hydroxyzine (25mg)   \n",
              "253971              vial of 1 Injection          Azithromycin (500mg)   \n",
              "253972   bottle of 75 gm Dusting Powder         Clotrimazole (1% w/w)   \n",
              "\n",
              "       short_composition2  \n",
              "253968                NaN  \n",
              "253969                NaN  \n",
              "253970                NaN  \n",
              "253971                NaN  \n",
              "253972                NaN  "
            ],
            "text/html": [
              "\n",
              "  <div id=\"df-3b3a3035-fe64-4e82-987a-7ac59fde0863\" class=\"colab-df-container\">\n",
              "    <div>\n",
              "<style scoped>\n",
              "    .dataframe tbody tr th:only-of-type {\n",
              "        vertical-align: middle;\n",
              "    }\n",
              "\n",
              "    .dataframe tbody tr th {\n",
              "        vertical-align: top;\n",
              "    }\n",
              "\n",
              "    .dataframe thead th {\n",
              "        text-align: right;\n",
              "    }\n",
              "</style>\n",
              "<table border=\"1\" class=\"dataframe\">\n",
              "  <thead>\n",
              "    <tr style=\"text-align: right;\">\n",
              "      <th></th>\n",
              "      <th>id</th>\n",
              "      <th>name</th>\n",
              "      <th>price(₹)</th>\n",
              "      <th>Is_discontinued</th>\n",
              "      <th>manufacturer_name</th>\n",
              "      <th>type</th>\n",
              "      <th>pack_size_label</th>\n",
              "      <th>short_composition1</th>\n",
              "      <th>short_composition2</th>\n",
              "    </tr>\n",
              "  </thead>\n",
              "  <tbody>\n",
              "    <tr>\n",
              "      <th>253968</th>\n",
              "      <td>253969</td>\n",
              "      <td>Ziyapod 100mg Oral Suspension</td>\n",
              "      <td>62.3</td>\n",
              "      <td>False</td>\n",
              "      <td>Ziyana Lifesciences Pvt Ltd</td>\n",
              "      <td>allopathy</td>\n",
              "      <td>bottle of 30 ml Oral Suspension</td>\n",
              "      <td>Cefpodoxime Proxetil (100mg)</td>\n",
              "      <td>NaN</td>\n",
              "    </tr>\n",
              "    <tr>\n",
              "      <th>253969</th>\n",
              "      <td>253970</td>\n",
              "      <td>Zemhart 30mg Tablet</td>\n",
              "      <td>54.0</td>\n",
              "      <td>False</td>\n",
              "      <td>Leeford Healthcare Ltd</td>\n",
              "      <td>allopathy</td>\n",
              "      <td>strip of 10 tablets</td>\n",
              "      <td>Diltiazem (30mg)</td>\n",
              "      <td>NaN</td>\n",
              "    </tr>\n",
              "    <tr>\n",
              "      <th>253970</th>\n",
              "      <td>253971</td>\n",
              "      <td>Zivex 25mg Tablet</td>\n",
              "      <td>57.0</td>\n",
              "      <td>False</td>\n",
              "      <td>Euro Organics</td>\n",
              "      <td>allopathy</td>\n",
              "      <td>strip of 10 tablets</td>\n",
              "      <td>Hydroxyzine (25mg)</td>\n",
              "      <td>NaN</td>\n",
              "    </tr>\n",
              "    <tr>\n",
              "      <th>253971</th>\n",
              "      <td>253972</td>\n",
              "      <td>ZI Fast 500mg Injection</td>\n",
              "      <td>152.0</td>\n",
              "      <td>False</td>\n",
              "      <td>Burgeon Health Series Private Limited</td>\n",
              "      <td>allopathy</td>\n",
              "      <td>vial of 1 Injection</td>\n",
              "      <td>Azithromycin (500mg)</td>\n",
              "      <td>NaN</td>\n",
              "    </tr>\n",
              "    <tr>\n",
              "      <th>253972</th>\n",
              "      <td>253973</td>\n",
              "      <td>Zyvocol 1% Dusting Powder</td>\n",
              "      <td>110.0</td>\n",
              "      <td>False</td>\n",
              "      <td>GBK Healthcare</td>\n",
              "      <td>allopathy</td>\n",
              "      <td>bottle of 75 gm Dusting Powder</td>\n",
              "      <td>Clotrimazole (1% w/w)</td>\n",
              "      <td>NaN</td>\n",
              "    </tr>\n",
              "  </tbody>\n",
              "</table>\n",
              "</div>\n",
              "    <div class=\"colab-df-buttons\">\n",
              "\n",
              "  <div class=\"colab-df-container\">\n",
              "    <button class=\"colab-df-convert\" onclick=\"convertToInteractive('df-3b3a3035-fe64-4e82-987a-7ac59fde0863')\"\n",
              "            title=\"Convert this dataframe to an interactive table.\"\n",
              "            style=\"display:none;\">\n",
              "\n",
              "  <svg xmlns=\"http://www.w3.org/2000/svg\" height=\"24px\" viewBox=\"0 -960 960 960\">\n",
              "    <path d=\"M120-120v-720h720v720H120Zm60-500h600v-160H180v160Zm220 220h160v-160H400v160Zm0 220h160v-160H400v160ZM180-400h160v-160H180v160Zm440 0h160v-160H620v160ZM180-180h160v-160H180v160Zm440 0h160v-160H620v160Z\"/>\n",
              "  </svg>\n",
              "    </button>\n",
              "\n",
              "  <style>\n",
              "    .colab-df-container {\n",
              "      display:flex;\n",
              "      gap: 12px;\n",
              "    }\n",
              "\n",
              "    .colab-df-convert {\n",
              "      background-color: #E8F0FE;\n",
              "      border: none;\n",
              "      border-radius: 50%;\n",
              "      cursor: pointer;\n",
              "      display: none;\n",
              "      fill: #1967D2;\n",
              "      height: 32px;\n",
              "      padding: 0 0 0 0;\n",
              "      width: 32px;\n",
              "    }\n",
              "\n",
              "    .colab-df-convert:hover {\n",
              "      background-color: #E2EBFA;\n",
              "      box-shadow: 0px 1px 2px rgba(60, 64, 67, 0.3), 0px 1px 3px 1px rgba(60, 64, 67, 0.15);\n",
              "      fill: #174EA6;\n",
              "    }\n",
              "\n",
              "    .colab-df-buttons div {\n",
              "      margin-bottom: 4px;\n",
              "    }\n",
              "\n",
              "    [theme=dark] .colab-df-convert {\n",
              "      background-color: #3B4455;\n",
              "      fill: #D2E3FC;\n",
              "    }\n",
              "\n",
              "    [theme=dark] .colab-df-convert:hover {\n",
              "      background-color: #434B5C;\n",
              "      box-shadow: 0px 1px 3px 1px rgba(0, 0, 0, 0.15);\n",
              "      filter: drop-shadow(0px 1px 2px rgba(0, 0, 0, 0.3));\n",
              "      fill: #FFFFFF;\n",
              "    }\n",
              "  </style>\n",
              "\n",
              "    <script>\n",
              "      const buttonEl =\n",
              "        document.querySelector('#df-3b3a3035-fe64-4e82-987a-7ac59fde0863 button.colab-df-convert');\n",
              "      buttonEl.style.display =\n",
              "        google.colab.kernel.accessAllowed ? 'block' : 'none';\n",
              "\n",
              "      async function convertToInteractive(key) {\n",
              "        const element = document.querySelector('#df-3b3a3035-fe64-4e82-987a-7ac59fde0863');\n",
              "        const dataTable =\n",
              "          await google.colab.kernel.invokeFunction('convertToInteractive',\n",
              "                                                    [key], {});\n",
              "        if (!dataTable) return;\n",
              "\n",
              "        const docLinkHtml = 'Like what you see? Visit the ' +\n",
              "          '<a target=\"_blank\" href=https://colab.research.google.com/notebooks/data_table.ipynb>data table notebook</a>'\n",
              "          + ' to learn more about interactive tables.';\n",
              "        element.innerHTML = '';\n",
              "        dataTable['output_type'] = 'display_data';\n",
              "        await google.colab.output.renderOutput(dataTable, element);\n",
              "        const docLink = document.createElement('div');\n",
              "        docLink.innerHTML = docLinkHtml;\n",
              "        element.appendChild(docLink);\n",
              "      }\n",
              "    </script>\n",
              "  </div>\n",
              "\n",
              "\n",
              "    <div id=\"df-3c83f3c1-b679-49a3-a3a3-addddf8b0511\">\n",
              "      <button class=\"colab-df-quickchart\" onclick=\"quickchart('df-3c83f3c1-b679-49a3-a3a3-addddf8b0511')\"\n",
              "                title=\"Suggest charts\"\n",
              "                style=\"display:none;\">\n",
              "\n",
              "<svg xmlns=\"http://www.w3.org/2000/svg\" height=\"24px\"viewBox=\"0 0 24 24\"\n",
              "     width=\"24px\">\n",
              "    <g>\n",
              "        <path d=\"M19 3H5c-1.1 0-2 .9-2 2v14c0 1.1.9 2 2 2h14c1.1 0 2-.9 2-2V5c0-1.1-.9-2-2-2zM9 17H7v-7h2v7zm4 0h-2V7h2v10zm4 0h-2v-4h2v4z\"/>\n",
              "    </g>\n",
              "</svg>\n",
              "      </button>\n",
              "\n",
              "<style>\n",
              "  .colab-df-quickchart {\n",
              "      --bg-color: #E8F0FE;\n",
              "      --fill-color: #1967D2;\n",
              "      --hover-bg-color: #E2EBFA;\n",
              "      --hover-fill-color: #174EA6;\n",
              "      --disabled-fill-color: #AAA;\n",
              "      --disabled-bg-color: #DDD;\n",
              "  }\n",
              "\n",
              "  [theme=dark] .colab-df-quickchart {\n",
              "      --bg-color: #3B4455;\n",
              "      --fill-color: #D2E3FC;\n",
              "      --hover-bg-color: #434B5C;\n",
              "      --hover-fill-color: #FFFFFF;\n",
              "      --disabled-bg-color: #3B4455;\n",
              "      --disabled-fill-color: #666;\n",
              "  }\n",
              "\n",
              "  .colab-df-quickchart {\n",
              "    background-color: var(--bg-color);\n",
              "    border: none;\n",
              "    border-radius: 50%;\n",
              "    cursor: pointer;\n",
              "    display: none;\n",
              "    fill: var(--fill-color);\n",
              "    height: 32px;\n",
              "    padding: 0;\n",
              "    width: 32px;\n",
              "  }\n",
              "\n",
              "  .colab-df-quickchart:hover {\n",
              "    background-color: var(--hover-bg-color);\n",
              "    box-shadow: 0 1px 2px rgba(60, 64, 67, 0.3), 0 1px 3px 1px rgba(60, 64, 67, 0.15);\n",
              "    fill: var(--button-hover-fill-color);\n",
              "  }\n",
              "\n",
              "  .colab-df-quickchart-complete:disabled,\n",
              "  .colab-df-quickchart-complete:disabled:hover {\n",
              "    background-color: var(--disabled-bg-color);\n",
              "    fill: var(--disabled-fill-color);\n",
              "    box-shadow: none;\n",
              "  }\n",
              "\n",
              "  .colab-df-spinner {\n",
              "    border: 2px solid var(--fill-color);\n",
              "    border-color: transparent;\n",
              "    border-bottom-color: var(--fill-color);\n",
              "    animation:\n",
              "      spin 1s steps(1) infinite;\n",
              "  }\n",
              "\n",
              "  @keyframes spin {\n",
              "    0% {\n",
              "      border-color: transparent;\n",
              "      border-bottom-color: var(--fill-color);\n",
              "      border-left-color: var(--fill-color);\n",
              "    }\n",
              "    20% {\n",
              "      border-color: transparent;\n",
              "      border-left-color: var(--fill-color);\n",
              "      border-top-color: var(--fill-color);\n",
              "    }\n",
              "    30% {\n",
              "      border-color: transparent;\n",
              "      border-left-color: var(--fill-color);\n",
              "      border-top-color: var(--fill-color);\n",
              "      border-right-color: var(--fill-color);\n",
              "    }\n",
              "    40% {\n",
              "      border-color: transparent;\n",
              "      border-right-color: var(--fill-color);\n",
              "      border-top-color: var(--fill-color);\n",
              "    }\n",
              "    60% {\n",
              "      border-color: transparent;\n",
              "      border-right-color: var(--fill-color);\n",
              "    }\n",
              "    80% {\n",
              "      border-color: transparent;\n",
              "      border-right-color: var(--fill-color);\n",
              "      border-bottom-color: var(--fill-color);\n",
              "    }\n",
              "    90% {\n",
              "      border-color: transparent;\n",
              "      border-bottom-color: var(--fill-color);\n",
              "    }\n",
              "  }\n",
              "</style>\n",
              "\n",
              "      <script>\n",
              "        async function quickchart(key) {\n",
              "          const quickchartButtonEl =\n",
              "            document.querySelector('#' + key + ' button');\n",
              "          quickchartButtonEl.disabled = true;  // To prevent multiple clicks.\n",
              "          quickchartButtonEl.classList.add('colab-df-spinner');\n",
              "          try {\n",
              "            const charts = await google.colab.kernel.invokeFunction(\n",
              "                'suggestCharts', [key], {});\n",
              "          } catch (error) {\n",
              "            console.error('Error during call to suggestCharts:', error);\n",
              "          }\n",
              "          quickchartButtonEl.classList.remove('colab-df-spinner');\n",
              "          quickchartButtonEl.classList.add('colab-df-quickchart-complete');\n",
              "        }\n",
              "        (() => {\n",
              "          let quickchartButtonEl =\n",
              "            document.querySelector('#df-3c83f3c1-b679-49a3-a3a3-addddf8b0511 button');\n",
              "          quickchartButtonEl.style.display =\n",
              "            google.colab.kernel.accessAllowed ? 'block' : 'none';\n",
              "        })();\n",
              "      </script>\n",
              "    </div>\n",
              "\n",
              "    </div>\n",
              "  </div>\n"
            ],
            "application/vnd.google.colaboratory.intrinsic+json": {
              "type": "dataframe",
              "repr_error": "0"
            }
          },
          "metadata": {},
          "execution_count": 5
        }
      ]
    },
    {
      "cell_type": "markdown",
      "source": [
        "### Columns"
      ],
      "metadata": {
        "id": "_FHyOWNaIhSH"
      }
    },
    {
      "cell_type": "code",
      "source": [
        "df.columns"
      ],
      "metadata": {
        "colab": {
          "base_uri": "https://localhost:8080/"
        },
        "id": "rQHlpfV9Lssb",
        "outputId": "ce73cebc-12b8-4038-af34-ad02f5169c18"
      },
      "execution_count": 6,
      "outputs": [
        {
          "output_type": "execute_result",
          "data": {
            "text/plain": [
              "Index(['id', 'name', 'price(₹)', 'Is_discontinued', 'manufacturer_name',\n",
              "       'type', 'pack_size_label', 'short_composition1', 'short_composition2'],\n",
              "      dtype='object')"
            ]
          },
          "metadata": {},
          "execution_count": 6
        }
      ]
    },
    {
      "cell_type": "markdown",
      "source": [
        "##**5.2 Check the Dataset Shape And Size**"
      ],
      "metadata": {
        "id": "W8exdNfaLvZ3"
      }
    },
    {
      "cell_type": "markdown",
      "source": [
        "### Shape Of Dataset"
      ],
      "metadata": {
        "id": "g74ZZal7Il8T"
      }
    },
    {
      "cell_type": "code",
      "source": [
        "df.shape"
      ],
      "metadata": {
        "colab": {
          "base_uri": "https://localhost:8080/"
        },
        "id": "S_aYaPlSL0kQ",
        "outputId": "f27af89b-9a00-485b-ee39-d4246425ed38"
      },
      "execution_count": 7,
      "outputs": [
        {
          "output_type": "execute_result",
          "data": {
            "text/plain": [
              "(253973, 9)"
            ]
          },
          "metadata": {},
          "execution_count": 7
        }
      ]
    },
    {
      "cell_type": "markdown",
      "source": [
        "**Interpretation**- *The data has 253973 rows and 9 columns*"
      ],
      "metadata": {
        "id": "yq-pF_P8L3aq"
      }
    },
    {
      "cell_type": "markdown",
      "source": [
        "### Size Of Dataset"
      ],
      "metadata": {
        "id": "u4d49TtvIp7J"
      }
    },
    {
      "cell_type": "code",
      "source": [
        "df.size"
      ],
      "metadata": {
        "colab": {
          "base_uri": "https://localhost:8080/"
        },
        "id": "97pSoIGmG6Jt",
        "outputId": "a027b92a-3921-45f9-a190-8715c20ff562"
      },
      "execution_count": 24,
      "outputs": [
        {
          "output_type": "execute_result",
          "data": {
            "text/plain": [
              "2285757"
            ]
          },
          "metadata": {},
          "execution_count": 24
        }
      ]
    },
    {
      "cell_type": "markdown",
      "source": [
        "##**5.3 Dataset Summary Overview**"
      ],
      "metadata": {
        "id": "N7p8Kky7L_zH"
      }
    },
    {
      "cell_type": "markdown",
      "source": [
        "Check for missing values and data types of each column."
      ],
      "metadata": {
        "id": "gXLBHCriMNS4"
      }
    },
    {
      "cell_type": "markdown",
      "source": [
        "###Data Information"
      ],
      "metadata": {
        "id": "3SgJ5NJHH_kv"
      }
    },
    {
      "cell_type": "code",
      "source": [
        "df.info()"
      ],
      "metadata": {
        "colab": {
          "base_uri": "https://localhost:8080/"
        },
        "id": "YdBmvikPMH2V",
        "outputId": "5c8a965a-71bf-427b-9692-625ef2ed280c"
      },
      "execution_count": 8,
      "outputs": [
        {
          "output_type": "stream",
          "name": "stdout",
          "text": [
            "<class 'pandas.core.frame.DataFrame'>\n",
            "RangeIndex: 253973 entries, 0 to 253972\n",
            "Data columns (total 9 columns):\n",
            " #   Column              Non-Null Count   Dtype  \n",
            "---  ------              --------------   -----  \n",
            " 0   id                  253973 non-null  int64  \n",
            " 1   name                253973 non-null  object \n",
            " 2   price(₹)            253973 non-null  float64\n",
            " 3   Is_discontinued     253973 non-null  bool   \n",
            " 4   manufacturer_name   253973 non-null  object \n",
            " 5   type                253973 non-null  object \n",
            " 6   pack_size_label     253973 non-null  object \n",
            " 7   short_composition1  253973 non-null  object \n",
            " 8   short_composition2  112171 non-null  object \n",
            "dtypes: bool(1), float64(1), int64(1), object(6)\n",
            "memory usage: 15.7+ MB\n"
          ]
        }
      ]
    },
    {
      "cell_type": "markdown",
      "source": [
        "**Interpretation**- *The dataset contains 253,973 records and 9 columns, covering medicine ID, name, price, manufacturer, type, pack size, and composition details. One column (short_composition2) has missing values. Data types include integers, floats, booleans, and object strings.*"
      ],
      "metadata": {
        "id": "rtCyrm7_M7p2"
      }
    },
    {
      "cell_type": "markdown",
      "source": [
        "###Data Types"
      ],
      "metadata": {
        "id": "OPxxoRc5H8Zk"
      }
    },
    {
      "cell_type": "code",
      "source": [
        "df.dtypes"
      ],
      "metadata": {
        "colab": {
          "base_uri": "https://localhost:8080/",
          "height": 366
        },
        "id": "UcEXcqRkHJCa",
        "outputId": "e47fccd0-7bb9-4055-ce1f-b03a9d9d1707"
      },
      "execution_count": 26,
      "outputs": [
        {
          "output_type": "execute_result",
          "data": {
            "text/plain": [
              "id                      int64\n",
              "name                   object\n",
              "price(₹)              float64\n",
              "is_discontinued          bool\n",
              "manufacturer_name      object\n",
              "type                   object\n",
              "pack_size_label        object\n",
              "short_composition1     object\n",
              "short_composition2     object\n",
              "dtype: object"
            ],
            "text/html": [
              "<div>\n",
              "<style scoped>\n",
              "    .dataframe tbody tr th:only-of-type {\n",
              "        vertical-align: middle;\n",
              "    }\n",
              "\n",
              "    .dataframe tbody tr th {\n",
              "        vertical-align: top;\n",
              "    }\n",
              "\n",
              "    .dataframe thead th {\n",
              "        text-align: right;\n",
              "    }\n",
              "</style>\n",
              "<table border=\"1\" class=\"dataframe\">\n",
              "  <thead>\n",
              "    <tr style=\"text-align: right;\">\n",
              "      <th></th>\n",
              "      <th>0</th>\n",
              "    </tr>\n",
              "  </thead>\n",
              "  <tbody>\n",
              "    <tr>\n",
              "      <th>id</th>\n",
              "      <td>int64</td>\n",
              "    </tr>\n",
              "    <tr>\n",
              "      <th>name</th>\n",
              "      <td>object</td>\n",
              "    </tr>\n",
              "    <tr>\n",
              "      <th>price(₹)</th>\n",
              "      <td>float64</td>\n",
              "    </tr>\n",
              "    <tr>\n",
              "      <th>is_discontinued</th>\n",
              "      <td>bool</td>\n",
              "    </tr>\n",
              "    <tr>\n",
              "      <th>manufacturer_name</th>\n",
              "      <td>object</td>\n",
              "    </tr>\n",
              "    <tr>\n",
              "      <th>type</th>\n",
              "      <td>object</td>\n",
              "    </tr>\n",
              "    <tr>\n",
              "      <th>pack_size_label</th>\n",
              "      <td>object</td>\n",
              "    </tr>\n",
              "    <tr>\n",
              "      <th>short_composition1</th>\n",
              "      <td>object</td>\n",
              "    </tr>\n",
              "    <tr>\n",
              "      <th>short_composition2</th>\n",
              "      <td>object</td>\n",
              "    </tr>\n",
              "  </tbody>\n",
              "</table>\n",
              "</div><br><label><b>dtype:</b> object</label>"
            ]
          },
          "metadata": {},
          "execution_count": 26
        }
      ]
    },
    {
      "cell_type": "markdown",
      "source": [
        "##**5.4 Statistical Summary Of Dataset**"
      ],
      "metadata": {
        "id": "NaKyTK8RNKF9"
      }
    },
    {
      "cell_type": "markdown",
      "source": [
        "Generating statistical summary of numerical columns to understand their distribution, central tendency, and spread across the dataset"
      ],
      "metadata": {
        "id": "l0UJCiCHNSOB"
      }
    },
    {
      "cell_type": "markdown",
      "source": [
        "### Statistical Summary Of Numerical Columns"
      ],
      "metadata": {
        "id": "fIzLYd58I_cU"
      }
    },
    {
      "cell_type": "code",
      "source": [
        "df.select_dtypes(include='number').describe().round()"
      ],
      "metadata": {
        "colab": {
          "base_uri": "https://localhost:8080/",
          "height": 300
        },
        "id": "gx5xxoyBNU0Z",
        "outputId": "819af3ce-34c8-4316-b784-a087afc31592"
      },
      "execution_count": 9,
      "outputs": [
        {
          "output_type": "execute_result",
          "data": {
            "text/plain": [
              "             id  price(₹)\n",
              "count  253973.0  253973.0\n",
              "mean   126987.0     271.0\n",
              "std     73316.0    3030.0\n",
              "min         1.0       0.0\n",
              "25%     63494.0      48.0\n",
              "50%    126987.0      79.0\n",
              "75%    190480.0     140.0\n",
              "max    253973.0  436000.0"
            ],
            "text/html": [
              "\n",
              "  <div id=\"df-8d52ceda-5a5c-4409-b338-f12d9c2785f9\" class=\"colab-df-container\">\n",
              "    <div>\n",
              "<style scoped>\n",
              "    .dataframe tbody tr th:only-of-type {\n",
              "        vertical-align: middle;\n",
              "    }\n",
              "\n",
              "    .dataframe tbody tr th {\n",
              "        vertical-align: top;\n",
              "    }\n",
              "\n",
              "    .dataframe thead th {\n",
              "        text-align: right;\n",
              "    }\n",
              "</style>\n",
              "<table border=\"1\" class=\"dataframe\">\n",
              "  <thead>\n",
              "    <tr style=\"text-align: right;\">\n",
              "      <th></th>\n",
              "      <th>id</th>\n",
              "      <th>price(₹)</th>\n",
              "    </tr>\n",
              "  </thead>\n",
              "  <tbody>\n",
              "    <tr>\n",
              "      <th>count</th>\n",
              "      <td>253973.0</td>\n",
              "      <td>253973.0</td>\n",
              "    </tr>\n",
              "    <tr>\n",
              "      <th>mean</th>\n",
              "      <td>126987.0</td>\n",
              "      <td>271.0</td>\n",
              "    </tr>\n",
              "    <tr>\n",
              "      <th>std</th>\n",
              "      <td>73316.0</td>\n",
              "      <td>3030.0</td>\n",
              "    </tr>\n",
              "    <tr>\n",
              "      <th>min</th>\n",
              "      <td>1.0</td>\n",
              "      <td>0.0</td>\n",
              "    </tr>\n",
              "    <tr>\n",
              "      <th>25%</th>\n",
              "      <td>63494.0</td>\n",
              "      <td>48.0</td>\n",
              "    </tr>\n",
              "    <tr>\n",
              "      <th>50%</th>\n",
              "      <td>126987.0</td>\n",
              "      <td>79.0</td>\n",
              "    </tr>\n",
              "    <tr>\n",
              "      <th>75%</th>\n",
              "      <td>190480.0</td>\n",
              "      <td>140.0</td>\n",
              "    </tr>\n",
              "    <tr>\n",
              "      <th>max</th>\n",
              "      <td>253973.0</td>\n",
              "      <td>436000.0</td>\n",
              "    </tr>\n",
              "  </tbody>\n",
              "</table>\n",
              "</div>\n",
              "    <div class=\"colab-df-buttons\">\n",
              "\n",
              "  <div class=\"colab-df-container\">\n",
              "    <button class=\"colab-df-convert\" onclick=\"convertToInteractive('df-8d52ceda-5a5c-4409-b338-f12d9c2785f9')\"\n",
              "            title=\"Convert this dataframe to an interactive table.\"\n",
              "            style=\"display:none;\">\n",
              "\n",
              "  <svg xmlns=\"http://www.w3.org/2000/svg\" height=\"24px\" viewBox=\"0 -960 960 960\">\n",
              "    <path d=\"M120-120v-720h720v720H120Zm60-500h600v-160H180v160Zm220 220h160v-160H400v160Zm0 220h160v-160H400v160ZM180-400h160v-160H180v160Zm440 0h160v-160H620v160ZM180-180h160v-160H180v160Zm440 0h160v-160H620v160Z\"/>\n",
              "  </svg>\n",
              "    </button>\n",
              "\n",
              "  <style>\n",
              "    .colab-df-container {\n",
              "      display:flex;\n",
              "      gap: 12px;\n",
              "    }\n",
              "\n",
              "    .colab-df-convert {\n",
              "      background-color: #E8F0FE;\n",
              "      border: none;\n",
              "      border-radius: 50%;\n",
              "      cursor: pointer;\n",
              "      display: none;\n",
              "      fill: #1967D2;\n",
              "      height: 32px;\n",
              "      padding: 0 0 0 0;\n",
              "      width: 32px;\n",
              "    }\n",
              "\n",
              "    .colab-df-convert:hover {\n",
              "      background-color: #E2EBFA;\n",
              "      box-shadow: 0px 1px 2px rgba(60, 64, 67, 0.3), 0px 1px 3px 1px rgba(60, 64, 67, 0.15);\n",
              "      fill: #174EA6;\n",
              "    }\n",
              "\n",
              "    .colab-df-buttons div {\n",
              "      margin-bottom: 4px;\n",
              "    }\n",
              "\n",
              "    [theme=dark] .colab-df-convert {\n",
              "      background-color: #3B4455;\n",
              "      fill: #D2E3FC;\n",
              "    }\n",
              "\n",
              "    [theme=dark] .colab-df-convert:hover {\n",
              "      background-color: #434B5C;\n",
              "      box-shadow: 0px 1px 3px 1px rgba(0, 0, 0, 0.15);\n",
              "      filter: drop-shadow(0px 1px 2px rgba(0, 0, 0, 0.3));\n",
              "      fill: #FFFFFF;\n",
              "    }\n",
              "  </style>\n",
              "\n",
              "    <script>\n",
              "      const buttonEl =\n",
              "        document.querySelector('#df-8d52ceda-5a5c-4409-b338-f12d9c2785f9 button.colab-df-convert');\n",
              "      buttonEl.style.display =\n",
              "        google.colab.kernel.accessAllowed ? 'block' : 'none';\n",
              "\n",
              "      async function convertToInteractive(key) {\n",
              "        const element = document.querySelector('#df-8d52ceda-5a5c-4409-b338-f12d9c2785f9');\n",
              "        const dataTable =\n",
              "          await google.colab.kernel.invokeFunction('convertToInteractive',\n",
              "                                                    [key], {});\n",
              "        if (!dataTable) return;\n",
              "\n",
              "        const docLinkHtml = 'Like what you see? Visit the ' +\n",
              "          '<a target=\"_blank\" href=https://colab.research.google.com/notebooks/data_table.ipynb>data table notebook</a>'\n",
              "          + ' to learn more about interactive tables.';\n",
              "        element.innerHTML = '';\n",
              "        dataTable['output_type'] = 'display_data';\n",
              "        await google.colab.output.renderOutput(dataTable, element);\n",
              "        const docLink = document.createElement('div');\n",
              "        docLink.innerHTML = docLinkHtml;\n",
              "        element.appendChild(docLink);\n",
              "      }\n",
              "    </script>\n",
              "  </div>\n",
              "\n",
              "\n",
              "    <div id=\"df-a721bdbc-79f2-436f-bd93-65e46d425b21\">\n",
              "      <button class=\"colab-df-quickchart\" onclick=\"quickchart('df-a721bdbc-79f2-436f-bd93-65e46d425b21')\"\n",
              "                title=\"Suggest charts\"\n",
              "                style=\"display:none;\">\n",
              "\n",
              "<svg xmlns=\"http://www.w3.org/2000/svg\" height=\"24px\"viewBox=\"0 0 24 24\"\n",
              "     width=\"24px\">\n",
              "    <g>\n",
              "        <path d=\"M19 3H5c-1.1 0-2 .9-2 2v14c0 1.1.9 2 2 2h14c1.1 0 2-.9 2-2V5c0-1.1-.9-2-2-2zM9 17H7v-7h2v7zm4 0h-2V7h2v10zm4 0h-2v-4h2v4z\"/>\n",
              "    </g>\n",
              "</svg>\n",
              "      </button>\n",
              "\n",
              "<style>\n",
              "  .colab-df-quickchart {\n",
              "      --bg-color: #E8F0FE;\n",
              "      --fill-color: #1967D2;\n",
              "      --hover-bg-color: #E2EBFA;\n",
              "      --hover-fill-color: #174EA6;\n",
              "      --disabled-fill-color: #AAA;\n",
              "      --disabled-bg-color: #DDD;\n",
              "  }\n",
              "\n",
              "  [theme=dark] .colab-df-quickchart {\n",
              "      --bg-color: #3B4455;\n",
              "      --fill-color: #D2E3FC;\n",
              "      --hover-bg-color: #434B5C;\n",
              "      --hover-fill-color: #FFFFFF;\n",
              "      --disabled-bg-color: #3B4455;\n",
              "      --disabled-fill-color: #666;\n",
              "  }\n",
              "\n",
              "  .colab-df-quickchart {\n",
              "    background-color: var(--bg-color);\n",
              "    border: none;\n",
              "    border-radius: 50%;\n",
              "    cursor: pointer;\n",
              "    display: none;\n",
              "    fill: var(--fill-color);\n",
              "    height: 32px;\n",
              "    padding: 0;\n",
              "    width: 32px;\n",
              "  }\n",
              "\n",
              "  .colab-df-quickchart:hover {\n",
              "    background-color: var(--hover-bg-color);\n",
              "    box-shadow: 0 1px 2px rgba(60, 64, 67, 0.3), 0 1px 3px 1px rgba(60, 64, 67, 0.15);\n",
              "    fill: var(--button-hover-fill-color);\n",
              "  }\n",
              "\n",
              "  .colab-df-quickchart-complete:disabled,\n",
              "  .colab-df-quickchart-complete:disabled:hover {\n",
              "    background-color: var(--disabled-bg-color);\n",
              "    fill: var(--disabled-fill-color);\n",
              "    box-shadow: none;\n",
              "  }\n",
              "\n",
              "  .colab-df-spinner {\n",
              "    border: 2px solid var(--fill-color);\n",
              "    border-color: transparent;\n",
              "    border-bottom-color: var(--fill-color);\n",
              "    animation:\n",
              "      spin 1s steps(1) infinite;\n",
              "  }\n",
              "\n",
              "  @keyframes spin {\n",
              "    0% {\n",
              "      border-color: transparent;\n",
              "      border-bottom-color: var(--fill-color);\n",
              "      border-left-color: var(--fill-color);\n",
              "    }\n",
              "    20% {\n",
              "      border-color: transparent;\n",
              "      border-left-color: var(--fill-color);\n",
              "      border-top-color: var(--fill-color);\n",
              "    }\n",
              "    30% {\n",
              "      border-color: transparent;\n",
              "      border-left-color: var(--fill-color);\n",
              "      border-top-color: var(--fill-color);\n",
              "      border-right-color: var(--fill-color);\n",
              "    }\n",
              "    40% {\n",
              "      border-color: transparent;\n",
              "      border-right-color: var(--fill-color);\n",
              "      border-top-color: var(--fill-color);\n",
              "    }\n",
              "    60% {\n",
              "      border-color: transparent;\n",
              "      border-right-color: var(--fill-color);\n",
              "    }\n",
              "    80% {\n",
              "      border-color: transparent;\n",
              "      border-right-color: var(--fill-color);\n",
              "      border-bottom-color: var(--fill-color);\n",
              "    }\n",
              "    90% {\n",
              "      border-color: transparent;\n",
              "      border-bottom-color: var(--fill-color);\n",
              "    }\n",
              "  }\n",
              "</style>\n",
              "\n",
              "      <script>\n",
              "        async function quickchart(key) {\n",
              "          const quickchartButtonEl =\n",
              "            document.querySelector('#' + key + ' button');\n",
              "          quickchartButtonEl.disabled = true;  // To prevent multiple clicks.\n",
              "          quickchartButtonEl.classList.add('colab-df-spinner');\n",
              "          try {\n",
              "            const charts = await google.colab.kernel.invokeFunction(\n",
              "                'suggestCharts', [key], {});\n",
              "          } catch (error) {\n",
              "            console.error('Error during call to suggestCharts:', error);\n",
              "          }\n",
              "          quickchartButtonEl.classList.remove('colab-df-spinner');\n",
              "          quickchartButtonEl.classList.add('colab-df-quickchart-complete');\n",
              "        }\n",
              "        (() => {\n",
              "          let quickchartButtonEl =\n",
              "            document.querySelector('#df-a721bdbc-79f2-436f-bd93-65e46d425b21 button');\n",
              "          quickchartButtonEl.style.display =\n",
              "            google.colab.kernel.accessAllowed ? 'block' : 'none';\n",
              "        })();\n",
              "      </script>\n",
              "    </div>\n",
              "\n",
              "    </div>\n",
              "  </div>\n"
            ],
            "application/vnd.google.colaboratory.intrinsic+json": {
              "type": "dataframe",
              "summary": "{\n  \"name\": \"df\",\n  \"rows\": 8,\n  \"fields\": [\n    {\n      \"column\": \"id\",\n      \"properties\": {\n        \"dtype\": \"number\",\n        \"std\": 91532.77693488117,\n        \"min\": 1.0,\n        \"max\": 253973.0,\n        \"num_unique_values\": 6,\n        \"samples\": [\n          253973.0,\n          126987.0,\n          190480.0\n        ],\n        \"semantic_type\": \"\",\n        \"description\": \"\"\n      }\n    },\n    {\n      \"column\": \"price(\\u20b9)\",\n      \"properties\": {\n        \"dtype\": \"number\",\n        \"std\": 166683.05140504366,\n        \"min\": 0.0,\n        \"max\": 436000.0,\n        \"num_unique_values\": 8,\n        \"samples\": [\n          271.0,\n          79.0,\n          253973.0\n        ],\n        \"semantic_type\": \"\",\n        \"description\": \"\"\n      }\n    }\n  ]\n}"
            }
          },
          "metadata": {},
          "execution_count": 9
        }
      ]
    },
    {
      "cell_type": "markdown",
      "source": [
        "### Statistical Summary of Category Columns"
      ],
      "metadata": {
        "id": "ImNivi0iTDp2"
      }
    },
    {
      "cell_type": "code",
      "source": [
        "df.select_dtypes(include='object').describe()"
      ],
      "metadata": {
        "colab": {
          "base_uri": "https://localhost:8080/",
          "height": 175
        },
        "id": "yriOLc2YTESE",
        "outputId": "4f140210-b7f9-4a87-b7b5-70f062974252"
      },
      "execution_count": 10,
      "outputs": [
        {
          "output_type": "execute_result",
          "data": {
            "text/plain": [
              "                    name                  manufacturer_name       type  \\\n",
              "count             253973                             253973     253973   \n",
              "unique            249398                               7648          1   \n",
              "top     NS 0.9% Infusion  Sun Pharmaceutical Industries Ltd  allopathy   \n",
              "freq                  12                               2986     253973   \n",
              "\n",
              "            pack_size_label    short_composition1   short_composition2  \n",
              "count                253973                253973               112171  \n",
              "unique                 1929                  8523                 2980  \n",
              "top     strip of 10 tablets  Aceclofenac (100mg)    Rabeprazole (20mg)  \n",
              "freq                 116540                  6930                 4743  "
            ],
            "text/html": [
              "\n",
              "  <div id=\"df-3034c871-36c0-4352-bfab-e888e11ef45f\" class=\"colab-df-container\">\n",
              "    <div>\n",
              "<style scoped>\n",
              "    .dataframe tbody tr th:only-of-type {\n",
              "        vertical-align: middle;\n",
              "    }\n",
              "\n",
              "    .dataframe tbody tr th {\n",
              "        vertical-align: top;\n",
              "    }\n",
              "\n",
              "    .dataframe thead th {\n",
              "        text-align: right;\n",
              "    }\n",
              "</style>\n",
              "<table border=\"1\" class=\"dataframe\">\n",
              "  <thead>\n",
              "    <tr style=\"text-align: right;\">\n",
              "      <th></th>\n",
              "      <th>name</th>\n",
              "      <th>manufacturer_name</th>\n",
              "      <th>type</th>\n",
              "      <th>pack_size_label</th>\n",
              "      <th>short_composition1</th>\n",
              "      <th>short_composition2</th>\n",
              "    </tr>\n",
              "  </thead>\n",
              "  <tbody>\n",
              "    <tr>\n",
              "      <th>count</th>\n",
              "      <td>253973</td>\n",
              "      <td>253973</td>\n",
              "      <td>253973</td>\n",
              "      <td>253973</td>\n",
              "      <td>253973</td>\n",
              "      <td>112171</td>\n",
              "    </tr>\n",
              "    <tr>\n",
              "      <th>unique</th>\n",
              "      <td>249398</td>\n",
              "      <td>7648</td>\n",
              "      <td>1</td>\n",
              "      <td>1929</td>\n",
              "      <td>8523</td>\n",
              "      <td>2980</td>\n",
              "    </tr>\n",
              "    <tr>\n",
              "      <th>top</th>\n",
              "      <td>NS 0.9% Infusion</td>\n",
              "      <td>Sun Pharmaceutical Industries Ltd</td>\n",
              "      <td>allopathy</td>\n",
              "      <td>strip of 10 tablets</td>\n",
              "      <td>Aceclofenac (100mg)</td>\n",
              "      <td>Rabeprazole (20mg)</td>\n",
              "    </tr>\n",
              "    <tr>\n",
              "      <th>freq</th>\n",
              "      <td>12</td>\n",
              "      <td>2986</td>\n",
              "      <td>253973</td>\n",
              "      <td>116540</td>\n",
              "      <td>6930</td>\n",
              "      <td>4743</td>\n",
              "    </tr>\n",
              "  </tbody>\n",
              "</table>\n",
              "</div>\n",
              "    <div class=\"colab-df-buttons\">\n",
              "\n",
              "  <div class=\"colab-df-container\">\n",
              "    <button class=\"colab-df-convert\" onclick=\"convertToInteractive('df-3034c871-36c0-4352-bfab-e888e11ef45f')\"\n",
              "            title=\"Convert this dataframe to an interactive table.\"\n",
              "            style=\"display:none;\">\n",
              "\n",
              "  <svg xmlns=\"http://www.w3.org/2000/svg\" height=\"24px\" viewBox=\"0 -960 960 960\">\n",
              "    <path d=\"M120-120v-720h720v720H120Zm60-500h600v-160H180v160Zm220 220h160v-160H400v160Zm0 220h160v-160H400v160ZM180-400h160v-160H180v160Zm440 0h160v-160H620v160ZM180-180h160v-160H180v160Zm440 0h160v-160H620v160Z\"/>\n",
              "  </svg>\n",
              "    </button>\n",
              "\n",
              "  <style>\n",
              "    .colab-df-container {\n",
              "      display:flex;\n",
              "      gap: 12px;\n",
              "    }\n",
              "\n",
              "    .colab-df-convert {\n",
              "      background-color: #E8F0FE;\n",
              "      border: none;\n",
              "      border-radius: 50%;\n",
              "      cursor: pointer;\n",
              "      display: none;\n",
              "      fill: #1967D2;\n",
              "      height: 32px;\n",
              "      padding: 0 0 0 0;\n",
              "      width: 32px;\n",
              "    }\n",
              "\n",
              "    .colab-df-convert:hover {\n",
              "      background-color: #E2EBFA;\n",
              "      box-shadow: 0px 1px 2px rgba(60, 64, 67, 0.3), 0px 1px 3px 1px rgba(60, 64, 67, 0.15);\n",
              "      fill: #174EA6;\n",
              "    }\n",
              "\n",
              "    .colab-df-buttons div {\n",
              "      margin-bottom: 4px;\n",
              "    }\n",
              "\n",
              "    [theme=dark] .colab-df-convert {\n",
              "      background-color: #3B4455;\n",
              "      fill: #D2E3FC;\n",
              "    }\n",
              "\n",
              "    [theme=dark] .colab-df-convert:hover {\n",
              "      background-color: #434B5C;\n",
              "      box-shadow: 0px 1px 3px 1px rgba(0, 0, 0, 0.15);\n",
              "      filter: drop-shadow(0px 1px 2px rgba(0, 0, 0, 0.3));\n",
              "      fill: #FFFFFF;\n",
              "    }\n",
              "  </style>\n",
              "\n",
              "    <script>\n",
              "      const buttonEl =\n",
              "        document.querySelector('#df-3034c871-36c0-4352-bfab-e888e11ef45f button.colab-df-convert');\n",
              "      buttonEl.style.display =\n",
              "        google.colab.kernel.accessAllowed ? 'block' : 'none';\n",
              "\n",
              "      async function convertToInteractive(key) {\n",
              "        const element = document.querySelector('#df-3034c871-36c0-4352-bfab-e888e11ef45f');\n",
              "        const dataTable =\n",
              "          await google.colab.kernel.invokeFunction('convertToInteractive',\n",
              "                                                    [key], {});\n",
              "        if (!dataTable) return;\n",
              "\n",
              "        const docLinkHtml = 'Like what you see? Visit the ' +\n",
              "          '<a target=\"_blank\" href=https://colab.research.google.com/notebooks/data_table.ipynb>data table notebook</a>'\n",
              "          + ' to learn more about interactive tables.';\n",
              "        element.innerHTML = '';\n",
              "        dataTable['output_type'] = 'display_data';\n",
              "        await google.colab.output.renderOutput(dataTable, element);\n",
              "        const docLink = document.createElement('div');\n",
              "        docLink.innerHTML = docLinkHtml;\n",
              "        element.appendChild(docLink);\n",
              "      }\n",
              "    </script>\n",
              "  </div>\n",
              "\n",
              "\n",
              "    <div id=\"df-d06ebc7e-79e3-43b6-abf3-cc46ecaad22c\">\n",
              "      <button class=\"colab-df-quickchart\" onclick=\"quickchart('df-d06ebc7e-79e3-43b6-abf3-cc46ecaad22c')\"\n",
              "                title=\"Suggest charts\"\n",
              "                style=\"display:none;\">\n",
              "\n",
              "<svg xmlns=\"http://www.w3.org/2000/svg\" height=\"24px\"viewBox=\"0 0 24 24\"\n",
              "     width=\"24px\">\n",
              "    <g>\n",
              "        <path d=\"M19 3H5c-1.1 0-2 .9-2 2v14c0 1.1.9 2 2 2h14c1.1 0 2-.9 2-2V5c0-1.1-.9-2-2-2zM9 17H7v-7h2v7zm4 0h-2V7h2v10zm4 0h-2v-4h2v4z\"/>\n",
              "    </g>\n",
              "</svg>\n",
              "      </button>\n",
              "\n",
              "<style>\n",
              "  .colab-df-quickchart {\n",
              "      --bg-color: #E8F0FE;\n",
              "      --fill-color: #1967D2;\n",
              "      --hover-bg-color: #E2EBFA;\n",
              "      --hover-fill-color: #174EA6;\n",
              "      --disabled-fill-color: #AAA;\n",
              "      --disabled-bg-color: #DDD;\n",
              "  }\n",
              "\n",
              "  [theme=dark] .colab-df-quickchart {\n",
              "      --bg-color: #3B4455;\n",
              "      --fill-color: #D2E3FC;\n",
              "      --hover-bg-color: #434B5C;\n",
              "      --hover-fill-color: #FFFFFF;\n",
              "      --disabled-bg-color: #3B4455;\n",
              "      --disabled-fill-color: #666;\n",
              "  }\n",
              "\n",
              "  .colab-df-quickchart {\n",
              "    background-color: var(--bg-color);\n",
              "    border: none;\n",
              "    border-radius: 50%;\n",
              "    cursor: pointer;\n",
              "    display: none;\n",
              "    fill: var(--fill-color);\n",
              "    height: 32px;\n",
              "    padding: 0;\n",
              "    width: 32px;\n",
              "  }\n",
              "\n",
              "  .colab-df-quickchart:hover {\n",
              "    background-color: var(--hover-bg-color);\n",
              "    box-shadow: 0 1px 2px rgba(60, 64, 67, 0.3), 0 1px 3px 1px rgba(60, 64, 67, 0.15);\n",
              "    fill: var(--button-hover-fill-color);\n",
              "  }\n",
              "\n",
              "  .colab-df-quickchart-complete:disabled,\n",
              "  .colab-df-quickchart-complete:disabled:hover {\n",
              "    background-color: var(--disabled-bg-color);\n",
              "    fill: var(--disabled-fill-color);\n",
              "    box-shadow: none;\n",
              "  }\n",
              "\n",
              "  .colab-df-spinner {\n",
              "    border: 2px solid var(--fill-color);\n",
              "    border-color: transparent;\n",
              "    border-bottom-color: var(--fill-color);\n",
              "    animation:\n",
              "      spin 1s steps(1) infinite;\n",
              "  }\n",
              "\n",
              "  @keyframes spin {\n",
              "    0% {\n",
              "      border-color: transparent;\n",
              "      border-bottom-color: var(--fill-color);\n",
              "      border-left-color: var(--fill-color);\n",
              "    }\n",
              "    20% {\n",
              "      border-color: transparent;\n",
              "      border-left-color: var(--fill-color);\n",
              "      border-top-color: var(--fill-color);\n",
              "    }\n",
              "    30% {\n",
              "      border-color: transparent;\n",
              "      border-left-color: var(--fill-color);\n",
              "      border-top-color: var(--fill-color);\n",
              "      border-right-color: var(--fill-color);\n",
              "    }\n",
              "    40% {\n",
              "      border-color: transparent;\n",
              "      border-right-color: var(--fill-color);\n",
              "      border-top-color: var(--fill-color);\n",
              "    }\n",
              "    60% {\n",
              "      border-color: transparent;\n",
              "      border-right-color: var(--fill-color);\n",
              "    }\n",
              "    80% {\n",
              "      border-color: transparent;\n",
              "      border-right-color: var(--fill-color);\n",
              "      border-bottom-color: var(--fill-color);\n",
              "    }\n",
              "    90% {\n",
              "      border-color: transparent;\n",
              "      border-bottom-color: var(--fill-color);\n",
              "    }\n",
              "  }\n",
              "</style>\n",
              "\n",
              "      <script>\n",
              "        async function quickchart(key) {\n",
              "          const quickchartButtonEl =\n",
              "            document.querySelector('#' + key + ' button');\n",
              "          quickchartButtonEl.disabled = true;  // To prevent multiple clicks.\n",
              "          quickchartButtonEl.classList.add('colab-df-spinner');\n",
              "          try {\n",
              "            const charts = await google.colab.kernel.invokeFunction(\n",
              "                'suggestCharts', [key], {});\n",
              "          } catch (error) {\n",
              "            console.error('Error during call to suggestCharts:', error);\n",
              "          }\n",
              "          quickchartButtonEl.classList.remove('colab-df-spinner');\n",
              "          quickchartButtonEl.classList.add('colab-df-quickchart-complete');\n",
              "        }\n",
              "        (() => {\n",
              "          let quickchartButtonEl =\n",
              "            document.querySelector('#df-d06ebc7e-79e3-43b6-abf3-cc46ecaad22c button');\n",
              "          quickchartButtonEl.style.display =\n",
              "            google.colab.kernel.accessAllowed ? 'block' : 'none';\n",
              "        })();\n",
              "      </script>\n",
              "    </div>\n",
              "\n",
              "    </div>\n",
              "  </div>\n"
            ],
            "application/vnd.google.colaboratory.intrinsic+json": {
              "type": "dataframe",
              "summary": "{\n  \"name\": \"df\",\n  \"rows\": 4,\n  \"fields\": [\n    {\n      \"column\": \"name\",\n      \"properties\": {\n        \"dtype\": \"string\",\n        \"num_unique_values\": 4,\n        \"samples\": [\n          249398,\n          \"12\",\n          \"253973\"\n        ],\n        \"semantic_type\": \"\",\n        \"description\": \"\"\n      }\n    },\n    {\n      \"column\": \"manufacturer_name\",\n      \"properties\": {\n        \"dtype\": \"string\",\n        \"num_unique_values\": 4,\n        \"samples\": [\n          7648,\n          \"2986\",\n          \"253973\"\n        ],\n        \"semantic_type\": \"\",\n        \"description\": \"\"\n      }\n    },\n    {\n      \"column\": \"type\",\n      \"properties\": {\n        \"dtype\": \"string\",\n        \"num_unique_values\": 3,\n        \"samples\": [\n          \"253973\",\n          1,\n          \"allopathy\"\n        ],\n        \"semantic_type\": \"\",\n        \"description\": \"\"\n      }\n    },\n    {\n      \"column\": \"pack_size_label\",\n      \"properties\": {\n        \"dtype\": \"string\",\n        \"num_unique_values\": 4,\n        \"samples\": [\n          1929,\n          \"116540\",\n          \"253973\"\n        ],\n        \"semantic_type\": \"\",\n        \"description\": \"\"\n      }\n    },\n    {\n      \"column\": \"short_composition1\",\n      \"properties\": {\n        \"dtype\": \"string\",\n        \"num_unique_values\": 4,\n        \"samples\": [\n          8523,\n          \"6930\",\n          \"253973\"\n        ],\n        \"semantic_type\": \"\",\n        \"description\": \"\"\n      }\n    },\n    {\n      \"column\": \"short_composition2\",\n      \"properties\": {\n        \"dtype\": \"string\",\n        \"num_unique_values\": 4,\n        \"samples\": [\n          2980,\n          \"4743\",\n          \"112171\"\n        ],\n        \"semantic_type\": \"\",\n        \"description\": \"\"\n      }\n    }\n  ]\n}"
            }
          },
          "metadata": {},
          "execution_count": 10
        }
      ]
    },
    {
      "cell_type": "markdown",
      "source": [
        "##**5.5 Check For Duplicates , Null Values,Unique Values**"
      ],
      "metadata": {
        "id": "ZbACPy3mJQZb"
      }
    },
    {
      "cell_type": "markdown",
      "source": [
        "### Check Duplicates Row"
      ],
      "metadata": {
        "id": "Z3WR0e7LJbKY"
      }
    },
    {
      "cell_type": "code",
      "source": [
        "df.duplicated().sum()"
      ],
      "metadata": {
        "colab": {
          "base_uri": "https://localhost:8080/"
        },
        "id": "zolXp8HVJfBt",
        "outputId": "f08e4b88-2891-4ff6-9d0b-1bb9fcfb7cf9"
      },
      "execution_count": 28,
      "outputs": [
        {
          "output_type": "execute_result",
          "data": {
            "text/plain": [
              "np.int64(0)"
            ]
          },
          "metadata": {},
          "execution_count": 28
        }
      ]
    },
    {
      "cell_type": "markdown",
      "source": [
        "### Check Null Values /Nan Values"
      ],
      "metadata": {
        "id": "jAALn3TMJhvM"
      }
    },
    {
      "cell_type": "code",
      "source": [
        "df.isnull().sum()"
      ],
      "metadata": {
        "colab": {
          "base_uri": "https://localhost:8080/",
          "height": 366
        },
        "id": "v1uFlBPAJkyi",
        "outputId": "7285ac70-564f-4137-c5e5-0429c1d72669"
      },
      "execution_count": 29,
      "outputs": [
        {
          "output_type": "execute_result",
          "data": {
            "text/plain": [
              "id                    0\n",
              "name                  0\n",
              "price(₹)              0\n",
              "is_discontinued       0\n",
              "manufacturer_name     0\n",
              "type                  0\n",
              "pack_size_label       0\n",
              "short_composition1    0\n",
              "short_composition2    0\n",
              "dtype: int64"
            ],
            "text/html": [
              "<div>\n",
              "<style scoped>\n",
              "    .dataframe tbody tr th:only-of-type {\n",
              "        vertical-align: middle;\n",
              "    }\n",
              "\n",
              "    .dataframe tbody tr th {\n",
              "        vertical-align: top;\n",
              "    }\n",
              "\n",
              "    .dataframe thead th {\n",
              "        text-align: right;\n",
              "    }\n",
              "</style>\n",
              "<table border=\"1\" class=\"dataframe\">\n",
              "  <thead>\n",
              "    <tr style=\"text-align: right;\">\n",
              "      <th></th>\n",
              "      <th>0</th>\n",
              "    </tr>\n",
              "  </thead>\n",
              "  <tbody>\n",
              "    <tr>\n",
              "      <th>id</th>\n",
              "      <td>0</td>\n",
              "    </tr>\n",
              "    <tr>\n",
              "      <th>name</th>\n",
              "      <td>0</td>\n",
              "    </tr>\n",
              "    <tr>\n",
              "      <th>price(₹)</th>\n",
              "      <td>0</td>\n",
              "    </tr>\n",
              "    <tr>\n",
              "      <th>is_discontinued</th>\n",
              "      <td>0</td>\n",
              "    </tr>\n",
              "    <tr>\n",
              "      <th>manufacturer_name</th>\n",
              "      <td>0</td>\n",
              "    </tr>\n",
              "    <tr>\n",
              "      <th>type</th>\n",
              "      <td>0</td>\n",
              "    </tr>\n",
              "    <tr>\n",
              "      <th>pack_size_label</th>\n",
              "      <td>0</td>\n",
              "    </tr>\n",
              "    <tr>\n",
              "      <th>short_composition1</th>\n",
              "      <td>0</td>\n",
              "    </tr>\n",
              "    <tr>\n",
              "      <th>short_composition2</th>\n",
              "      <td>0</td>\n",
              "    </tr>\n",
              "  </tbody>\n",
              "</table>\n",
              "</div><br><label><b>dtype:</b> int64</label>"
            ]
          },
          "metadata": {},
          "execution_count": 29
        }
      ]
    },
    {
      "cell_type": "markdown",
      "source": [
        "### Unique Values"
      ],
      "metadata": {
        "id": "DXsu6nkWLCkw"
      }
    },
    {
      "cell_type": "code",
      "source": [
        "df.nunique()  # Display the number of unique values in each column"
      ],
      "metadata": {
        "id": "dCN6LEVvLE0O"
      },
      "execution_count": null,
      "outputs": []
    },
    {
      "cell_type": "code",
      "source": [
        "for col in df.columns:\n",
        "    print(f\"Value counts for column: {col}\")\n",
        "    print(df[col].value_counts(dropna=False))  # dropna=False includes NaNs\n",
        "    print(\"-\"*50)\n"
      ],
      "metadata": {
        "id": "L6DVtrJ3Llen"
      },
      "execution_count": null,
      "outputs": []
    },
    {
      "cell_type": "markdown",
      "source": [],
      "metadata": {
        "id": "SjO_vVsEMAFb"
      }
    },
    {
      "cell_type": "markdown",
      "source": [
        "#**6. Data Cleaning And Preprocessing**"
      ],
      "metadata": {
        "id": "l8YolptzVg5u"
      }
    },
    {
      "cell_type": "markdown",
      "source": [
        "In this section, we focus on identifying and handling issues such as missing values, incorrect data types, duplicates, and inconsistent entries. Effective data cleaning ensures the dataset is accurate, complete, and ready for reliable analysis"
      ],
      "metadata": {
        "id": "-Ohhxu1KVgEE"
      }
    },
    {
      "cell_type": "markdown",
      "source": [
        "##**6.1 Handling Missing Values**"
      ],
      "metadata": {
        "id": "lRik9IvAW8FR"
      }
    },
    {
      "cell_type": "markdown",
      "source": [
        "Identifying and addressing missing values to ensure data completeness and reliability for accurate analysis."
      ],
      "metadata": {
        "id": "L7dzArv6W_ug"
      }
    },
    {
      "cell_type": "code",
      "source": [
        "df.isnull().sum()"
      ],
      "metadata": {
        "colab": {
          "base_uri": "https://localhost:8080/",
          "height": 366
        },
        "collapsed": true,
        "id": "_lQk7-fVW8ls",
        "outputId": "e19fefce-1c37-4960-fce3-5deefec2eb72"
      },
      "execution_count": 12,
      "outputs": [
        {
          "output_type": "execute_result",
          "data": {
            "text/plain": [
              "id                         0\n",
              "name                       0\n",
              "price(₹)                   0\n",
              "Is_discontinued            0\n",
              "manufacturer_name          0\n",
              "type                       0\n",
              "pack_size_label            0\n",
              "short_composition1         0\n",
              "short_composition2    141802\n",
              "dtype: int64"
            ],
            "text/html": [
              "<div>\n",
              "<style scoped>\n",
              "    .dataframe tbody tr th:only-of-type {\n",
              "        vertical-align: middle;\n",
              "    }\n",
              "\n",
              "    .dataframe tbody tr th {\n",
              "        vertical-align: top;\n",
              "    }\n",
              "\n",
              "    .dataframe thead th {\n",
              "        text-align: right;\n",
              "    }\n",
              "</style>\n",
              "<table border=\"1\" class=\"dataframe\">\n",
              "  <thead>\n",
              "    <tr style=\"text-align: right;\">\n",
              "      <th></th>\n",
              "      <th>0</th>\n",
              "    </tr>\n",
              "  </thead>\n",
              "  <tbody>\n",
              "    <tr>\n",
              "      <th>id</th>\n",
              "      <td>0</td>\n",
              "    </tr>\n",
              "    <tr>\n",
              "      <th>name</th>\n",
              "      <td>0</td>\n",
              "    </tr>\n",
              "    <tr>\n",
              "      <th>price(₹)</th>\n",
              "      <td>0</td>\n",
              "    </tr>\n",
              "    <tr>\n",
              "      <th>Is_discontinued</th>\n",
              "      <td>0</td>\n",
              "    </tr>\n",
              "    <tr>\n",
              "      <th>manufacturer_name</th>\n",
              "      <td>0</td>\n",
              "    </tr>\n",
              "    <tr>\n",
              "      <th>type</th>\n",
              "      <td>0</td>\n",
              "    </tr>\n",
              "    <tr>\n",
              "      <th>pack_size_label</th>\n",
              "      <td>0</td>\n",
              "    </tr>\n",
              "    <tr>\n",
              "      <th>short_composition1</th>\n",
              "      <td>0</td>\n",
              "    </tr>\n",
              "    <tr>\n",
              "      <th>short_composition2</th>\n",
              "      <td>141802</td>\n",
              "    </tr>\n",
              "  </tbody>\n",
              "</table>\n",
              "</div><br><label><b>dtype:</b> int64</label>"
            ]
          },
          "metadata": {},
          "execution_count": 12
        }
      ]
    },
    {
      "cell_type": "markdown",
      "source": [
        "**Interpretation** - * The above data shows that the column short_composition2 has 141802 null data*"
      ],
      "metadata": {
        "id": "E0_1Al2bXEUw"
      }
    },
    {
      "cell_type": "markdown",
      "source": [
        "**Using Fillna() to replace the empty cell with 'NA'.**"
      ],
      "metadata": {
        "id": "oryoOmB6YGLR"
      }
    },
    {
      "cell_type": "code",
      "source": [
        "#using fillna to replace the empty cell in the short_composition2 column\n",
        "df['short_composition2'] = df['short_composition2'].fillna('NA')"
      ],
      "metadata": {
        "id": "ws2QFjZCXUh9"
      },
      "execution_count": 42,
      "outputs": []
    },
    {
      "cell_type": "markdown",
      "source": [
        "##**6.2 Standardize Column Name**"
      ],
      "metadata": {
        "id": "2YdFEuu4Y-kn"
      }
    },
    {
      "cell_type": "markdown",
      "source": [
        "Standardizing column names to ensure consistency, readability, and ease of use throughout the analysis."
      ],
      "metadata": {
        "id": "wklZUUJFY_L8"
      }
    },
    {
      "cell_type": "code",
      "source": [
        "df.columns = df.columns.str.lower().str.replace(' ','_')"
      ],
      "metadata": {
        "id": "mNA2fIMIZB11"
      },
      "execution_count": 15,
      "outputs": []
    },
    {
      "cell_type": "code",
      "source": [
        "df.columns"
      ],
      "metadata": {
        "colab": {
          "base_uri": "https://localhost:8080/"
        },
        "id": "rfEgo9rLZE7e",
        "outputId": "a6146356-3619-43ed-e38c-d69daff95213"
      },
      "execution_count": 16,
      "outputs": [
        {
          "output_type": "execute_result",
          "data": {
            "text/plain": [
              "Index(['id', 'name', 'price(₹)', 'is_discontinued', 'manufacturer_name',\n",
              "       'type', 'pack_size_label', 'short_composition1', 'short_composition2'],\n",
              "      dtype='object')"
            ]
          },
          "metadata": {},
          "execution_count": 16
        }
      ]
    },
    {
      "cell_type": "markdown",
      "source": [
        "##**6.3 Identify Numerical And Categorical Columns**"
      ],
      "metadata": {
        "id": "E3d88lfdZJ2e"
      }
    },
    {
      "cell_type": "markdown",
      "source": [
        "Identifying numerical and categorical columns to guide appropriate analysis, visualization, and preprocessing techniques."
      ],
      "metadata": {
        "id": "e3agx_4EZKnn"
      }
    },
    {
      "cell_type": "code",
      "source": [
        "categorical_columns = df.select_dtypes(include='object').columns\n",
        "numerical_columns = df.select_dtypes(include='number').columns"
      ],
      "metadata": {
        "id": "GA7330ERZM7b"
      },
      "execution_count": 17,
      "outputs": []
    },
    {
      "cell_type": "code",
      "source": [
        "# Display categorical columns\n",
        "categorical_columns"
      ],
      "metadata": {
        "colab": {
          "base_uri": "https://localhost:8080/"
        },
        "id": "q06qY4L-ZPPH",
        "outputId": "96b603d1-af79-424f-e4db-813f3a095846"
      },
      "execution_count": 18,
      "outputs": [
        {
          "output_type": "execute_result",
          "data": {
            "text/plain": [
              "Index(['name', 'manufacturer_name', 'type', 'pack_size_label',\n",
              "       'short_composition1', 'short_composition2'],\n",
              "      dtype='object')"
            ]
          },
          "metadata": {},
          "execution_count": 18
        }
      ]
    },
    {
      "cell_type": "code",
      "source": [
        "# Display numerical columns\n",
        "numerical_columns"
      ],
      "metadata": {
        "colab": {
          "base_uri": "https://localhost:8080/"
        },
        "id": "U7obD_jcZTih",
        "outputId": "026c3e06-bdad-4f1a-94d5-fffe12d56141"
      },
      "execution_count": 19,
      "outputs": [
        {
          "output_type": "execute_result",
          "data": {
            "text/plain": [
              "Index(['id', 'price(₹)'], dtype='object')"
            ]
          },
          "metadata": {},
          "execution_count": 19
        }
      ]
    },
    {
      "cell_type": "markdown",
      "source": [
        "##**6.4 Standardize Categorical Features And Explore Unique Values**"
      ],
      "metadata": {
        "id": "NWvJidgoZhaj"
      }
    },
    {
      "cell_type": "markdown",
      "source": [
        "In this section, we clean the categorical columns by standardizing text formats—removing extra spaces and ensuring consistent casing. This step is essential to avoid misleading results when analyzing unique categories. After cleaning, we explore the unique values in each categorical column to understand the feature space and identify any anomalies or inconsistencies."
      ],
      "metadata": {
        "id": "24MshO-wZh2q"
      }
    },
    {
      "cell_type": "markdown",
      "source": [
        "### Standardizing Categorical Features"
      ],
      "metadata": {
        "id": "WDn2ocMAZr8q"
      }
    },
    {
      "cell_type": "code",
      "source": [
        "# Clean categorical columns: strip whitespaces and lowercase all strings\n",
        "for cols in categorical_columns:\n",
        "  df[cols] = df[cols].str.strip().str.lower()"
      ],
      "metadata": {
        "id": "odkAV6WvZl7w"
      },
      "execution_count": 20,
      "outputs": []
    },
    {
      "cell_type": "markdown",
      "source": [
        "### Explore Unique Values in Categorical Features"
      ],
      "metadata": {
        "id": "vn5VoGNQZuq1"
      }
    },
    {
      "cell_type": "code",
      "source": [
        "for col in categorical_columns:\n",
        "  print(f\"Unique Values in {col}:\")\n",
        "  print(df[col].unique())\n",
        "  print(\"\\n\")"
      ],
      "metadata": {
        "colab": {
          "base_uri": "https://localhost:8080/"
        },
        "collapsed": true,
        "id": "_or7KCv4ZwnJ",
        "outputId": "cf981c9c-9d2b-4040-dfc6-7c0aae06bb98"
      },
      "execution_count": 21,
      "outputs": [
        {
          "output_type": "stream",
          "name": "stdout",
          "text": [
            "Unique Values in name:\n",
            "['augmentin 625 duo tablet' 'azithral 500 tablet' 'ascoril ls syrup' ...\n",
            " 'zivex 25mg tablet' 'zi fast 500mg injection' 'zyvocol 1% dusting powder']\n",
            "\n",
            "\n",
            "Unique Values in manufacturer_name:\n",
            "['glaxo smithkline pharmaceuticals ltd' 'alembic pharmaceuticals ltd'\n",
            " 'glenmark pharmaceuticals ltd' ... 'bliss life pharmaceuticals'\n",
            " 'z plus remedies' 'anamiva life sciences']\n",
            "\n",
            "\n",
            "Unique Values in type:\n",
            "['allopathy']\n",
            "\n",
            "\n",
            "Unique Values in pack_size_label:\n",
            "['strip of 10 tablets' 'strip of 5 tablets' 'bottle of 100 ml syrup' ...\n",
            " 'bottle of 6 gm oral suspension' 'bottle of 6 gm powder'\n",
            " 'packet of 14 rheocap']\n",
            "\n",
            "\n",
            "Unique Values in short_composition1:\n",
            "['amoxycillin  (500mg)' 'azithromycin (500mg)' 'ambroxol (30mg/5ml)' ...\n",
            " 'idarubicin (25mg)' 'artesunate (250mg)' 'artesunate (500mg)']\n",
            "\n",
            "\n",
            "Unique Values in short_composition2:\n",
            "['clavulanic acid (125mg)' 'na' 'levosalbutamol (1mg/5ml)' ...\n",
            " 'formoterol (na)' 'linseed oil (10% w/w)' 'tazobactum (62.25mg)']\n",
            "\n",
            "\n"
          ]
        }
      ]
    },
    {
      "cell_type": "markdown",
      "source": [
        "##**6.5 Outlier Detections for Numerical Features**\n",
        "\n",
        "In this step, we investigate potential outliers in the numerical columns using boxplots. Outliers can indicate data entry errors or unusual behavior."
      ],
      "metadata": {
        "id": "u3FA34qoZ3pJ"
      }
    },
    {
      "cell_type": "markdown",
      "source": [
        "### Visualizing Outlier Through BoxPlots"
      ],
      "metadata": {
        "id": "YEL66-7hZ6gT"
      }
    },
    {
      "cell_type": "code",
      "source": [
        "# Set up figure size\n",
        "plt.figure(figsize=(5 * len(numerical_columns), 5))  # Dynamic width\n",
        "\n",
        "# Loop through each numerical column and plot a boxplot\n",
        "for i, col in enumerate(numerical_columns):\n",
        "    # Create dynamic subplots (1 row, N columns)\n",
        "    plt.subplot(1, len(numerical_columns), i + 1)\n",
        "\n",
        "    sns.boxplot(y=df[col], color='skyblue')\n",
        "    plt.title(f'Boxplot of {col}')\n",
        "    plt.ylabel('')\n",
        "    plt.grid(True)\n",
        "\n",
        "plt.tight_layout()\n",
        "plt.show()"
      ],
      "metadata": {
        "colab": {
          "base_uri": "https://localhost:8080/",
          "height": 501
        },
        "id": "qxXB5p2pZ7FL",
        "outputId": "80f3626c-aefb-4a87-89ff-55bc321d4ab7"
      },
      "execution_count": 22,
      "outputs": [
        {
          "output_type": "display_data",
          "data": {
            "text/plain": [
              "<Figure size 1000x500 with 2 Axes>"
            ],
            "image/png": "[encoded data removed]"
          },
          "metadata": {}
        }
      ]
    },
    {
      "cell_type": "markdown",
      "source": [
        "**Interpretation**\n",
        "\n",
        "**Boxplot of id:**\n",
        "\n",
        "The id values are uniformly spread across the dataset.\n",
        "\n",
        "As expected for a unique identifier, it shows no outliers or skewness.\n",
        "\n",
        "This column should be treated as an identifier only, not used for analysis or modeling.\n",
        "\n",
        "**Boxplot of price(₹):**\n",
        "\n",
        "There is heavy right skew indicating a large number of high-price outliers.\n",
        "\n",
        "Most medicine prices lie in a lower range, but a few medicines are priced above ₹100,000 and even ₹400,000.\n",
        "\n",
        "These extreme values may distort summary statistics like mean — consider using the median or log transformation for analysis."
      ],
      "metadata": {
        "id": "mjWYIAGDaMuk"
      }
    },
    {
      "cell_type": "markdown",
      "source": [
        "### Statistical Detection of Outliers using IQR\n",
        "\n",
        "In addition to visual inspection through boxplots, we use the IQR method to programmatically detect potential outliers in the numerical features. This helps in identifying the number and position of values that lie far outside the normal range and could distort our analysis.\n"
      ],
      "metadata": {
        "id": "Gir6T63JaVxg"
      }
    },
    {
      "cell_type": "code",
      "source": [
        "# Function to detect outliers using the IQR method\n",
        "def detect_outliers_iqr(data, column):\n",
        "    Q1 = data[column].quantile(0.25)  # First quartile (25%)\n",
        "    Q3 = data[column].quantile(0.75)  # Third quartile (75%)\n",
        "    IQR = Q3 - Q1                     # Interquartile range\n",
        "    lower_bound = Q1 - 1.5 * IQR      # Lower limit for non-outliers\n",
        "    upper_bound = Q3 + 1.5 * IQR      # Upper limit for non-outliers\n",
        "    outliers = data[(data[column] < lower_bound) | (data[column] > upper_bound)]\n",
        "    return outliers\n",
        "\n",
        "# Loop through numerical columns and report number of outliers in each\n",
        "for col in numerical_columns:\n",
        "    outliers = detect_outliers_iqr(df, col)\n",
        "    print(f\"{col}: {len(outliers)} outliers detected\")"
      ],
      "metadata": {
        "id": "MJbsja16aZ7r",
        "outputId": "719d9624-dabb-4cdd-a8b2-68dfb7b4bb96",
        "colab": {
          "base_uri": "https://localhost:8080/"
        }
      },
      "execution_count": 44,
      "outputs": [
        {
          "output_type": "stream",
          "name": "stdout",
          "text": [
            "id: 0 outliers detected\n",
            "price(₹): 22517 outliers detected\n"
          ]
        }
      ]
    },
    {
      "cell_type": "markdown",
      "source": [
        "# **7. Data Visualization**"
      ],
      "metadata": {
        "id": "R2RPkCGPPbgV"
      }
    },
    {
      "cell_type": "markdown",
      "source": [
        "## **Univariate Analysis**"
      ],
      "metadata": {
        "id": "lvZjN19LP1tM"
      }
    },
    {
      "cell_type": "markdown",
      "source": [
        "### Chart-1 Top 20 Most Frequent Product Names"
      ],
      "metadata": {
        "id": "S2_1UoFYP_AL"
      }
    },
    {
      "cell_type": "code",
      "source": [
        "# Chart No.1  Data Visualization\n",
        "df['name'].value_counts().head(20).plot(kind='bar', figsize=(15,5), color='skyblue')\n",
        "plt.title(\"Top 20 Most Frequent Product Names\")\n",
        "plt.xlabel(\"Product Name\")\n",
        "plt.ylabel(\"Count\")\n",
        "plt.xticks(rotation=90)\n",
        "plt.show()\n"
      ],
      "metadata": {
        "colab": {
          "base_uri": "https://localhost:8080/",
          "height": 693
        },
        "id": "IYmZ_59sP75S",
        "outputId": "af440075-055e-49a9-edd5-5c004f9c4052"
      },
      "execution_count": 50,
      "outputs": [
        {
          "output_type": "display_data",
          "data": {
            "text/plain": [
              "<Figure size 1500x500 with 1 Axes>"
            ],
            "image/png": "[encoded data removed]"
          },
          "metadata": {}
        }
      ]
    },
    {
      "cell_type": "markdown",
      "source": [
        "#### Why did you pick the specific chart?\n"
      ],
      "metadata": {
        "id": "FCaHbzoqQIA-"
      }
    },
    {
      "cell_type": "markdown",
      "source": [
        "*  **Name** is categorical. Bar chart shows which products are most common in the dataset."
      ],
      "metadata": {
        "id": "du2uYIQwQY65"
      }
    },
    {
      "cell_type": "markdown",
      "source": [
        "####What is/are the insight(s) found from the chart?\n"
      ],
      "metadata": {
        "id": "86m7wrlrQQeY"
      }
    },
    {
      "cell_type": "markdown",
      "source": [],
      "metadata": {
        "id": "IaXZuM0TQZ4W"
      }
    },
    {
      "cell_type": "markdown",
      "source": [
        "####Will the gained insights help creating a positive business impact?\n",
        "Are there any insights that lead to negative growth? Justify with specific reason."
      ],
      "metadata": {
        "id": "glzhBtK6QWQK"
      }
    },
    {
      "cell_type": "markdown",
      "source": [],
      "metadata": {
        "id": "Y7YM1OS7Qazt"
      }
    },
    {
      "cell_type": "markdown",
      "source": [
        "### Chart-2 Price Distribution"
      ],
      "metadata": {
        "id": "i08ne8zYQhtp"
      }
    },
    {
      "cell_type": "code",
      "source": [
        "# Chart No.2  Data Visualization\n",
        "\n",
        "# Boxplot for outliers\n",
        "sns.boxplot(x=df['price(₹)'])\n",
        "plt.title(\"Price Boxplot (Outliers)\")\n",
        "plt.show()\n",
        "\n",
        "sns.histplot(df['price(₹)'], bins=50, kde=True)\n",
        "plt.title(\"Price Distribution\")\n",
        "plt.xlabel(\"Price (₹)\")\n",
        "plt.ylabel(\"Frequency\")\n",
        "plt.show()\n"
      ],
      "metadata": {
        "colab": {
          "base_uri": "https://localhost:8080/",
          "height": 943
        },
        "id": "iuAHkMQpQhtq",
        "outputId": "abb8f3ee-fbf7-453b-d52c-9f40f2167799"
      },
      "execution_count": 54,
      "outputs": [
        {
          "output_type": "display_data",
          "data": {
            "text/plain": [
              "<Figure size 640x480 with 1 Axes>"
            ],
            "image/png": "[encoded data removed]"
          },
          "metadata": {}
        },
        {
          "output_type": "display_data",
          "data": {
            "text/plain": [
              "<Figure size 640x480 with 1 Axes>"
            ],
            "image/png": "[encoded data removed]"
          },
          "metadata": {}
        }
      ]
    },
    {
      "cell_type": "markdown",
      "source": [
        "#### Why did you pick the specific chart?\n"
      ],
      "metadata": {
        "id": "uwDZt8D7Qhtr"
      }
    },
    {
      "cell_type": "markdown",
      "source": [
        "Histogram shows price distribution, KDE gives density; boxplot highlights outliers."
      ],
      "metadata": {
        "id": "1405Rm5tQhtr"
      }
    },
    {
      "cell_type": "markdown",
      "source": [
        "####What is/are the insight(s) found from the chart?\n"
      ],
      "metadata": {
        "id": "gGQftHhKQhts"
      }
    },
    {
      "cell_type": "markdown",
      "source": [],
      "metadata": {
        "id": "nFYlA-GZQhts"
      }
    },
    {
      "cell_type": "markdown",
      "source": [
        "####Will the gained insights help creating a positive business impact?\n",
        "Are there any insights that lead to negative growth? Justify with specific reason."
      ],
      "metadata": {
        "id": "l1Y6zMhlQhtt"
      }
    },
    {
      "cell_type": "markdown",
      "source": [],
      "metadata": {
        "id": "lyj7PVVQQhtt"
      }
    },
    {
      "cell_type": "markdown",
      "source": [
        "### Chart-3 Count Of Discontinued Vs Active Products"
      ],
      "metadata": {
        "id": "47PjGpi1Qhxu"
      }
    },
    {
      "cell_type": "code",
      "source": [
        "# Chart No.3  Data Visualization\n",
        "# Plot\n",
        "ax = df['is_discontinued'].value_counts().plot(kind='bar', color=['green','red'])\n",
        "plt.title(\"Discontinued vs Active Products\")\n",
        "plt.xlabel(\"Is Discontinued\")\n",
        "plt.ylabel(\"Count\")\n",
        "\n",
        "# Add values on top of each bar\n",
        "for p in ax.patches:\n",
        "    ax.annotate(str(p.get_height()),\n",
        "                (p.get_x() + p.get_width() / 2., p.get_height()),\n",
        "                ha='center', va='bottom', fontsize=12)\n",
        "\n",
        "plt.show()\n",
        "\n"
      ],
      "metadata": {
        "colab": {
          "base_uri": "https://localhost:8080/",
          "height": 504
        },
        "id": "SrmiQxoBQhxu",
        "outputId": "9c0fdba2-5739-4e00-add2-62f0015c5482"
      },
      "execution_count": 56,
      "outputs": [
        {
          "output_type": "display_data",
          "data": {
            "text/plain": [
              "<Figure size 640x480 with 1 Axes>"
            ],
            "image/png": "[encoded data removed]"
          },
          "metadata": {}
        }
      ]
    },
    {
      "cell_type": "markdown",
      "source": [
        "#### Why did you pick the specific chart?\n"
      ],
      "metadata": {
        "id": "G3LfiIlEQhxu"
      }
    },
    {
      "cell_type": "markdown",
      "source": [
        "Bar chart clearly shows the proportion of discontinued products."
      ],
      "metadata": {
        "id": "K2odihLbQhxu"
      }
    },
    {
      "cell_type": "markdown",
      "source": [
        "####What is/are the insight(s) found from the chart?\n"
      ],
      "metadata": {
        "id": "z295UM-AQhxu"
      }
    },
    {
      "cell_type": "markdown",
      "source": [],
      "metadata": {
        "id": "vjp3fA5VQhxv"
      }
    },
    {
      "cell_type": "markdown",
      "source": [
        "####Will the gained insights help creating a positive business impact?\n",
        "Are there any insights that lead to negative growth? Justify with specific reason."
      ],
      "metadata": {
        "id": "NqPQ6CNvQhxv"
      }
    },
    {
      "cell_type": "markdown",
      "source": [],
      "metadata": {
        "id": "AScfMj19Qhxv"
      }
    },
    {
      "cell_type": "markdown",
      "source": [
        "### Chart-4 Top 20 Manufacturers"
      ],
      "metadata": {
        "id": "Bzh3G59yQh0t"
      }
    },
    {
      "cell_type": "code",
      "source": [
        "# Chart No.4  Data Visualization\n",
        "df['manufacturer_name'].value_counts().head(20).plot(kind='bar', figsize=(16,5), color='orange')\n",
        "plt.title(\"Top 20 Manufacturers by Product Count\")\n",
        "plt.xlabel(\"Manufacturer\")\n",
        "plt.ylabel(\"Count\")\n",
        "plt.xticks(rotation=90)\n",
        "plt.show()\n"
      ],
      "metadata": {
        "colab": {
          "base_uri": "https://localhost:8080/",
          "height": 741
        },
        "id": "W0dGv79WQh0t",
        "outputId": "887ae775-7ec4-4e4b-f121-ab0161835b47"
      },
      "execution_count": 59,
      "outputs": [
        {
          "output_type": "display_data",
          "data": {
            "text/plain": [
              "<Figure size 1600x500 with 1 Axes>"
            ],
            "image/png": "[encoded data removed]"
          },
          "metadata": {}
        }
      ]
    },
    {
      "cell_type": "markdown",
      "source": [
        "#### Why did you pick the specific chart?\n"
      ],
      "metadata": {
        "id": "PFWCvSRAQh0t"
      }
    },
    {
      "cell_type": "markdown",
      "source": [],
      "metadata": {
        "id": "2FUMlCs9Qh0t"
      }
    },
    {
      "cell_type": "markdown",
      "source": [
        "####What is/are the insight(s) found from the chart?\n"
      ],
      "metadata": {
        "id": "GSmTjY-5Qh0t"
      }
    },
    {
      "cell_type": "markdown",
      "source": [],
      "metadata": {
        "id": "OBodgcAhQh0u"
      }
    },
    {
      "cell_type": "markdown",
      "source": [
        "####Will the gained insights help creating a positive business impact?\n",
        "Are there any insights that lead to negative growth? Justify with specific reason."
      ],
      "metadata": {
        "id": "iSGFdmwBQh0u"
      }
    },
    {
      "cell_type": "markdown",
      "source": [],
      "metadata": {
        "id": "jK-CKsxiQh0u"
      }
    },
    {
      "cell_type": "markdown",
      "source": [
        "### Chart-5 Count Of Each Product Type"
      ],
      "metadata": {
        "id": "w9_9HMhSQh3k"
      }
    },
    {
      "cell_type": "code",
      "source": [
        "# Chart No.5  Data Visualization\n",
        "df['type'].value_counts().plot(kind='bar', figsize=(10,5), color='purple')\n",
        "plt.title(\"Product Type Distribution\")\n",
        "plt.xlabel(\"Type\")\n",
        "plt.ylabel(\"Count\")\n",
        "plt.xticks(rotation=45)\n",
        "plt.show()\n"
      ],
      "metadata": {
        "colab": {
          "base_uri": "https://localhost:8080/",
          "height": 541
        },
        "id": "a7YgphPBQh3l",
        "outputId": "f4c5224d-25b9-45b3-8513-e335047c757b"
      },
      "execution_count": 60,
      "outputs": [
        {
          "output_type": "display_data",
          "data": {
            "text/plain": [
              "<Figure size 1000x500 with 1 Axes>"
            ],
            "image/png": "[encoded data removed]"
          },
          "metadata": {}
        }
      ]
    },
    {
      "cell_type": "markdown",
      "source": [
        "#### Why did you pick the specific chart?\n"
      ],
      "metadata": {
        "id": "AtCuz0enQh3m"
      }
    },
    {
      "cell_type": "markdown",
      "source": [
        "Bar chart makes it easy to see distribution of product types."
      ],
      "metadata": {
        "id": "1PKiD1CBQh3m"
      }
    },
    {
      "cell_type": "markdown",
      "source": [
        "####What is/are the insight(s) found from the chart?\n"
      ],
      "metadata": {
        "id": "YUE0F9b6Qh3m"
      }
    },
    {
      "cell_type": "markdown",
      "source": [],
      "metadata": {
        "id": "_YVuGAkSQh3m"
      }
    },
    {
      "cell_type": "markdown",
      "source": [
        "####Will the gained insights help creating a positive business impact?\n",
        "Are there any insights that lead to negative growth? Justify with specific reason."
      ],
      "metadata": {
        "id": "14orF2Z9Qh3m"
      }
    },
    {
      "cell_type": "markdown",
      "source": [],
      "metadata": {
        "id": "A8ssSKXZQh3m"
      }
    },
    {
      "cell_type": "markdown",
      "source": [
        "### Chart-6 Frequency Of Top 20 Packaging Sizes"
      ],
      "metadata": {
        "id": "fapWatfCQh6d"
      }
    },
    {
      "cell_type": "code",
      "source": [
        "# Chart No.6  Data Visualization\n",
        "df['pack_size_label'].value_counts().head(20).plot(kind='bar', color='teal',figsize=(16,5))\n",
        "plt.title(\"Top 20 Pack Sizes\")\n",
        "plt.xlabel(\"Pack Size\")\n",
        "plt.ylabel(\"Count\")\n",
        "plt.show()\n"
      ],
      "metadata": {
        "colab": {
          "base_uri": "https://localhost:8080/",
          "height": 718
        },
        "id": "u5MDWpciQh6e",
        "outputId": "d985d008-c177-41ff-cd48-3098bc9f8e2c"
      },
      "execution_count": 64,
      "outputs": [
        {
          "output_type": "display_data",
          "data": {
            "text/plain": [
              "<Figure size 1600x500 with 1 Axes>"
            ],
            "image/png": "[encoded data removed]"
          },
          "metadata": {}
        }
      ]
    },
    {
      "cell_type": "markdown",
      "source": [
        "#### Why did you pick the specific chart?\n"
      ],
      "metadata": {
        "id": "CIoKuQ9pQh6e"
      }
    },
    {
      "cell_type": "markdown",
      "source": [
        "*  Top 20 pack sizes are visualized for easy comparison."
      ],
      "metadata": {
        "id": "04R-Ms1FQh6e"
      }
    },
    {
      "cell_type": "markdown",
      "source": [
        "####What is/are the insight(s) found from the chart?\n"
      ],
      "metadata": {
        "id": "mvzx-DUaQh6e"
      }
    },
    {
      "cell_type": "markdown",
      "source": [],
      "metadata": {
        "id": "igfRaG3RQh6e"
      }
    },
    {
      "cell_type": "markdown",
      "source": [
        "####Will the gained insights help creating a positive business impact?\n",
        "Are there any insights that lead to negative growth? Justify with specific reason."
      ],
      "metadata": {
        "id": "Ldhg1MPNQh6e"
      }
    },
    {
      "cell_type": "markdown",
      "source": [],
      "metadata": {
        "id": "x8pmqTYLQh6e"
      }
    },
    {
      "cell_type": "markdown",
      "source": [
        "### Char-7 Top 20 Most Common Primary Ingredients Used In Medicines"
      ],
      "metadata": {
        "id": "UGPYWbSCQh9K"
      }
    },
    {
      "cell_type": "code",
      "source": [
        "# Chart No.7  Data Visualization\n",
        "df['short_composition1'].value_counts().head(20).plot(kind='bar', color='brown',figsize=(16,5))\n",
        "plt.title(\"Top 20 Primary Compositions\")\n",
        "plt.xlabel(\"Composition\")\n",
        "plt.ylabel(\"Count\")\n",
        "plt.show()\n"
      ],
      "metadata": {
        "colab": {
          "base_uri": "https://localhost:8080/",
          "height": 711
        },
        "id": "mRCeC0fmQh9K",
        "outputId": "c1ba1331-eee1-4b51-f8c0-f1a42331a162"
      },
      "execution_count": 66,
      "outputs": [
        {
          "output_type": "display_data",
          "data": {
            "text/plain": [
              "<Figure size 1600x500 with 1 Axes>"
            ],
            "image/png": "[encoded data removed]"
          },
          "metadata": {}
        }
      ]
    },
    {
      "cell_type": "markdown",
      "source": [
        "#### Why did you pick the specific chart?\n"
      ],
      "metadata": {
        "id": "ih6DTqs2Qh9K"
      }
    },
    {
      "cell_type": "markdown",
      "source": [
        "*  Bar chart shows most frequent active ingredients."
      ],
      "metadata": {
        "id": "Bs_fH8oVQh9K"
      }
    },
    {
      "cell_type": "markdown",
      "source": [
        "####What is/are the insight(s) found from the chart?\n"
      ],
      "metadata": {
        "id": "3-yIGbqFQh9K"
      }
    },
    {
      "cell_type": "markdown",
      "source": [],
      "metadata": {
        "id": "jw_HoM2ZQh9L"
      }
    },
    {
      "cell_type": "markdown",
      "source": [
        "####Will the gained insights help creating a positive business impact?\n",
        "Are there any insights that lead to negative growth? Justify with specific reason."
      ],
      "metadata": {
        "id": "3dUxXl3jQh9L"
      }
    },
    {
      "cell_type": "markdown",
      "source": [],
      "metadata": {
        "id": "z1MAmAORQh9L"
      }
    },
    {
      "cell_type": "markdown",
      "source": [
        "### Chart-8 Top 20 Most Common Secondary Ingredients Used In Medicines"
      ],
      "metadata": {
        "id": "TVBWAMhBQiAL"
      }
    },
    {
      "cell_type": "code",
      "source": [
        "# Chart No.8  Data Visualization\n",
        "\n",
        "# Top 20 secondary ingredients\n",
        "df['short_composition2'].value_counts().head(20).plot(kind='bar', color='pink',figsize=(16,5))\n",
        "plt.title(\"Top 20 Secondary Compositions\")\n",
        "plt.xlabel(\"Composition\")\n",
        "plt.ylabel(\"Count\")\n",
        "plt.show()"
      ],
      "metadata": {
        "colab": {
          "base_uri": "https://localhost:8080/",
          "height": 707
        },
        "id": "CFy7Dao8QiAM",
        "outputId": "dacd7337-e38f-42eb-82ab-efcb53c105aa"
      },
      "execution_count": 73,
      "outputs": [
        {
          "output_type": "display_data",
          "data": {
            "text/plain": [
              "<Figure size 1600x500 with 1 Axes>"
            ],
            "image/png": "[encoded data removed]"
          },
          "metadata": {}
        }
      ]
    },
    {
      "cell_type": "markdown",
      "source": [
        "#### Why did you pick the specific chart?\n"
      ],
      "metadata": {
        "id": "Cr-V1BpyQiAM"
      }
    },
    {
      "cell_type": "markdown",
      "source": [
        "*  Bar chart shows secondary ingredients distribution"
      ],
      "metadata": {
        "id": "UnHaBS4pQiAM"
      }
    },
    {
      "cell_type": "markdown",
      "source": [
        "####What is/are the insight(s) found from the chart?\n"
      ],
      "metadata": {
        "id": "XgOswNr6QiAM"
      }
    },
    {
      "cell_type": "markdown",
      "source": [],
      "metadata": {
        "id": "JwiLr-5fQiAM"
      }
    },
    {
      "cell_type": "markdown",
      "source": [
        "####Will the gained insights help creating a positive business impact?\n",
        "Are there any insights that lead to negative growth? Justify with specific reason."
      ],
      "metadata": {
        "id": "_LndqK2iQiAN"
      }
    },
    {
      "cell_type": "markdown",
      "source": [],
      "metadata": {
        "id": "gYV2OY8VQiAN"
      }
    },
    {
      "cell_type": "markdown",
      "source": [
        "## **Bivariate Analysis**"
      ],
      "metadata": {
        "id": "hDS0gZ2CWOMP"
      }
    },
    {
      "cell_type": "markdown",
      "source": [
        "Numerical Vs Numerical Analysis"
      ],
      "metadata": {
        "id": "Ci4PvQ7xWlhQ"
      }
    },
    {
      "cell_type": "markdown",
      "source": [
        "### Chart"
      ],
      "metadata": {
        "id": "xcJY37xGQiDa"
      }
    },
    {
      "cell_type": "code",
      "source": [
        "# Chart No.  Data Visualization"
      ],
      "metadata": {
        "id": "2K4XVeZQQiDa"
      },
      "execution_count": null,
      "outputs": []
    },
    {
      "cell_type": "markdown",
      "source": [
        "#### Why did you pick the specific chart?\n"
      ],
      "metadata": {
        "id": "RsAr7dYDQiDa"
      }
    },
    {
      "cell_type": "markdown",
      "source": [],
      "metadata": {
        "id": "yaMaPc5lQiDa"
      }
    },
    {
      "cell_type": "markdown",
      "source": [
        "####What is/are the insight(s) found from the chart?\n"
      ],
      "metadata": {
        "id": "8WlZcg9xQiDa"
      }
    },
    {
      "cell_type": "markdown",
      "source": [],
      "metadata": {
        "id": "Yc2CffC4QiDb"
      }
    },
    {
      "cell_type": "markdown",
      "source": [
        "####Will the gained insights help creating a positive business impact?\n",
        "Are there any insights that lead to negative growth? Justify with specific reason."
      ],
      "metadata": {
        "id": "8ezXNXZRQiDb"
      }
    },
    {
      "cell_type": "markdown",
      "source": [],
      "metadata": {
        "id": "TfnVejT7QiDb"
      }
    },
    {
      "cell_type": "markdown",
      "source": [
        "### Chart"
      ],
      "metadata": {
        "id": "U4toMJAiQiGc"
      }
    },
    {
      "cell_type": "code",
      "source": [
        "# Chart No.  Data Visualization"
      ],
      "metadata": {
        "id": "X5bsOE94QiGd"
      },
      "execution_count": null,
      "outputs": []
    },
    {
      "cell_type": "markdown",
      "source": [
        "#### Why did you pick the specific chart?\n"
      ],
      "metadata": {
        "id": "xZEMYIgMQiGd"
      }
    },
    {
      "cell_type": "markdown",
      "source": [],
      "metadata": {
        "id": "eyAZHcNYQiGd"
      }
    },
    {
      "cell_type": "markdown",
      "source": [
        "####What is/are the insight(s) found from the chart?\n"
      ],
      "metadata": {
        "id": "J309CT7cQiGd"
      }
    },
    {
      "cell_type": "markdown",
      "source": [],
      "metadata": {
        "id": "KHdzdPWvQiGe"
      }
    },
    {
      "cell_type": "markdown",
      "source": [
        "####Will the gained insights help creating a positive business impact?\n",
        "Are there any insights that lead to negative growth? Justify with specific reason."
      ],
      "metadata": {
        "id": "Dy7qP9_VQiGe"
      }
    },
    {
      "cell_type": "markdown",
      "source": [],
      "metadata": {
        "id": "OXEMuglaQiGe"
      }
    },
    {
      "cell_type": "markdown",
      "source": [
        "### Chart"
      ],
      "metadata": {
        "id": "t_Jq13iMQiJN"
      }
    },
    {
      "cell_type": "code",
      "source": [
        "# Chart No.  Data Visualization"
      ],
      "metadata": {
        "id": "Yb1kC9C7QiJO"
      },
      "execution_count": null,
      "outputs": []
    },
    {
      "cell_type": "markdown",
      "source": [
        "#### Why did you pick the specific chart?\n"
      ],
      "metadata": {
        "id": "aFiJm0VmQiJO"
      }
    },
    {
      "cell_type": "markdown",
      "source": [],
      "metadata": {
        "id": "QTd00gb-QiJO"
      }
    },
    {
      "cell_type": "markdown",
      "source": [
        "####What is/are the insight(s) found from the chart?\n"
      ],
      "metadata": {
        "id": "6boCpvMUQiJO"
      }
    },
    {
      "cell_type": "markdown",
      "source": [],
      "metadata": {
        "id": "jQLIhyRsQiJO"
      }
    },
    {
      "cell_type": "markdown",
      "source": [
        "####Will the gained insights help creating a positive business impact?\n",
        "Are there any insights that lead to negative growth? Justify with specific reason."
      ],
      "metadata": {
        "id": "vnA7r-hQQiJO"
      }
    },
    {
      "cell_type": "markdown",
      "source": [],
      "metadata": {
        "id": "1KbtKkRQQiJO"
      }
    },
    {
      "cell_type": "markdown",
      "source": [
        "### Chart"
      ],
      "metadata": {
        "id": "hKNA_Cg1QiMT"
      }
    },
    {
      "cell_type": "code",
      "source": [
        "# Chart No.  Data Visualization"
      ],
      "metadata": {
        "id": "9JWNO4ziQiMU"
      },
      "execution_count": null,
      "outputs": []
    },
    {
      "cell_type": "markdown",
      "source": [
        "#### Why did you pick the specific chart?\n"
      ],
      "metadata": {
        "id": "-eTfA_PYQiMU"
      }
    },
    {
      "cell_type": "markdown",
      "source": [],
      "metadata": {
        "id": "8VFPe7yuQiMU"
      }
    },
    {
      "cell_type": "markdown",
      "source": [
        "####What is/are the insight(s) found from the chart?\n"
      ],
      "metadata": {
        "id": "v7epGCmgQiMU"
      }
    },
    {
      "cell_type": "markdown",
      "source": [],
      "metadata": {
        "id": "bCSjIRuMQiMV"
      }
    },
    {
      "cell_type": "markdown",
      "source": [
        "####Will the gained insights help creating a positive business impact?\n",
        "Are there any insights that lead to negative growth? Justify with specific reason."
      ],
      "metadata": {
        "id": "Ju_NUFwJQiMV"
      }
    },
    {
      "cell_type": "markdown",
      "source": [],
      "metadata": {
        "id": "VaO6_QWYQiMV"
      }
    },
    {
      "cell_type": "markdown",
      "source": [
        "### Chart"
      ],
      "metadata": {
        "id": "RcF3MeuiQiPK"
      }
    },
    {
      "cell_type": "code",
      "source": [
        "# Chart No.  Data Visualization"
      ],
      "metadata": {
        "id": "ul-4X2_EQiPK"
      },
      "execution_count": null,
      "outputs": []
    },
    {
      "cell_type": "markdown",
      "source": [
        "#### Why did you pick the specific chart?\n"
      ],
      "metadata": {
        "id": "4do5BfCdQiPL"
      }
    },
    {
      "cell_type": "markdown",
      "source": [],
      "metadata": {
        "id": "36Lr0UUPQiPL"
      }
    },
    {
      "cell_type": "markdown",
      "source": [
        "####What is/are the insight(s) found from the chart?\n"
      ],
      "metadata": {
        "id": "3vBolmOjQiPL"
      }
    },
    {
      "cell_type": "markdown",
      "source": [],
      "metadata": {
        "id": "0qFzrNv1QiPL"
      }
    },
    {
      "cell_type": "markdown",
      "source": [
        "####Will the gained insights help creating a positive business impact?\n",
        "Are there any insights that lead to negative growth? Justify with specific reason."
      ],
      "metadata": {
        "id": "msWhGyWwQiPL"
      }
    },
    {
      "cell_type": "markdown",
      "source": [],
      "metadata": {
        "id": "g4mwDza-QiPL"
      }
    },
    {
      "cell_type": "markdown",
      "source": [
        "### Chart"
      ],
      "metadata": {
        "id": "9_yRd4gRQiSI"
      }
    },
    {
      "cell_type": "code",
      "source": [
        "# Chart No.  Data Visualization"
      ],
      "metadata": {
        "id": "EJtpN7ofQiSI"
      },
      "execution_count": null,
      "outputs": []
    },
    {
      "cell_type": "markdown",
      "source": [
        "#### Why did you pick the specific chart?\n"
      ],
      "metadata": {
        "id": "KncC9-dvQiSJ"
      }
    },
    {
      "cell_type": "markdown",
      "source": [],
      "metadata": {
        "id": "gOiswkxNQiSJ"
      }
    },
    {
      "cell_type": "markdown",
      "source": [
        "####What is/are the insight(s) found from the chart?\n"
      ],
      "metadata": {
        "id": "h7CAViMvQiSJ"
      }
    },
    {
      "cell_type": "markdown",
      "source": [],
      "metadata": {
        "id": "fyqJcFbnQiSJ"
      }
    },
    {
      "cell_type": "markdown",
      "source": [
        "####Will the gained insights help creating a positive business impact?\n",
        "Are there any insights that lead to negative growth? Justify with specific reason."
      ],
      "metadata": {
        "id": "HjZ2_Rc_QiSK"
      }
    },
    {
      "cell_type": "markdown",
      "source": [],
      "metadata": {
        "id": "pb9MvdrSQiSK"
      }
    },
    {
      "cell_type": "markdown",
      "source": [
        "### Chart"
      ],
      "metadata": {
        "id": "1fJVhkQJQiVF"
      }
    },
    {
      "cell_type": "code",
      "source": [
        "# Chart No.  Data Visualization"
      ],
      "metadata": {
        "id": "fiYaRSndQiVF"
      },
      "execution_count": null,
      "outputs": []
    },
    {
      "cell_type": "markdown",
      "source": [
        "#### Why did you pick the specific chart?\n"
      ],
      "metadata": {
        "id": "ALOWLf7BQiVF"
      }
    },
    {
      "cell_type": "markdown",
      "source": [],
      "metadata": {
        "id": "z_Wlj-G2QiVG"
      }
    },
    {
      "cell_type": "markdown",
      "source": [
        "####What is/are the insight(s) found from the chart?\n"
      ],
      "metadata": {
        "id": "3HYkJI0WQiVG"
      }
    },
    {
      "cell_type": "markdown",
      "source": [],
      "metadata": {
        "id": "NNj5GtLtQiVG"
      }
    },
    {
      "cell_type": "markdown",
      "source": [
        "####Will the gained insights help creating a positive business impact?\n",
        "Are there any insights that lead to negative growth? Justify with specific reason."
      ],
      "metadata": {
        "id": "obPqhE9NQiVG"
      }
    },
    {
      "cell_type": "markdown",
      "source": [],
      "metadata": {
        "id": "DBa-EIhKQiVG"
      }
    },
    {
      "cell_type": "markdown",
      "source": [
        "### Chart"
      ],
      "metadata": {
        "id": "kTi6Ge5HQiYB"
      }
    },
    {
      "cell_type": "code",
      "source": [
        "# Chart No.  Data Visualization"
      ],
      "metadata": {
        "id": "faN-ufDvQiYC"
      },
      "execution_count": null,
      "outputs": []
    },
    {
      "cell_type": "markdown",
      "source": [
        "#### Why did you pick the specific chart?\n"
      ],
      "metadata": {
        "id": "xNnJuJKNQiYC"
      }
    },
    {
      "cell_type": "markdown",
      "source": [],
      "metadata": {
        "id": "ZYEtGI3AQiYC"
      }
    },
    {
      "cell_type": "markdown",
      "source": [
        "####What is/are the insight(s) found from the chart?\n"
      ],
      "metadata": {
        "id": "rLrQJ9k_QiYC"
      }
    },
    {
      "cell_type": "markdown",
      "source": [],
      "metadata": {
        "id": "K8kp4m17QiYC"
      }
    },
    {
      "cell_type": "markdown",
      "source": [
        "####Will the gained insights help creating a positive business impact?\n",
        "Are there any insights that lead to negative growth? Justify with specific reason."
      ],
      "metadata": {
        "id": "MJqivXA4QiYC"
      }
    },
    {
      "cell_type": "markdown",
      "source": [],
      "metadata": {
        "id": "S3oChu1EQiYD"
      }
    },
    {
      "cell_type": "markdown",
      "source": [
        "### Chart"
      ],
      "metadata": {
        "id": "nBwXq4dxQiax"
      }
    },
    {
      "cell_type": "code",
      "source": [
        "# Chart No.  Data Visualization"
      ],
      "metadata": {
        "id": "0U7rg5smQiax"
      },
      "execution_count": null,
      "outputs": []
    },
    {
      "cell_type": "markdown",
      "source": [
        "#### Why did you pick the specific chart?\n"
      ],
      "metadata": {
        "id": "8s_rARmbQiax"
      }
    },
    {
      "cell_type": "markdown",
      "source": [],
      "metadata": {
        "id": "ZR6n5hmGQiay"
      }
    },
    {
      "cell_type": "markdown",
      "source": [
        "####What is/are the insight(s) found from the chart?\n"
      ],
      "metadata": {
        "id": "5XI41tUTQiay"
      }
    },
    {
      "cell_type": "markdown",
      "source": [],
      "metadata": {
        "id": "26qOk4DsQiay"
      }
    },
    {
      "cell_type": "markdown",
      "source": [
        "####Will the gained insights help creating a positive business impact?\n",
        "Are there any insights that lead to negative growth? Justify with specific reason."
      ],
      "metadata": {
        "id": "-QE3CgKQQiay"
      }
    },
    {
      "cell_type": "markdown",
      "source": [],
      "metadata": {
        "id": "yA_ALK5KQiay"
      }
    },
    {
      "cell_type": "markdown",
      "source": [
        "### Chart"
      ],
      "metadata": {
        "id": "eM0Gj8O9Qidp"
      }
    },
    {
      "cell_type": "code",
      "source": [
        "# Chart No.  Data Visualization"
      ],
      "metadata": {
        "id": "s0wCksVaQidp"
      },
      "execution_count": null,
      "outputs": []
    },
    {
      "cell_type": "markdown",
      "source": [
        "#### Why did you pick the specific chart?\n"
      ],
      "metadata": {
        "id": "po464jUvQidp"
      }
    },
    {
      "cell_type": "markdown",
      "source": [],
      "metadata": {
        "id": "Ym5d0mQwQidp"
      }
    },
    {
      "cell_type": "markdown",
      "source": [
        "####What is/are the insight(s) found from the chart?\n"
      ],
      "metadata": {
        "id": "xQDM9npgQidp"
      }
    },
    {
      "cell_type": "markdown",
      "source": [],
      "metadata": {
        "id": "IGGgvuw-Qidq"
      }
    },
    {
      "cell_type": "markdown",
      "source": [
        "####Will the gained insights help creating a positive business impact?\n",
        "Are there any insights that lead to negative growth? Justify with specific reason."
      ],
      "metadata": {
        "id": "G5WErfs2Qidq"
      }
    },
    {
      "cell_type": "markdown",
      "source": [],
      "metadata": {
        "id": "Hom4ZCa3Qidq"
      }
    },
    {
      "cell_type": "markdown",
      "source": [
        "### Chart"
      ],
      "metadata": {
        "id": "fanSgPobQdjh"
      }
    },
    {
      "cell_type": "code",
      "source": [
        "# Chart No.  Data Visualization"
      ],
      "metadata": {
        "id": "3jk-1xraQdji"
      },
      "execution_count": null,
      "outputs": []
    },
    {
      "cell_type": "markdown",
      "source": [
        "#### Why did you pick the specific chart?\n"
      ],
      "metadata": {
        "id": "JT5yfWilQdjj"
      }
    },
    {
      "cell_type": "markdown",
      "source": [],
      "metadata": {
        "id": "KPf07qYuQdjj"
      }
    },
    {
      "cell_type": "markdown",
      "source": [
        "####What is/are the insight(s) found from the chart?\n"
      ],
      "metadata": {
        "id": "TUq85VkmQdjk"
      }
    },
    {
      "cell_type": "markdown",
      "source": [],
      "metadata": {
        "id": "7YxbXHWYQdjk"
      }
    },
    {
      "cell_type": "markdown",
      "source": [
        "####Will the gained insights help creating a positive business impact?\n",
        "Are there any insights that lead to negative growth? Justify with specific reason."
      ],
      "metadata": {
        "id": "tF7J54gRQdjl"
      }
    },
    {
      "cell_type": "markdown",
      "source": [],
      "metadata": {
        "id": "65bkoX2zQdjl"
      }
    }
  ]
}
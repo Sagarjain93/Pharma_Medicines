{
  "nbformat": 4,
  "nbformat_minor": 0,
  "metadata": {
    "colab": {
      "provenance": [],
      "authorship_tag": "ABX9TyO4hAV7SkrZ0+PseVNStMmR",
      "include_colab_link": true
    },
    "kernelspec": {
      "name": "python3",
      "display_name": "Python 3"
    },
    "language_info": {
      "name": "python"
    }
  },
  "cells": [
    {
      "cell_type": "markdown",
      "metadata": {
        "id": "view-in-github",
        "colab_type": "text"
      },
      "source": [
        "<a href=\"https://colab.research.google.com/github/Sagarjain93/Pharma_Medicines/blob/main/Pharma_medicines.ipynb\" target=\"_parent\"><img src=\"https://colab.research.google.com/assets/colab-badge.svg\" alt=\"Open In Colab\"/></a>"
      ]
    },
    {
      "cell_type": "markdown",
      "source": [
        "#**Project Tite: Exploratory Analysis of Indian Pharmaceuticals Dataset**"
      ],
      "metadata": {
        "id": "puBvJiex32B6"
      }
    },
    {
      "cell_type": "markdown",
      "source": [
        "#**1. Introduction**"
      ],
      "metadata": {
        "id": "zGIErSgy31K8"
      }
    },
    {
      "cell_type": "markdown",
      "source": [
        "This EDA aims to uncover patterns, distributions, and insights from a dataset of 253,973 medicines available in India. The dataset includes key features like product ID, name, price, manufacturer, type, packaging, and composition details. Through data profiling, visualizations, and summary statistics, we explore product availability, pricing trends, formulation completeness, and market diversity in the Indian pharmaceutical space."
      ],
      "metadata": {
        "id": "JJMe2XrrTXVv"
      }
    },
    {
      "cell_type": "markdown",
      "source": [
        "**Potential Hypotheses to be explored **\n",
        "\n",
        "**1.Higher-priced medicines are more likely to be discontinued.**\n",
        "(Test by comparing price distributions across the Is_discontinued flag.)\n",
        "\n",
        "**2.Some manufacturers dominate the market with a higher number of products.**\n",
        "(Test by analyzing the frequency distribution of manufacturer_name.)\n",
        "\n",
        "**3.Certain medicine types (e.g., tablets) are more common than others.**\n",
        "(Test by checking the distribution of the type column.)\n",
        "\n",
        "**4.Combination drugs (with short_composition2) tend to be more expensive.**\n",
        "(Compare average price between entries with and without short_composition2.)\n",
        "\n",
        "**5.Pack size is correlated with medicine price.**\n",
        "(Extract numeric info from pack_size_label and check correlation with price(₹).)\n",
        "\n",
        "**6.Discontinued medicines are more likely to come from lesser-known manufacturers.**\n",
        "(Compare discontinuation rates across manufacturers.)\n",
        "\n"
      ],
      "metadata": {
        "id": "sEmUJ3tFUneK"
      }
    },
    {
      "cell_type": "markdown",
      "source": [
        "# **2. Dataset Description:**"
      ],
      "metadata": {
        "id": "7y76hosh38rQ"
      }
    },
    {
      "cell_type": "markdown",
      "source": [
        "**id** Unique identifier for each medicine entry.\n",
        "\n",
        "**name**: Name of the medicine or drug product.\n",
        "\n",
        "**price(₹)**: Price of the medicine in Indian Rupees.\n",
        "\n",
        "**Is_discontinued**: Boolean flag indicating whether the medicine is discontinued (True) or still available (False).\n",
        "\n",
        "**manufacturer_name**: Name of the company or brand that manufactures the medicine.\n",
        "\n",
        "**type**: Form/type of the medicine (e.g., tablet, syrup, capsule).\n",
        "\n",
        "**pack_size_label**: Label describing the packaging size or quantity (e.g., \"10 tablets\", \"100 ml\").\n",
        "\n",
        "**short_composition1**: Primary active ingredient(s) in the medicine.\n",
        "\n",
        "**short_composition2**: Secondary or additional active ingredient(s); may contain missing values."
      ],
      "metadata": {
        "id": "JuoV7yCuUCxV"
      }
    },
    {
      "cell_type": "markdown",
      "source": [
        "# **3. Import Required Libraries**\n",
        "\n",
        "We import Python libraries necessary for data manipulation and visualization"
      ],
      "metadata": {
        "id": "AkBgyGT0IjV0"
      }
    },
    {
      "cell_type": "code",
      "source": [
        "# Data Manipulation Libraries\n",
        "import numpy as np\n",
        "import pandas as pd\n",
        "\n",
        "# Data Visualization Libraries\n",
        "import matplotlib.pyplot as plt\n",
        "import seaborn as sns\n",
        "\n",
        "# Set a consistent theme for all plots\n",
        "sns.set(style = 'whitegrid')"
      ],
      "metadata": {
        "id": "KjZjlE_iItUE"
      },
      "execution_count": 1,
      "outputs": []
    },
    {
      "cell_type": "code",
      "source": [
        "from google.colab import drive\n",
        "drive.mount('/content/drive')"
      ],
      "metadata": {
        "colab": {
          "base_uri": "https://localhost:8080/"
        },
        "id": "nIi1a8eQJu1M",
        "outputId": "165f5b53-8da2-45c6-a1f6-b26ac59b5ced"
      },
      "execution_count": 2,
      "outputs": [
        {
          "output_type": "stream",
          "name": "stdout",
          "text": [
            "Mounted at /content/drive\n"
          ]
        }
      ]
    },
    {
      "cell_type": "markdown",
      "source": [
        "# **4. Load The Dataset**\n",
        "\n",
        "The dataset is loaded using the pandas library. The dataset has been uploaded to a GitHub repository. This approach allows the CSV file to be accessed directly via its raw URL, making the code cleaner and removing the need for manual authorization or drive mounting each time the notebook is run."
      ],
      "metadata": {
        "id": "ci03FY-pJULd"
      }
    },
    {
      "cell_type": "code",
      "source": [
        "df = pd.read_csv('/content/drive/MyDrive/colab/eda/4. Pharma/MEDICINE DATASET/A_Z_medicines_dataset_of_India.csv')"
      ],
      "metadata": {
        "id": "wF7fNI_bJU42"
      },
      "execution_count": 5,
      "outputs": []
    },
    {
      "cell_type": "markdown",
      "source": [
        "#**5. Inital Data Inspection**"
      ],
      "metadata": {
        "id": "7aUenGfAKXea"
      }
    },
    {
      "cell_type": "markdown",
      "source": [
        "To gain a foundational understanding of the dataset, we begin with an initial inspection that covers several essential aspects. This includes previewing the first few records to get a sense of the structure and values, examining the data types of each feature to ensure they align with expectations, and reviewing the overall shape and completeness of the dataset. We also generate statistical summaries for both numerical and categorical features to identify distributions, detect potential anomalies, and guide further steps in the analysis pipeline."
      ],
      "metadata": {
        "id": "fB9vt_AfKaz5"
      }
    },
    {
      "cell_type": "markdown",
      "source": [
        "##**5.1 Preview Few Records**"
      ],
      "metadata": {
        "id": "F9X91HCjKfSp"
      }
    },
    {
      "cell_type": "code",
      "source": [
        "df.head()"
      ],
      "metadata": {
        "colab": {
          "base_uri": "https://localhost:8080/",
          "height": 275
        },
        "collapsed": true,
        "id": "UuAvc3TKKez1",
        "outputId": "2220b17e-2cb2-4bce-b30d-89edb270dfcb"
      },
      "execution_count": 6,
      "outputs": [
        {
          "output_type": "execute_result",
          "data": {
            "text/plain": [
              "   id                      name  price(₹)  Is_discontinued  \\\n",
              "0   1  Augmentin 625 Duo Tablet    223.42            False   \n",
              "1   2       Azithral 500 Tablet    132.36            False   \n",
              "2   3          Ascoril LS Syrup    118.00            False   \n",
              "3   4      Allegra 120mg Tablet    218.81            False   \n",
              "4   5            Avil 25 Tablet     10.96            False   \n",
              "\n",
              "                      manufacturer_name       type         pack_size_label  \\\n",
              "0  Glaxo SmithKline Pharmaceuticals Ltd  allopathy     strip of 10 tablets   \n",
              "1           Alembic Pharmaceuticals Ltd  allopathy      strip of 5 tablets   \n",
              "2          Glenmark Pharmaceuticals Ltd  allopathy  bottle of 100 ml Syrup   \n",
              "3                     Sanofi India  Ltd  allopathy     strip of 10 tablets   \n",
              "4                     Sanofi India  Ltd  allopathy     strip of 15 tablets   \n",
              "\n",
              "      short_composition1          short_composition2  \n",
              "0  Amoxycillin  (500mg)      Clavulanic Acid (125mg)  \n",
              "1   Azithromycin (500mg)                         NaN  \n",
              "2   Ambroxol (30mg/5ml)    Levosalbutamol (1mg/5ml)   \n",
              "3   Fexofenadine (120mg)                         NaN  \n",
              "4     Pheniramine (25mg)                         NaN  "
            ],
            "text/html": [
              "\n",
              "  <div id=\"df-d3bd33c5-fe27-40ac-af45-933652b72a67\" class=\"colab-df-container\">\n",
              "    <div>\n",
              "<style scoped>\n",
              "    .dataframe tbody tr th:only-of-type {\n",
              "        vertical-align: middle;\n",
              "    }\n",
              "\n",
              "    .dataframe tbody tr th {\n",
              "        vertical-align: top;\n",
              "    }\n",
              "\n",
              "    .dataframe thead th {\n",
              "        text-align: right;\n",
              "    }\n",
              "</style>\n",
              "<table border=\"1\" class=\"dataframe\">\n",
              "  <thead>\n",
              "    <tr style=\"text-align: right;\">\n",
              "      <th></th>\n",
              "      <th>id</th>\n",
              "      <th>name</th>\n",
              "      <th>price(₹)</th>\n",
              "      <th>Is_discontinued</th>\n",
              "      <th>manufacturer_name</th>\n",
              "      <th>type</th>\n",
              "      <th>pack_size_label</th>\n",
              "      <th>short_composition1</th>\n",
              "      <th>short_composition2</th>\n",
              "    </tr>\n",
              "  </thead>\n",
              "  <tbody>\n",
              "    <tr>\n",
              "      <th>0</th>\n",
              "      <td>1</td>\n",
              "      <td>Augmentin 625 Duo Tablet</td>\n",
              "      <td>223.42</td>\n",
              "      <td>False</td>\n",
              "      <td>Glaxo SmithKline Pharmaceuticals Ltd</td>\n",
              "      <td>allopathy</td>\n",
              "      <td>strip of 10 tablets</td>\n",
              "      <td>Amoxycillin  (500mg)</td>\n",
              "      <td>Clavulanic Acid (125mg)</td>\n",
              "    </tr>\n",
              "    <tr>\n",
              "      <th>1</th>\n",
              "      <td>2</td>\n",
              "      <td>Azithral 500 Tablet</td>\n",
              "      <td>132.36</td>\n",
              "      <td>False</td>\n",
              "      <td>Alembic Pharmaceuticals Ltd</td>\n",
              "      <td>allopathy</td>\n",
              "      <td>strip of 5 tablets</td>\n",
              "      <td>Azithromycin (500mg)</td>\n",
              "      <td>NaN</td>\n",
              "    </tr>\n",
              "    <tr>\n",
              "      <th>2</th>\n",
              "      <td>3</td>\n",
              "      <td>Ascoril LS Syrup</td>\n",
              "      <td>118.00</td>\n",
              "      <td>False</td>\n",
              "      <td>Glenmark Pharmaceuticals Ltd</td>\n",
              "      <td>allopathy</td>\n",
              "      <td>bottle of 100 ml Syrup</td>\n",
              "      <td>Ambroxol (30mg/5ml)</td>\n",
              "      <td>Levosalbutamol (1mg/5ml)</td>\n",
              "    </tr>\n",
              "    <tr>\n",
              "      <th>3</th>\n",
              "      <td>4</td>\n",
              "      <td>Allegra 120mg Tablet</td>\n",
              "      <td>218.81</td>\n",
              "      <td>False</td>\n",
              "      <td>Sanofi India  Ltd</td>\n",
              "      <td>allopathy</td>\n",
              "      <td>strip of 10 tablets</td>\n",
              "      <td>Fexofenadine (120mg)</td>\n",
              "      <td>NaN</td>\n",
              "    </tr>\n",
              "    <tr>\n",
              "      <th>4</th>\n",
              "      <td>5</td>\n",
              "      <td>Avil 25 Tablet</td>\n",
              "      <td>10.96</td>\n",
              "      <td>False</td>\n",
              "      <td>Sanofi India  Ltd</td>\n",
              "      <td>allopathy</td>\n",
              "      <td>strip of 15 tablets</td>\n",
              "      <td>Pheniramine (25mg)</td>\n",
              "      <td>NaN</td>\n",
              "    </tr>\n",
              "  </tbody>\n",
              "</table>\n",
              "</div>\n",
              "    <div class=\"colab-df-buttons\">\n",
              "\n",
              "  <div class=\"colab-df-container\">\n",
              "    <button class=\"colab-df-convert\" onclick=\"convertToInteractive('df-d3bd33c5-fe27-40ac-af45-933652b72a67')\"\n",
              "            title=\"Convert this dataframe to an interactive table.\"\n",
              "            style=\"display:none;\">\n",
              "\n",
              "  <svg xmlns=\"http://www.w3.org/2000/svg\" height=\"24px\" viewBox=\"0 -960 960 960\">\n",
              "    <path d=\"M120-120v-720h720v720H120Zm60-500h600v-160H180v160Zm220 220h160v-160H400v160Zm0 220h160v-160H400v160ZM180-400h160v-160H180v160Zm440 0h160v-160H620v160ZM180-180h160v-160H180v160Zm440 0h160v-160H620v160Z\"/>\n",
              "  </svg>\n",
              "    </button>\n",
              "\n",
              "  <style>\n",
              "    .colab-df-container {\n",
              "      display:flex;\n",
              "      gap: 12px;\n",
              "    }\n",
              "\n",
              "    .colab-df-convert {\n",
              "      background-color: #E8F0FE;\n",
              "      border: none;\n",
              "      border-radius: 50%;\n",
              "      cursor: pointer;\n",
              "      display: none;\n",
              "      fill: #1967D2;\n",
              "      height: 32px;\n",
              "      padding: 0 0 0 0;\n",
              "      width: 32px;\n",
              "    }\n",
              "\n",
              "    .colab-df-convert:hover {\n",
              "      background-color: #E2EBFA;\n",
              "      box-shadow: 0px 1px 2px rgba(60, 64, 67, 0.3), 0px 1px 3px 1px rgba(60, 64, 67, 0.15);\n",
              "      fill: #174EA6;\n",
              "    }\n",
              "\n",
              "    .colab-df-buttons div {\n",
              "      margin-bottom: 4px;\n",
              "    }\n",
              "\n",
              "    [theme=dark] .colab-df-convert {\n",
              "      background-color: #3B4455;\n",
              "      fill: #D2E3FC;\n",
              "    }\n",
              "\n",
              "    [theme=dark] .colab-df-convert:hover {\n",
              "      background-color: #434B5C;\n",
              "      box-shadow: 0px 1px 3px 1px rgba(0, 0, 0, 0.15);\n",
              "      filter: drop-shadow(0px 1px 2px rgba(0, 0, 0, 0.3));\n",
              "      fill: #FFFFFF;\n",
              "    }\n",
              "  </style>\n",
              "\n",
              "    <script>\n",
              "      const buttonEl =\n",
              "        document.querySelector('#df-d3bd33c5-fe27-40ac-af45-933652b72a67 button.colab-df-convert');\n",
              "      buttonEl.style.display =\n",
              "        google.colab.kernel.accessAllowed ? 'block' : 'none';\n",
              "\n",
              "      async function convertToInteractive(key) {\n",
              "        const element = document.querySelector('#df-d3bd33c5-fe27-40ac-af45-933652b72a67');\n",
              "        const dataTable =\n",
              "          await google.colab.kernel.invokeFunction('convertToInteractive',\n",
              "                                                    [key], {});\n",
              "        if (!dataTable) return;\n",
              "\n",
              "        const docLinkHtml = 'Like what you see? Visit the ' +\n",
              "          '<a target=\"_blank\" href=https://colab.research.google.com/notebooks/data_table.ipynb>data table notebook</a>'\n",
              "          + ' to learn more about interactive tables.';\n",
              "        element.innerHTML = '';\n",
              "        dataTable['output_type'] = 'display_data';\n",
              "        await google.colab.output.renderOutput(dataTable, element);\n",
              "        const docLink = document.createElement('div');\n",
              "        docLink.innerHTML = docLinkHtml;\n",
              "        element.appendChild(docLink);\n",
              "      }\n",
              "    </script>\n",
              "  </div>\n",
              "\n",
              "\n",
              "    <div id=\"df-a4fca06b-c48a-47fd-94ad-a9a8093b644a\">\n",
              "      <button class=\"colab-df-quickchart\" onclick=\"quickchart('df-a4fca06b-c48a-47fd-94ad-a9a8093b644a')\"\n",
              "                title=\"Suggest charts\"\n",
              "                style=\"display:none;\">\n",
              "\n",
              "<svg xmlns=\"http://www.w3.org/2000/svg\" height=\"24px\"viewBox=\"0 0 24 24\"\n",
              "     width=\"24px\">\n",
              "    <g>\n",
              "        <path d=\"M19 3H5c-1.1 0-2 .9-2 2v14c0 1.1.9 2 2 2h14c1.1 0 2-.9 2-2V5c0-1.1-.9-2-2-2zM9 17H7v-7h2v7zm4 0h-2V7h2v10zm4 0h-2v-4h2v4z\"/>\n",
              "    </g>\n",
              "</svg>\n",
              "      </button>\n",
              "\n",
              "<style>\n",
              "  .colab-df-quickchart {\n",
              "      --bg-color: #E8F0FE;\n",
              "      --fill-color: #1967D2;\n",
              "      --hover-bg-color: #E2EBFA;\n",
              "      --hover-fill-color: #174EA6;\n",
              "      --disabled-fill-color: #AAA;\n",
              "      --disabled-bg-color: #DDD;\n",
              "  }\n",
              "\n",
              "  [theme=dark] .colab-df-quickchart {\n",
              "      --bg-color: #3B4455;\n",
              "      --fill-color: #D2E3FC;\n",
              "      --hover-bg-color: #434B5C;\n",
              "      --hover-fill-color: #FFFFFF;\n",
              "      --disabled-bg-color: #3B4455;\n",
              "      --disabled-fill-color: #666;\n",
              "  }\n",
              "\n",
              "  .colab-df-quickchart {\n",
              "    background-color: var(--bg-color);\n",
              "    border: none;\n",
              "    border-radius: 50%;\n",
              "    cursor: pointer;\n",
              "    display: none;\n",
              "    fill: var(--fill-color);\n",
              "    height: 32px;\n",
              "    padding: 0;\n",
              "    width: 32px;\n",
              "  }\n",
              "\n",
              "  .colab-df-quickchart:hover {\n",
              "    background-color: var(--hover-bg-color);\n",
              "    box-shadow: 0 1px 2px rgba(60, 64, 67, 0.3), 0 1px 3px 1px rgba(60, 64, 67, 0.15);\n",
              "    fill: var(--button-hover-fill-color);\n",
              "  }\n",
              "\n",
              "  .colab-df-quickchart-complete:disabled,\n",
              "  .colab-df-quickchart-complete:disabled:hover {\n",
              "    background-color: var(--disabled-bg-color);\n",
              "    fill: var(--disabled-fill-color);\n",
              "    box-shadow: none;\n",
              "  }\n",
              "\n",
              "  .colab-df-spinner {\n",
              "    border: 2px solid var(--fill-color);\n",
              "    border-color: transparent;\n",
              "    border-bottom-color: var(--fill-color);\n",
              "    animation:\n",
              "      spin 1s steps(1) infinite;\n",
              "  }\n",
              "\n",
              "  @keyframes spin {\n",
              "    0% {\n",
              "      border-color: transparent;\n",
              "      border-bottom-color: var(--fill-color);\n",
              "      border-left-color: var(--fill-color);\n",
              "    }\n",
              "    20% {\n",
              "      border-color: transparent;\n",
              "      border-left-color: var(--fill-color);\n",
              "      border-top-color: var(--fill-color);\n",
              "    }\n",
              "    30% {\n",
              "      border-color: transparent;\n",
              "      border-left-color: var(--fill-color);\n",
              "      border-top-color: var(--fill-color);\n",
              "      border-right-color: var(--fill-color);\n",
              "    }\n",
              "    40% {\n",
              "      border-color: transparent;\n",
              "      border-right-color: var(--fill-color);\n",
              "      border-top-color: var(--fill-color);\n",
              "    }\n",
              "    60% {\n",
              "      border-color: transparent;\n",
              "      border-right-color: var(--fill-color);\n",
              "    }\n",
              "    80% {\n",
              "      border-color: transparent;\n",
              "      border-right-color: var(--fill-color);\n",
              "      border-bottom-color: var(--fill-color);\n",
              "    }\n",
              "    90% {\n",
              "      border-color: transparent;\n",
              "      border-bottom-color: var(--fill-color);\n",
              "    }\n",
              "  }\n",
              "</style>\n",
              "\n",
              "      <script>\n",
              "        async function quickchart(key) {\n",
              "          const quickchartButtonEl =\n",
              "            document.querySelector('#' + key + ' button');\n",
              "          quickchartButtonEl.disabled = true;  // To prevent multiple clicks.\n",
              "          quickchartButtonEl.classList.add('colab-df-spinner');\n",
              "          try {\n",
              "            const charts = await google.colab.kernel.invokeFunction(\n",
              "                'suggestCharts', [key], {});\n",
              "          } catch (error) {\n",
              "            console.error('Error during call to suggestCharts:', error);\n",
              "          }\n",
              "          quickchartButtonEl.classList.remove('colab-df-spinner');\n",
              "          quickchartButtonEl.classList.add('colab-df-quickchart-complete');\n",
              "        }\n",
              "        (() => {\n",
              "          let quickchartButtonEl =\n",
              "            document.querySelector('#df-a4fca06b-c48a-47fd-94ad-a9a8093b644a button');\n",
              "          quickchartButtonEl.style.display =\n",
              "            google.colab.kernel.accessAllowed ? 'block' : 'none';\n",
              "        })();\n",
              "      </script>\n",
              "    </div>\n",
              "\n",
              "    </div>\n",
              "  </div>\n"
            ],
            "application/vnd.google.colaboratory.intrinsic+json": {
              "type": "dataframe",
              "variable_name": "df"
            }
          },
          "metadata": {},
          "execution_count": 6
        }
      ]
    },
    {
      "cell_type": "code",
      "source": [
        "df.tail()"
      ],
      "metadata": {
        "colab": {
          "base_uri": "https://localhost:8080/",
          "height": 362
        },
        "collapsed": true,
        "id": "ulxYP6VWLj9w",
        "outputId": "cbf97933-4d7b-4571-ade6-e8520f580f71"
      },
      "execution_count": 8,
      "outputs": [
        {
          "output_type": "execute_result",
          "data": {
            "text/plain": [
              "            id                           name  price(₹)  Is_discontinued  \\\n",
              "253968  253969  Ziyapod 100mg Oral Suspension      62.3            False   \n",
              "253969  253970            Zemhart 30mg Tablet      54.0            False   \n",
              "253970  253971              Zivex 25mg Tablet      57.0            False   \n",
              "253971  253972        ZI Fast 500mg Injection     152.0            False   \n",
              "253972  253973      Zyvocol 1% Dusting Powder     110.0            False   \n",
              "\n",
              "                            manufacturer_name       type  \\\n",
              "253968            Ziyana Lifesciences Pvt Ltd  allopathy   \n",
              "253969                 Leeford Healthcare Ltd  allopathy   \n",
              "253970                          Euro Organics  allopathy   \n",
              "253971  Burgeon Health Series Private Limited  allopathy   \n",
              "253972                         GBK Healthcare  allopathy   \n",
              "\n",
              "                        pack_size_label            short_composition1  \\\n",
              "253968  bottle of 30 ml Oral Suspension  Cefpodoxime Proxetil (100mg)   \n",
              "253969              strip of 10 tablets              Diltiazem (30mg)   \n",
              "253970              strip of 10 tablets            Hydroxyzine (25mg)   \n",
              "253971              vial of 1 Injection          Azithromycin (500mg)   \n",
              "253972   bottle of 75 gm Dusting Powder         Clotrimazole (1% w/w)   \n",
              "\n",
              "       short_composition2  \n",
              "253968                NaN  \n",
              "253969                NaN  \n",
              "253970                NaN  \n",
              "253971                NaN  \n",
              "253972                NaN  "
            ],
            "text/html": [
              "\n",
              "  <div id=\"df-5bc95261-61d2-400e-814a-358bd74b396e\" class=\"colab-df-container\">\n",
              "    <div>\n",
              "<style scoped>\n",
              "    .dataframe tbody tr th:only-of-type {\n",
              "        vertical-align: middle;\n",
              "    }\n",
              "\n",
              "    .dataframe tbody tr th {\n",
              "        vertical-align: top;\n",
              "    }\n",
              "\n",
              "    .dataframe thead th {\n",
              "        text-align: right;\n",
              "    }\n",
              "</style>\n",
              "<table border=\"1\" class=\"dataframe\">\n",
              "  <thead>\n",
              "    <tr style=\"text-align: right;\">\n",
              "      <th></th>\n",
              "      <th>id</th>\n",
              "      <th>name</th>\n",
              "      <th>price(₹)</th>\n",
              "      <th>Is_discontinued</th>\n",
              "      <th>manufacturer_name</th>\n",
              "      <th>type</th>\n",
              "      <th>pack_size_label</th>\n",
              "      <th>short_composition1</th>\n",
              "      <th>short_composition2</th>\n",
              "    </tr>\n",
              "  </thead>\n",
              "  <tbody>\n",
              "    <tr>\n",
              "      <th>253968</th>\n",
              "      <td>253969</td>\n",
              "      <td>Ziyapod 100mg Oral Suspension</td>\n",
              "      <td>62.3</td>\n",
              "      <td>False</td>\n",
              "      <td>Ziyana Lifesciences Pvt Ltd</td>\n",
              "      <td>allopathy</td>\n",
              "      <td>bottle of 30 ml Oral Suspension</td>\n",
              "      <td>Cefpodoxime Proxetil (100mg)</td>\n",
              "      <td>NaN</td>\n",
              "    </tr>\n",
              "    <tr>\n",
              "      <th>253969</th>\n",
              "      <td>253970</td>\n",
              "      <td>Zemhart 30mg Tablet</td>\n",
              "      <td>54.0</td>\n",
              "      <td>False</td>\n",
              "      <td>Leeford Healthcare Ltd</td>\n",
              "      <td>allopathy</td>\n",
              "      <td>strip of 10 tablets</td>\n",
              "      <td>Diltiazem (30mg)</td>\n",
              "      <td>NaN</td>\n",
              "    </tr>\n",
              "    <tr>\n",
              "      <th>253970</th>\n",
              "      <td>253971</td>\n",
              "      <td>Zivex 25mg Tablet</td>\n",
              "      <td>57.0</td>\n",
              "      <td>False</td>\n",
              "      <td>Euro Organics</td>\n",
              "      <td>allopathy</td>\n",
              "      <td>strip of 10 tablets</td>\n",
              "      <td>Hydroxyzine (25mg)</td>\n",
              "      <td>NaN</td>\n",
              "    </tr>\n",
              "    <tr>\n",
              "      <th>253971</th>\n",
              "      <td>253972</td>\n",
              "      <td>ZI Fast 500mg Injection</td>\n",
              "      <td>152.0</td>\n",
              "      <td>False</td>\n",
              "      <td>Burgeon Health Series Private Limited</td>\n",
              "      <td>allopathy</td>\n",
              "      <td>vial of 1 Injection</td>\n",
              "      <td>Azithromycin (500mg)</td>\n",
              "      <td>NaN</td>\n",
              "    </tr>\n",
              "    <tr>\n",
              "      <th>253972</th>\n",
              "      <td>253973</td>\n",
              "      <td>Zyvocol 1% Dusting Powder</td>\n",
              "      <td>110.0</td>\n",
              "      <td>False</td>\n",
              "      <td>GBK Healthcare</td>\n",
              "      <td>allopathy</td>\n",
              "      <td>bottle of 75 gm Dusting Powder</td>\n",
              "      <td>Clotrimazole (1% w/w)</td>\n",
              "      <td>NaN</td>\n",
              "    </tr>\n",
              "  </tbody>\n",
              "</table>\n",
              "</div>\n",
              "    <div class=\"colab-df-buttons\">\n",
              "\n",
              "  <div class=\"colab-df-container\">\n",
              "    <button class=\"colab-df-convert\" onclick=\"convertToInteractive('df-5bc95261-61d2-400e-814a-358bd74b396e')\"\n",
              "            title=\"Convert this dataframe to an interactive table.\"\n",
              "            style=\"display:none;\">\n",
              "\n",
              "  <svg xmlns=\"http://www.w3.org/2000/svg\" height=\"24px\" viewBox=\"0 -960 960 960\">\n",
              "    <path d=\"M120-120v-720h720v720H120Zm60-500h600v-160H180v160Zm220 220h160v-160H400v160Zm0 220h160v-160H400v160ZM180-400h160v-160H180v160Zm440 0h160v-160H620v160ZM180-180h160v-160H180v160Zm440 0h160v-160H620v160Z\"/>\n",
              "  </svg>\n",
              "    </button>\n",
              "\n",
              "  <style>\n",
              "    .colab-df-container {\n",
              "      display:flex;\n",
              "      gap: 12px;\n",
              "    }\n",
              "\n",
              "    .colab-df-convert {\n",
              "      background-color: #E8F0FE;\n",
              "      border: none;\n",
              "      border-radius: 50%;\n",
              "      cursor: pointer;\n",
              "      display: none;\n",
              "      fill: #1967D2;\n",
              "      height: 32px;\n",
              "      padding: 0 0 0 0;\n",
              "      width: 32px;\n",
              "    }\n",
              "\n",
              "    .colab-df-convert:hover {\n",
              "      background-color: #E2EBFA;\n",
              "      box-shadow: 0px 1px 2px rgba(60, 64, 67, 0.3), 0px 1px 3px 1px rgba(60, 64, 67, 0.15);\n",
              "      fill: #174EA6;\n",
              "    }\n",
              "\n",
              "    .colab-df-buttons div {\n",
              "      margin-bottom: 4px;\n",
              "    }\n",
              "\n",
              "    [theme=dark] .colab-df-convert {\n",
              "      background-color: #3B4455;\n",
              "      fill: #D2E3FC;\n",
              "    }\n",
              "\n",
              "    [theme=dark] .colab-df-convert:hover {\n",
              "      background-color: #434B5C;\n",
              "      box-shadow: 0px 1px 3px 1px rgba(0, 0, 0, 0.15);\n",
              "      filter: drop-shadow(0px 1px 2px rgba(0, 0, 0, 0.3));\n",
              "      fill: #FFFFFF;\n",
              "    }\n",
              "  </style>\n",
              "\n",
              "    <script>\n",
              "      const buttonEl =\n",
              "        document.querySelector('#df-5bc95261-61d2-400e-814a-358bd74b396e button.colab-df-convert');\n",
              "      buttonEl.style.display =\n",
              "        google.colab.kernel.accessAllowed ? 'block' : 'none';\n",
              "\n",
              "      async function convertToInteractive(key) {\n",
              "        const element = document.querySelector('#df-5bc95261-61d2-400e-814a-358bd74b396e');\n",
              "        const dataTable =\n",
              "          await google.colab.kernel.invokeFunction('convertToInteractive',\n",
              "                                                    [key], {});\n",
              "        if (!dataTable) return;\n",
              "\n",
              "        const docLinkHtml = 'Like what you see? Visit the ' +\n",
              "          '<a target=\"_blank\" href=https://colab.research.google.com/notebooks/data_table.ipynb>data table notebook</a>'\n",
              "          + ' to learn more about interactive tables.';\n",
              "        element.innerHTML = '';\n",
              "        dataTable['output_type'] = 'display_data';\n",
              "        await google.colab.output.renderOutput(dataTable, element);\n",
              "        const docLink = document.createElement('div');\n",
              "        docLink.innerHTML = docLinkHtml;\n",
              "        element.appendChild(docLink);\n",
              "      }\n",
              "    </script>\n",
              "  </div>\n",
              "\n",
              "\n",
              "    <div id=\"df-32fc3e37-d31f-424f-8728-f0220a0d2e7b\">\n",
              "      <button class=\"colab-df-quickchart\" onclick=\"quickchart('df-32fc3e37-d31f-424f-8728-f0220a0d2e7b')\"\n",
              "                title=\"Suggest charts\"\n",
              "                style=\"display:none;\">\n",
              "\n",
              "<svg xmlns=\"http://www.w3.org/2000/svg\" height=\"24px\"viewBox=\"0 0 24 24\"\n",
              "     width=\"24px\">\n",
              "    <g>\n",
              "        <path d=\"M19 3H5c-1.1 0-2 .9-2 2v14c0 1.1.9 2 2 2h14c1.1 0 2-.9 2-2V5c0-1.1-.9-2-2-2zM9 17H7v-7h2v7zm4 0h-2V7h2v10zm4 0h-2v-4h2v4z\"/>\n",
              "    </g>\n",
              "</svg>\n",
              "      </button>\n",
              "\n",
              "<style>\n",
              "  .colab-df-quickchart {\n",
              "      --bg-color: #E8F0FE;\n",
              "      --fill-color: #1967D2;\n",
              "      --hover-bg-color: #E2EBFA;\n",
              "      --hover-fill-color: #174EA6;\n",
              "      --disabled-fill-color: #AAA;\n",
              "      --disabled-bg-color: #DDD;\n",
              "  }\n",
              "\n",
              "  [theme=dark] .colab-df-quickchart {\n",
              "      --bg-color: #3B4455;\n",
              "      --fill-color: #D2E3FC;\n",
              "      --hover-bg-color: #434B5C;\n",
              "      --hover-fill-color: #FFFFFF;\n",
              "      --disabled-bg-color: #3B4455;\n",
              "      --disabled-fill-color: #666;\n",
              "  }\n",
              "\n",
              "  .colab-df-quickchart {\n",
              "    background-color: var(--bg-color);\n",
              "    border: none;\n",
              "    border-radius: 50%;\n",
              "    cursor: pointer;\n",
              "    display: none;\n",
              "    fill: var(--fill-color);\n",
              "    height: 32px;\n",
              "    padding: 0;\n",
              "    width: 32px;\n",
              "  }\n",
              "\n",
              "  .colab-df-quickchart:hover {\n",
              "    background-color: var(--hover-bg-color);\n",
              "    box-shadow: 0 1px 2px rgba(60, 64, 67, 0.3), 0 1px 3px 1px rgba(60, 64, 67, 0.15);\n",
              "    fill: var(--button-hover-fill-color);\n",
              "  }\n",
              "\n",
              "  .colab-df-quickchart-complete:disabled,\n",
              "  .colab-df-quickchart-complete:disabled:hover {\n",
              "    background-color: var(--disabled-bg-color);\n",
              "    fill: var(--disabled-fill-color);\n",
              "    box-shadow: none;\n",
              "  }\n",
              "\n",
              "  .colab-df-spinner {\n",
              "    border: 2px solid var(--fill-color);\n",
              "    border-color: transparent;\n",
              "    border-bottom-color: var(--fill-color);\n",
              "    animation:\n",
              "      spin 1s steps(1) infinite;\n",
              "  }\n",
              "\n",
              "  @keyframes spin {\n",
              "    0% {\n",
              "      border-color: transparent;\n",
              "      border-bottom-color: var(--fill-color);\n",
              "      border-left-color: var(--fill-color);\n",
              "    }\n",
              "    20% {\n",
              "      border-color: transparent;\n",
              "      border-left-color: var(--fill-color);\n",
              "      border-top-color: var(--fill-color);\n",
              "    }\n",
              "    30% {\n",
              "      border-color: transparent;\n",
              "      border-left-color: var(--fill-color);\n",
              "      border-top-color: var(--fill-color);\n",
              "      border-right-color: var(--fill-color);\n",
              "    }\n",
              "    40% {\n",
              "      border-color: transparent;\n",
              "      border-right-color: var(--fill-color);\n",
              "      border-top-color: var(--fill-color);\n",
              "    }\n",
              "    60% {\n",
              "      border-color: transparent;\n",
              "      border-right-color: var(--fill-color);\n",
              "    }\n",
              "    80% {\n",
              "      border-color: transparent;\n",
              "      border-right-color: var(--fill-color);\n",
              "      border-bottom-color: var(--fill-color);\n",
              "    }\n",
              "    90% {\n",
              "      border-color: transparent;\n",
              "      border-bottom-color: var(--fill-color);\n",
              "    }\n",
              "  }\n",
              "</style>\n",
              "\n",
              "      <script>\n",
              "        async function quickchart(key) {\n",
              "          const quickchartButtonEl =\n",
              "            document.querySelector('#' + key + ' button');\n",
              "          quickchartButtonEl.disabled = true;  // To prevent multiple clicks.\n",
              "          quickchartButtonEl.classList.add('colab-df-spinner');\n",
              "          try {\n",
              "            const charts = await google.colab.kernel.invokeFunction(\n",
              "                'suggestCharts', [key], {});\n",
              "          } catch (error) {\n",
              "            console.error('Error during call to suggestCharts:', error);\n",
              "          }\n",
              "          quickchartButtonEl.classList.remove('colab-df-spinner');\n",
              "          quickchartButtonEl.classList.add('colab-df-quickchart-complete');\n",
              "        }\n",
              "        (() => {\n",
              "          let quickchartButtonEl =\n",
              "            document.querySelector('#df-32fc3e37-d31f-424f-8728-f0220a0d2e7b button');\n",
              "          quickchartButtonEl.style.display =\n",
              "            google.colab.kernel.accessAllowed ? 'block' : 'none';\n",
              "        })();\n",
              "      </script>\n",
              "    </div>\n",
              "\n",
              "    </div>\n",
              "  </div>\n"
            ],
            "application/vnd.google.colaboratory.intrinsic+json": {
              "type": "dataframe",
              "repr_error": "0"
            }
          },
          "metadata": {},
          "execution_count": 8
        }
      ]
    },
    {
      "cell_type": "code",
      "source": [
        "df.columns"
      ],
      "metadata": {
        "colab": {
          "base_uri": "https://localhost:8080/"
        },
        "id": "rQHlpfV9Lssb",
        "outputId": "383a2a42-ffcc-4563-88cc-0e498a5f266e"
      },
      "execution_count": 9,
      "outputs": [
        {
          "output_type": "execute_result",
          "data": {
            "text/plain": [
              "Index(['id', 'name', 'price(₹)', 'Is_discontinued', 'manufacturer_name',\n",
              "       'type', 'pack_size_label', 'short_composition1', 'short_composition2'],\n",
              "      dtype='object')"
            ]
          },
          "metadata": {},
          "execution_count": 9
        }
      ]
    },
    {
      "cell_type": "markdown",
      "source": [
        "##**5.2 Check the Dataset Shape**"
      ],
      "metadata": {
        "id": "W8exdNfaLvZ3"
      }
    },
    {
      "cell_type": "code",
      "source": [
        "df.shape"
      ],
      "metadata": {
        "colab": {
          "base_uri": "https://localhost:8080/"
        },
        "id": "S_aYaPlSL0kQ",
        "outputId": "eb91d1f3-aeae-4bcb-fa2d-b3fa8cafff44"
      },
      "execution_count": 10,
      "outputs": [
        {
          "output_type": "execute_result",
          "data": {
            "text/plain": [
              "(253973, 9)"
            ]
          },
          "metadata": {},
          "execution_count": 10
        }
      ]
    },
    {
      "cell_type": "markdown",
      "source": [
        "**Interpretation**- *The data has 253973 rows and 9 columns*"
      ],
      "metadata": {
        "id": "yq-pF_P8L3aq"
      }
    },
    {
      "cell_type": "markdown",
      "source": [
        "##**5.3 Dataset Summary Overview**"
      ],
      "metadata": {
        "id": "N7p8Kky7L_zH"
      }
    },
    {
      "cell_type": "markdown",
      "source": [
        "Check for missing values and data types of each column."
      ],
      "metadata": {
        "id": "gXLBHCriMNS4"
      }
    },
    {
      "cell_type": "code",
      "source": [
        "df.info()"
      ],
      "metadata": {
        "colab": {
          "base_uri": "https://localhost:8080/"
        },
        "id": "YdBmvikPMH2V",
        "outputId": "80e35aa5-8b4d-434c-cfbd-d4bd752d12f3"
      },
      "execution_count": 12,
      "outputs": [
        {
          "output_type": "stream",
          "name": "stdout",
          "text": [
            "<class 'pandas.core.frame.DataFrame'>\n",
            "RangeIndex: 253973 entries, 0 to 253972\n",
            "Data columns (total 9 columns):\n",
            " #   Column              Non-Null Count   Dtype  \n",
            "---  ------              --------------   -----  \n",
            " 0   id                  253973 non-null  int64  \n",
            " 1   name                253973 non-null  object \n",
            " 2   price(₹)            253973 non-null  float64\n",
            " 3   Is_discontinued     253973 non-null  bool   \n",
            " 4   manufacturer_name   253973 non-null  object \n",
            " 5   type                253973 non-null  object \n",
            " 6   pack_size_label     253973 non-null  object \n",
            " 7   short_composition1  253973 non-null  object \n",
            " 8   short_composition2  112171 non-null  object \n",
            "dtypes: bool(1), float64(1), int64(1), object(6)\n",
            "memory usage: 15.7+ MB\n"
          ]
        }
      ]
    },
    {
      "cell_type": "markdown",
      "source": [
        "**Interpretation**- *The dataset contains 253,973 records and 9 columns, covering medicine ID, name, price, manufacturer, type, pack size, and composition details. One column (short_composition2) has missing values. Data types include integers, floats, booleans, and object strings.*"
      ],
      "metadata": {
        "id": "rtCyrm7_M7p2"
      }
    },
    {
      "cell_type": "markdown",
      "source": [
        "##**5.4 Statistical Summary of Numerical Columnns**"
      ],
      "metadata": {
        "id": "NaKyTK8RNKF9"
      }
    },
    {
      "cell_type": "markdown",
      "source": [
        "Generating statistical summary of numerical columns to understand their distribution, central tendency, and spread across the dataset"
      ],
      "metadata": {
        "id": "l0UJCiCHNSOB"
      }
    },
    {
      "cell_type": "code",
      "source": [
        "df.select_dtypes(include='number').describe()"
      ],
      "metadata": {
        "colab": {
          "base_uri": "https://localhost:8080/",
          "height": 300
        },
        "id": "gx5xxoyBNU0Z",
        "outputId": "a7240d7b-1b34-4a31-e027-d45a2f141639"
      },
      "execution_count": 13,
      "outputs": [
        {
          "output_type": "execute_result",
          "data": {
            "text/plain": [
              "                  id       price(₹)\n",
              "count  253973.000000  253973.000000\n",
              "mean   126987.000000     270.530844\n",
              "std     73315.834296    3029.584134\n",
              "min         1.000000       0.000000\n",
              "25%     63494.000000      48.000000\n",
              "50%    126987.000000      79.000000\n",
              "75%    190480.000000     140.000000\n",
              "max    253973.000000  436000.000000"
            ],
            "text/html": [
              "\n",
              "  <div id=\"df-965bb5f3-5d3e-4840-b2d6-9e87279bc231\" class=\"colab-df-container\">\n",
              "    <div>\n",
              "<style scoped>\n",
              "    .dataframe tbody tr th:only-of-type {\n",
              "        vertical-align: middle;\n",
              "    }\n",
              "\n",
              "    .dataframe tbody tr th {\n",
              "        vertical-align: top;\n",
              "    }\n",
              "\n",
              "    .dataframe thead th {\n",
              "        text-align: right;\n",
              "    }\n",
              "</style>\n",
              "<table border=\"1\" class=\"dataframe\">\n",
              "  <thead>\n",
              "    <tr style=\"text-align: right;\">\n",
              "      <th></th>\n",
              "      <th>id</th>\n",
              "      <th>price(₹)</th>\n",
              "    </tr>\n",
              "  </thead>\n",
              "  <tbody>\n",
              "    <tr>\n",
              "      <th>count</th>\n",
              "      <td>253973.000000</td>\n",
              "      <td>253973.000000</td>\n",
              "    </tr>\n",
              "    <tr>\n",
              "      <th>mean</th>\n",
              "      <td>126987.000000</td>\n",
              "      <td>270.530844</td>\n",
              "    </tr>\n",
              "    <tr>\n",
              "      <th>std</th>\n",
              "      <td>73315.834296</td>\n",
              "      <td>3029.584134</td>\n",
              "    </tr>\n",
              "    <tr>\n",
              "      <th>min</th>\n",
              "      <td>1.000000</td>\n",
              "      <td>0.000000</td>\n",
              "    </tr>\n",
              "    <tr>\n",
              "      <th>25%</th>\n",
              "      <td>63494.000000</td>\n",
              "      <td>48.000000</td>\n",
              "    </tr>\n",
              "    <tr>\n",
              "      <th>50%</th>\n",
              "      <td>126987.000000</td>\n",
              "      <td>79.000000</td>\n",
              "    </tr>\n",
              "    <tr>\n",
              "      <th>75%</th>\n",
              "      <td>190480.000000</td>\n",
              "      <td>140.000000</td>\n",
              "    </tr>\n",
              "    <tr>\n",
              "      <th>max</th>\n",
              "      <td>253973.000000</td>\n",
              "      <td>436000.000000</td>\n",
              "    </tr>\n",
              "  </tbody>\n",
              "</table>\n",
              "</div>\n",
              "    <div class=\"colab-df-buttons\">\n",
              "\n",
              "  <div class=\"colab-df-container\">\n",
              "    <button class=\"colab-df-convert\" onclick=\"convertToInteractive('df-965bb5f3-5d3e-4840-b2d6-9e87279bc231')\"\n",
              "            title=\"Convert this dataframe to an interactive table.\"\n",
              "            style=\"display:none;\">\n",
              "\n",
              "  <svg xmlns=\"http://www.w3.org/2000/svg\" height=\"24px\" viewBox=\"0 -960 960 960\">\n",
              "    <path d=\"M120-120v-720h720v720H120Zm60-500h600v-160H180v160Zm220 220h160v-160H400v160Zm0 220h160v-160H400v160ZM180-400h160v-160H180v160Zm440 0h160v-160H620v160ZM180-180h160v-160H180v160Zm440 0h160v-160H620v160Z\"/>\n",
              "  </svg>\n",
              "    </button>\n",
              "\n",
              "  <style>\n",
              "    .colab-df-container {\n",
              "      display:flex;\n",
              "      gap: 12px;\n",
              "    }\n",
              "\n",
              "    .colab-df-convert {\n",
              "      background-color: #E8F0FE;\n",
              "      border: none;\n",
              "      border-radius: 50%;\n",
              "      cursor: pointer;\n",
              "      display: none;\n",
              "      fill: #1967D2;\n",
              "      height: 32px;\n",
              "      padding: 0 0 0 0;\n",
              "      width: 32px;\n",
              "    }\n",
              "\n",
              "    .colab-df-convert:hover {\n",
              "      background-color: #E2EBFA;\n",
              "      box-shadow: 0px 1px 2px rgba(60, 64, 67, 0.3), 0px 1px 3px 1px rgba(60, 64, 67, 0.15);\n",
              "      fill: #174EA6;\n",
              "    }\n",
              "\n",
              "    .colab-df-buttons div {\n",
              "      margin-bottom: 4px;\n",
              "    }\n",
              "\n",
              "    [theme=dark] .colab-df-convert {\n",
              "      background-color: #3B4455;\n",
              "      fill: #D2E3FC;\n",
              "    }\n",
              "\n",
              "    [theme=dark] .colab-df-convert:hover {\n",
              "      background-color: #434B5C;\n",
              "      box-shadow: 0px 1px 3px 1px rgba(0, 0, 0, 0.15);\n",
              "      filter: drop-shadow(0px 1px 2px rgba(0, 0, 0, 0.3));\n",
              "      fill: #FFFFFF;\n",
              "    }\n",
              "  </style>\n",
              "\n",
              "    <script>\n",
              "      const buttonEl =\n",
              "        document.querySelector('#df-965bb5f3-5d3e-4840-b2d6-9e87279bc231 button.colab-df-convert');\n",
              "      buttonEl.style.display =\n",
              "        google.colab.kernel.accessAllowed ? 'block' : 'none';\n",
              "\n",
              "      async function convertToInteractive(key) {\n",
              "        const element = document.querySelector('#df-965bb5f3-5d3e-4840-b2d6-9e87279bc231');\n",
              "        const dataTable =\n",
              "          await google.colab.kernel.invokeFunction('convertToInteractive',\n",
              "                                                    [key], {});\n",
              "        if (!dataTable) return;\n",
              "\n",
              "        const docLinkHtml = 'Like what you see? Visit the ' +\n",
              "          '<a target=\"_blank\" href=https://colab.research.google.com/notebooks/data_table.ipynb>data table notebook</a>'\n",
              "          + ' to learn more about interactive tables.';\n",
              "        element.innerHTML = '';\n",
              "        dataTable['output_type'] = 'display_data';\n",
              "        await google.colab.output.renderOutput(dataTable, element);\n",
              "        const docLink = document.createElement('div');\n",
              "        docLink.innerHTML = docLinkHtml;\n",
              "        element.appendChild(docLink);\n",
              "      }\n",
              "    </script>\n",
              "  </div>\n",
              "\n",
              "\n",
              "    <div id=\"df-ee0d6c08-291a-4e4a-b0a2-683510701a2a\">\n",
              "      <button class=\"colab-df-quickchart\" onclick=\"quickchart('df-ee0d6c08-291a-4e4a-b0a2-683510701a2a')\"\n",
              "                title=\"Suggest charts\"\n",
              "                style=\"display:none;\">\n",
              "\n",
              "<svg xmlns=\"http://www.w3.org/2000/svg\" height=\"24px\"viewBox=\"0 0 24 24\"\n",
              "     width=\"24px\">\n",
              "    <g>\n",
              "        <path d=\"M19 3H5c-1.1 0-2 .9-2 2v14c0 1.1.9 2 2 2h14c1.1 0 2-.9 2-2V5c0-1.1-.9-2-2-2zM9 17H7v-7h2v7zm4 0h-2V7h2v10zm4 0h-2v-4h2v4z\"/>\n",
              "    </g>\n",
              "</svg>\n",
              "      </button>\n",
              "\n",
              "<style>\n",
              "  .colab-df-quickchart {\n",
              "      --bg-color: #E8F0FE;\n",
              "      --fill-color: #1967D2;\n",
              "      --hover-bg-color: #E2EBFA;\n",
              "      --hover-fill-color: #174EA6;\n",
              "      --disabled-fill-color: #AAA;\n",
              "      --disabled-bg-color: #DDD;\n",
              "  }\n",
              "\n",
              "  [theme=dark] .colab-df-quickchart {\n",
              "      --bg-color: #3B4455;\n",
              "      --fill-color: #D2E3FC;\n",
              "      --hover-bg-color: #434B5C;\n",
              "      --hover-fill-color: #FFFFFF;\n",
              "      --disabled-bg-color: #3B4455;\n",
              "      --disabled-fill-color: #666;\n",
              "  }\n",
              "\n",
              "  .colab-df-quickchart {\n",
              "    background-color: var(--bg-color);\n",
              "    border: none;\n",
              "    border-radius: 50%;\n",
              "    cursor: pointer;\n",
              "    display: none;\n",
              "    fill: var(--fill-color);\n",
              "    height: 32px;\n",
              "    padding: 0;\n",
              "    width: 32px;\n",
              "  }\n",
              "\n",
              "  .colab-df-quickchart:hover {\n",
              "    background-color: var(--hover-bg-color);\n",
              "    box-shadow: 0 1px 2px rgba(60, 64, 67, 0.3), 0 1px 3px 1px rgba(60, 64, 67, 0.15);\n",
              "    fill: var(--button-hover-fill-color);\n",
              "  }\n",
              "\n",
              "  .colab-df-quickchart-complete:disabled,\n",
              "  .colab-df-quickchart-complete:disabled:hover {\n",
              "    background-color: var(--disabled-bg-color);\n",
              "    fill: var(--disabled-fill-color);\n",
              "    box-shadow: none;\n",
              "  }\n",
              "\n",
              "  .colab-df-spinner {\n",
              "    border: 2px solid var(--fill-color);\n",
              "    border-color: transparent;\n",
              "    border-bottom-color: var(--fill-color);\n",
              "    animation:\n",
              "      spin 1s steps(1) infinite;\n",
              "  }\n",
              "\n",
              "  @keyframes spin {\n",
              "    0% {\n",
              "      border-color: transparent;\n",
              "      border-bottom-color: var(--fill-color);\n",
              "      border-left-color: var(--fill-color);\n",
              "    }\n",
              "    20% {\n",
              "      border-color: transparent;\n",
              "      border-left-color: var(--fill-color);\n",
              "      border-top-color: var(--fill-color);\n",
              "    }\n",
              "    30% {\n",
              "      border-color: transparent;\n",
              "      border-left-color: var(--fill-color);\n",
              "      border-top-color: var(--fill-color);\n",
              "      border-right-color: var(--fill-color);\n",
              "    }\n",
              "    40% {\n",
              "      border-color: transparent;\n",
              "      border-right-color: var(--fill-color);\n",
              "      border-top-color: var(--fill-color);\n",
              "    }\n",
              "    60% {\n",
              "      border-color: transparent;\n",
              "      border-right-color: var(--fill-color);\n",
              "    }\n",
              "    80% {\n",
              "      border-color: transparent;\n",
              "      border-right-color: var(--fill-color);\n",
              "      border-bottom-color: var(--fill-color);\n",
              "    }\n",
              "    90% {\n",
              "      border-color: transparent;\n",
              "      border-bottom-color: var(--fill-color);\n",
              "    }\n",
              "  }\n",
              "</style>\n",
              "\n",
              "      <script>\n",
              "        async function quickchart(key) {\n",
              "          const quickchartButtonEl =\n",
              "            document.querySelector('#' + key + ' button');\n",
              "          quickchartButtonEl.disabled = true;  // To prevent multiple clicks.\n",
              "          quickchartButtonEl.classList.add('colab-df-spinner');\n",
              "          try {\n",
              "            const charts = await google.colab.kernel.invokeFunction(\n",
              "                'suggestCharts', [key], {});\n",
              "          } catch (error) {\n",
              "            console.error('Error during call to suggestCharts:', error);\n",
              "          }\n",
              "          quickchartButtonEl.classList.remove('colab-df-spinner');\n",
              "          quickchartButtonEl.classList.add('colab-df-quickchart-complete');\n",
              "        }\n",
              "        (() => {\n",
              "          let quickchartButtonEl =\n",
              "            document.querySelector('#df-ee0d6c08-291a-4e4a-b0a2-683510701a2a button');\n",
              "          quickchartButtonEl.style.display =\n",
              "            google.colab.kernel.accessAllowed ? 'block' : 'none';\n",
              "        })();\n",
              "      </script>\n",
              "    </div>\n",
              "\n",
              "    </div>\n",
              "  </div>\n"
            ],
            "application/vnd.google.colaboratory.intrinsic+json": {
              "type": "dataframe",
              "summary": "{\n  \"name\": \"df\",\n  \"rows\": 8,\n  \"fields\": [\n    {\n      \"column\": \"id\",\n      \"properties\": {\n        \"dtype\": \"number\",\n        \"std\": 91532.7931852536,\n        \"min\": 1.0,\n        \"max\": 253973.0,\n        \"num_unique_values\": 6,\n        \"samples\": [\n          253973.0,\n          126987.0,\n          190480.0\n        ],\n        \"semantic_type\": \"\",\n        \"description\": \"\"\n      }\n    },\n    {\n      \"column\": \"price(\\u20b9)\",\n      \"properties\": {\n        \"dtype\": \"number\",\n        \"std\": 166683.1159739514,\n        \"min\": 0.0,\n        \"max\": 436000.0,\n        \"num_unique_values\": 8,\n        \"samples\": [\n          270.53084379048175,\n          79.0,\n          253973.0\n        ],\n        \"semantic_type\": \"\",\n        \"description\": \"\"\n      }\n    }\n  ]\n}"
            }
          },
          "metadata": {},
          "execution_count": 13
        }
      ]
    },
    {
      "cell_type": "markdown",
      "source": [
        "##**5.5. Statistical Summary of Category Columns**"
      ],
      "metadata": {
        "id": "ImNivi0iTDp2"
      }
    },
    {
      "cell_type": "code",
      "source": [
        "df.select_dtypes(include='object').describe()"
      ],
      "metadata": {
        "colab": {
          "base_uri": "https://localhost:8080/",
          "height": 175
        },
        "id": "yriOLc2YTESE",
        "outputId": "5928cffb-8627-42b0-e5e0-a954bd0fb6cb"
      },
      "execution_count": 14,
      "outputs": [
        {
          "output_type": "execute_result",
          "data": {
            "text/plain": [
              "                    name                  manufacturer_name       type  \\\n",
              "count             253973                             253973     253973   \n",
              "unique            249398                               7648          1   \n",
              "top     NS 0.9% Infusion  Sun Pharmaceutical Industries Ltd  allopathy   \n",
              "freq                  12                               2986     253973   \n",
              "\n",
              "            pack_size_label    short_composition1   short_composition2  \n",
              "count                253973                253973               112171  \n",
              "unique                 1929                  8523                 2980  \n",
              "top     strip of 10 tablets  Aceclofenac (100mg)    Rabeprazole (20mg)  \n",
              "freq                 116540                  6930                 4743  "
            ],
            "text/html": [
              "\n",
              "  <div id=\"df-c8e0c862-13d5-4fa1-8b52-8f44913a9c7b\" class=\"colab-df-container\">\n",
              "    <div>\n",
              "<style scoped>\n",
              "    .dataframe tbody tr th:only-of-type {\n",
              "        vertical-align: middle;\n",
              "    }\n",
              "\n",
              "    .dataframe tbody tr th {\n",
              "        vertical-align: top;\n",
              "    }\n",
              "\n",
              "    .dataframe thead th {\n",
              "        text-align: right;\n",
              "    }\n",
              "</style>\n",
              "<table border=\"1\" class=\"dataframe\">\n",
              "  <thead>\n",
              "    <tr style=\"text-align: right;\">\n",
              "      <th></th>\n",
              "      <th>name</th>\n",
              "      <th>manufacturer_name</th>\n",
              "      <th>type</th>\n",
              "      <th>pack_size_label</th>\n",
              "      <th>short_composition1</th>\n",
              "      <th>short_composition2</th>\n",
              "    </tr>\n",
              "  </thead>\n",
              "  <tbody>\n",
              "    <tr>\n",
              "      <th>count</th>\n",
              "      <td>253973</td>\n",
              "      <td>253973</td>\n",
              "      <td>253973</td>\n",
              "      <td>253973</td>\n",
              "      <td>253973</td>\n",
              "      <td>112171</td>\n",
              "    </tr>\n",
              "    <tr>\n",
              "      <th>unique</th>\n",
              "      <td>249398</td>\n",
              "      <td>7648</td>\n",
              "      <td>1</td>\n",
              "      <td>1929</td>\n",
              "      <td>8523</td>\n",
              "      <td>2980</td>\n",
              "    </tr>\n",
              "    <tr>\n",
              "      <th>top</th>\n",
              "      <td>NS 0.9% Infusion</td>\n",
              "      <td>Sun Pharmaceutical Industries Ltd</td>\n",
              "      <td>allopathy</td>\n",
              "      <td>strip of 10 tablets</td>\n",
              "      <td>Aceclofenac (100mg)</td>\n",
              "      <td>Rabeprazole (20mg)</td>\n",
              "    </tr>\n",
              "    <tr>\n",
              "      <th>freq</th>\n",
              "      <td>12</td>\n",
              "      <td>2986</td>\n",
              "      <td>253973</td>\n",
              "      <td>116540</td>\n",
              "      <td>6930</td>\n",
              "      <td>4743</td>\n",
              "    </tr>\n",
              "  </tbody>\n",
              "</table>\n",
              "</div>\n",
              "    <div class=\"colab-df-buttons\">\n",
              "\n",
              "  <div class=\"colab-df-container\">\n",
              "    <button class=\"colab-df-convert\" onclick=\"convertToInteractive('df-c8e0c862-13d5-4fa1-8b52-8f44913a9c7b')\"\n",
              "            title=\"Convert this dataframe to an interactive table.\"\n",
              "            style=\"display:none;\">\n",
              "\n",
              "  <svg xmlns=\"http://www.w3.org/2000/svg\" height=\"24px\" viewBox=\"0 -960 960 960\">\n",
              "    <path d=\"M120-120v-720h720v720H120Zm60-500h600v-160H180v160Zm220 220h160v-160H400v160Zm0 220h160v-160H400v160ZM180-400h160v-160H180v160Zm440 0h160v-160H620v160ZM180-180h160v-160H180v160Zm440 0h160v-160H620v160Z\"/>\n",
              "  </svg>\n",
              "    </button>\n",
              "\n",
              "  <style>\n",
              "    .colab-df-container {\n",
              "      display:flex;\n",
              "      gap: 12px;\n",
              "    }\n",
              "\n",
              "    .colab-df-convert {\n",
              "      background-color: #E8F0FE;\n",
              "      border: none;\n",
              "      border-radius: 50%;\n",
              "      cursor: pointer;\n",
              "      display: none;\n",
              "      fill: #1967D2;\n",
              "      height: 32px;\n",
              "      padding: 0 0 0 0;\n",
              "      width: 32px;\n",
              "    }\n",
              "\n",
              "    .colab-df-convert:hover {\n",
              "      background-color: #E2EBFA;\n",
              "      box-shadow: 0px 1px 2px rgba(60, 64, 67, 0.3), 0px 1px 3px 1px rgba(60, 64, 67, 0.15);\n",
              "      fill: #174EA6;\n",
              "    }\n",
              "\n",
              "    .colab-df-buttons div {\n",
              "      margin-bottom: 4px;\n",
              "    }\n",
              "\n",
              "    [theme=dark] .colab-df-convert {\n",
              "      background-color: #3B4455;\n",
              "      fill: #D2E3FC;\n",
              "    }\n",
              "\n",
              "    [theme=dark] .colab-df-convert:hover {\n",
              "      background-color: #434B5C;\n",
              "      box-shadow: 0px 1px 3px 1px rgba(0, 0, 0, 0.15);\n",
              "      filter: drop-shadow(0px 1px 2px rgba(0, 0, 0, 0.3));\n",
              "      fill: #FFFFFF;\n",
              "    }\n",
              "  </style>\n",
              "\n",
              "    <script>\n",
              "      const buttonEl =\n",
              "        document.querySelector('#df-c8e0c862-13d5-4fa1-8b52-8f44913a9c7b button.colab-df-convert');\n",
              "      buttonEl.style.display =\n",
              "        google.colab.kernel.accessAllowed ? 'block' : 'none';\n",
              "\n",
              "      async function convertToInteractive(key) {\n",
              "        const element = document.querySelector('#df-c8e0c862-13d5-4fa1-8b52-8f44913a9c7b');\n",
              "        const dataTable =\n",
              "          await google.colab.kernel.invokeFunction('convertToInteractive',\n",
              "                                                    [key], {});\n",
              "        if (!dataTable) return;\n",
              "\n",
              "        const docLinkHtml = 'Like what you see? Visit the ' +\n",
              "          '<a target=\"_blank\" href=https://colab.research.google.com/notebooks/data_table.ipynb>data table notebook</a>'\n",
              "          + ' to learn more about interactive tables.';\n",
              "        element.innerHTML = '';\n",
              "        dataTable['output_type'] = 'display_data';\n",
              "        await google.colab.output.renderOutput(dataTable, element);\n",
              "        const docLink = document.createElement('div');\n",
              "        docLink.innerHTML = docLinkHtml;\n",
              "        element.appendChild(docLink);\n",
              "      }\n",
              "    </script>\n",
              "  </div>\n",
              "\n",
              "\n",
              "    <div id=\"df-93bf30d9-4a21-4163-8262-fec25496cc2c\">\n",
              "      <button class=\"colab-df-quickchart\" onclick=\"quickchart('df-93bf30d9-4a21-4163-8262-fec25496cc2c')\"\n",
              "                title=\"Suggest charts\"\n",
              "                style=\"display:none;\">\n",
              "\n",
              "<svg xmlns=\"http://www.w3.org/2000/svg\" height=\"24px\"viewBox=\"0 0 24 24\"\n",
              "     width=\"24px\">\n",
              "    <g>\n",
              "        <path d=\"M19 3H5c-1.1 0-2 .9-2 2v14c0 1.1.9 2 2 2h14c1.1 0 2-.9 2-2V5c0-1.1-.9-2-2-2zM9 17H7v-7h2v7zm4 0h-2V7h2v10zm4 0h-2v-4h2v4z\"/>\n",
              "    </g>\n",
              "</svg>\n",
              "      </button>\n",
              "\n",
              "<style>\n",
              "  .colab-df-quickchart {\n",
              "      --bg-color: #E8F0FE;\n",
              "      --fill-color: #1967D2;\n",
              "      --hover-bg-color: #E2EBFA;\n",
              "      --hover-fill-color: #174EA6;\n",
              "      --disabled-fill-color: #AAA;\n",
              "      --disabled-bg-color: #DDD;\n",
              "  }\n",
              "\n",
              "  [theme=dark] .colab-df-quickchart {\n",
              "      --bg-color: #3B4455;\n",
              "      --fill-color: #D2E3FC;\n",
              "      --hover-bg-color: #434B5C;\n",
              "      --hover-fill-color: #FFFFFF;\n",
              "      --disabled-bg-color: #3B4455;\n",
              "      --disabled-fill-color: #666;\n",
              "  }\n",
              "\n",
              "  .colab-df-quickchart {\n",
              "    background-color: var(--bg-color);\n",
              "    border: none;\n",
              "    border-radius: 50%;\n",
              "    cursor: pointer;\n",
              "    display: none;\n",
              "    fill: var(--fill-color);\n",
              "    height: 32px;\n",
              "    padding: 0;\n",
              "    width: 32px;\n",
              "  }\n",
              "\n",
              "  .colab-df-quickchart:hover {\n",
              "    background-color: var(--hover-bg-color);\n",
              "    box-shadow: 0 1px 2px rgba(60, 64, 67, 0.3), 0 1px 3px 1px rgba(60, 64, 67, 0.15);\n",
              "    fill: var(--button-hover-fill-color);\n",
              "  }\n",
              "\n",
              "  .colab-df-quickchart-complete:disabled,\n",
              "  .colab-df-quickchart-complete:disabled:hover {\n",
              "    background-color: var(--disabled-bg-color);\n",
              "    fill: var(--disabled-fill-color);\n",
              "    box-shadow: none;\n",
              "  }\n",
              "\n",
              "  .colab-df-spinner {\n",
              "    border: 2px solid var(--fill-color);\n",
              "    border-color: transparent;\n",
              "    border-bottom-color: var(--fill-color);\n",
              "    animation:\n",
              "      spin 1s steps(1) infinite;\n",
              "  }\n",
              "\n",
              "  @keyframes spin {\n",
              "    0% {\n",
              "      border-color: transparent;\n",
              "      border-bottom-color: var(--fill-color);\n",
              "      border-left-color: var(--fill-color);\n",
              "    }\n",
              "    20% {\n",
              "      border-color: transparent;\n",
              "      border-left-color: var(--fill-color);\n",
              "      border-top-color: var(--fill-color);\n",
              "    }\n",
              "    30% {\n",
              "      border-color: transparent;\n",
              "      border-left-color: var(--fill-color);\n",
              "      border-top-color: var(--fill-color);\n",
              "      border-right-color: var(--fill-color);\n",
              "    }\n",
              "    40% {\n",
              "      border-color: transparent;\n",
              "      border-right-color: var(--fill-color);\n",
              "      border-top-color: var(--fill-color);\n",
              "    }\n",
              "    60% {\n",
              "      border-color: transparent;\n",
              "      border-right-color: var(--fill-color);\n",
              "    }\n",
              "    80% {\n",
              "      border-color: transparent;\n",
              "      border-right-color: var(--fill-color);\n",
              "      border-bottom-color: var(--fill-color);\n",
              "    }\n",
              "    90% {\n",
              "      border-color: transparent;\n",
              "      border-bottom-color: var(--fill-color);\n",
              "    }\n",
              "  }\n",
              "</style>\n",
              "\n",
              "      <script>\n",
              "        async function quickchart(key) {\n",
              "          const quickchartButtonEl =\n",
              "            document.querySelector('#' + key + ' button');\n",
              "          quickchartButtonEl.disabled = true;  // To prevent multiple clicks.\n",
              "          quickchartButtonEl.classList.add('colab-df-spinner');\n",
              "          try {\n",
              "            const charts = await google.colab.kernel.invokeFunction(\n",
              "                'suggestCharts', [key], {});\n",
              "          } catch (error) {\n",
              "            console.error('Error during call to suggestCharts:', error);\n",
              "          }\n",
              "          quickchartButtonEl.classList.remove('colab-df-spinner');\n",
              "          quickchartButtonEl.classList.add('colab-df-quickchart-complete');\n",
              "        }\n",
              "        (() => {\n",
              "          let quickchartButtonEl =\n",
              "            document.querySelector('#df-93bf30d9-4a21-4163-8262-fec25496cc2c button');\n",
              "          quickchartButtonEl.style.display =\n",
              "            google.colab.kernel.accessAllowed ? 'block' : 'none';\n",
              "        })();\n",
              "      </script>\n",
              "    </div>\n",
              "\n",
              "    </div>\n",
              "  </div>\n"
            ],
            "application/vnd.google.colaboratory.intrinsic+json": {
              "type": "dataframe",
              "summary": "{\n  \"name\": \"df\",\n  \"rows\": 4,\n  \"fields\": [\n    {\n      \"column\": \"name\",\n      \"properties\": {\n        \"dtype\": \"string\",\n        \"num_unique_values\": 4,\n        \"samples\": [\n          249398,\n          \"12\",\n          \"253973\"\n        ],\n        \"semantic_type\": \"\",\n        \"description\": \"\"\n      }\n    },\n    {\n      \"column\": \"manufacturer_name\",\n      \"properties\": {\n        \"dtype\": \"string\",\n        \"num_unique_values\": 4,\n        \"samples\": [\n          7648,\n          \"2986\",\n          \"253973\"\n        ],\n        \"semantic_type\": \"\",\n        \"description\": \"\"\n      }\n    },\n    {\n      \"column\": \"type\",\n      \"properties\": {\n        \"dtype\": \"string\",\n        \"num_unique_values\": 3,\n        \"samples\": [\n          \"253973\",\n          1,\n          \"allopathy\"\n        ],\n        \"semantic_type\": \"\",\n        \"description\": \"\"\n      }\n    },\n    {\n      \"column\": \"pack_size_label\",\n      \"properties\": {\n        \"dtype\": \"string\",\n        \"num_unique_values\": 4,\n        \"samples\": [\n          1929,\n          \"116540\",\n          \"253973\"\n        ],\n        \"semantic_type\": \"\",\n        \"description\": \"\"\n      }\n    },\n    {\n      \"column\": \"short_composition1\",\n      \"properties\": {\n        \"dtype\": \"string\",\n        \"num_unique_values\": 4,\n        \"samples\": [\n          8523,\n          \"6930\",\n          \"253973\"\n        ],\n        \"semantic_type\": \"\",\n        \"description\": \"\"\n      }\n    },\n    {\n      \"column\": \"short_composition2\",\n      \"properties\": {\n        \"dtype\": \"string\",\n        \"num_unique_values\": 4,\n        \"samples\": [\n          2980,\n          \"4743\",\n          \"112171\"\n        ],\n        \"semantic_type\": \"\",\n        \"description\": \"\"\n      }\n    }\n  ]\n}"
            }
          },
          "metadata": {},
          "execution_count": 14
        }
      ]
    },
    {
      "cell_type": "markdown",
      "source": [
        "#**6. Data Cleaning And Preprocessing**"
      ],
      "metadata": {
        "id": "l8YolptzVg5u"
      }
    },
    {
      "cell_type": "markdown",
      "source": [
        "In this section, we focus on identifying and handling issues such as missing values, incorrect data types, duplicates, and inconsistent entries. Effective data cleaning ensures the dataset is accurate, complete, and ready for reliable analysis"
      ],
      "metadata": {
        "id": "-Ohhxu1KVgEE"
      }
    },
    {
      "cell_type": "markdown",
      "source": [
        "##**6.1 Fix Data Types**"
      ],
      "metadata": {
        "id": "KnkzUlWwVjuB"
      }
    },
    {
      "cell_type": "code",
      "source": [
        "df.dtypes"
      ],
      "metadata": {
        "colab": {
          "base_uri": "https://localhost:8080/",
          "height": 366
        },
        "id": "6799PKfkVlxi",
        "outputId": "3f714d0e-2b9f-497c-f815-7a225e9720d1"
      },
      "execution_count": 15,
      "outputs": [
        {
          "output_type": "execute_result",
          "data": {
            "text/plain": [
              "id                      int64\n",
              "name                   object\n",
              "price(₹)              float64\n",
              "Is_discontinued          bool\n",
              "manufacturer_name      object\n",
              "type                   object\n",
              "pack_size_label        object\n",
              "short_composition1     object\n",
              "short_composition2     object\n",
              "dtype: object"
            ],
            "text/html": [
              "<div>\n",
              "<style scoped>\n",
              "    .dataframe tbody tr th:only-of-type {\n",
              "        vertical-align: middle;\n",
              "    }\n",
              "\n",
              "    .dataframe tbody tr th {\n",
              "        vertical-align: top;\n",
              "    }\n",
              "\n",
              "    .dataframe thead th {\n",
              "        text-align: right;\n",
              "    }\n",
              "</style>\n",
              "<table border=\"1\" class=\"dataframe\">\n",
              "  <thead>\n",
              "    <tr style=\"text-align: right;\">\n",
              "      <th></th>\n",
              "      <th>0</th>\n",
              "    </tr>\n",
              "  </thead>\n",
              "  <tbody>\n",
              "    <tr>\n",
              "      <th>id</th>\n",
              "      <td>int64</td>\n",
              "    </tr>\n",
              "    <tr>\n",
              "      <th>name</th>\n",
              "      <td>object</td>\n",
              "    </tr>\n",
              "    <tr>\n",
              "      <th>price(₹)</th>\n",
              "      <td>float64</td>\n",
              "    </tr>\n",
              "    <tr>\n",
              "      <th>Is_discontinued</th>\n",
              "      <td>bool</td>\n",
              "    </tr>\n",
              "    <tr>\n",
              "      <th>manufacturer_name</th>\n",
              "      <td>object</td>\n",
              "    </tr>\n",
              "    <tr>\n",
              "      <th>type</th>\n",
              "      <td>object</td>\n",
              "    </tr>\n",
              "    <tr>\n",
              "      <th>pack_size_label</th>\n",
              "      <td>object</td>\n",
              "    </tr>\n",
              "    <tr>\n",
              "      <th>short_composition1</th>\n",
              "      <td>object</td>\n",
              "    </tr>\n",
              "    <tr>\n",
              "      <th>short_composition2</th>\n",
              "      <td>object</td>\n",
              "    </tr>\n",
              "  </tbody>\n",
              "</table>\n",
              "</div><br><label><b>dtype:</b> object</label>"
            ]
          },
          "metadata": {},
          "execution_count": 15
        }
      ]
    },
    {
      "cell_type": "markdown",
      "source": [
        "##**6.2 Handling Missing Values**"
      ],
      "metadata": {
        "id": "lRik9IvAW8FR"
      }
    },
    {
      "cell_type": "markdown",
      "source": [
        "Identifying and addressing missing values to ensure data completeness and reliability for accurate analysis."
      ],
      "metadata": {
        "id": "L7dzArv6W_ug"
      }
    },
    {
      "cell_type": "code",
      "source": [
        "df.isnull().sum()"
      ],
      "metadata": {
        "colab": {
          "base_uri": "https://localhost:8080/",
          "height": 366
        },
        "collapsed": true,
        "id": "_lQk7-fVW8ls",
        "outputId": "664287cc-f9b1-4c0b-b401-d22f114f4ddd"
      },
      "execution_count": 16,
      "outputs": [
        {
          "output_type": "execute_result",
          "data": {
            "text/plain": [
              "id                         0\n",
              "name                       0\n",
              "price(₹)                   0\n",
              "Is_discontinued            0\n",
              "manufacturer_name          0\n",
              "type                       0\n",
              "pack_size_label            0\n",
              "short_composition1         0\n",
              "short_composition2    141802\n",
              "dtype: int64"
            ],
            "text/html": [
              "<div>\n",
              "<style scoped>\n",
              "    .dataframe tbody tr th:only-of-type {\n",
              "        vertical-align: middle;\n",
              "    }\n",
              "\n",
              "    .dataframe tbody tr th {\n",
              "        vertical-align: top;\n",
              "    }\n",
              "\n",
              "    .dataframe thead th {\n",
              "        text-align: right;\n",
              "    }\n",
              "</style>\n",
              "<table border=\"1\" class=\"dataframe\">\n",
              "  <thead>\n",
              "    <tr style=\"text-align: right;\">\n",
              "      <th></th>\n",
              "      <th>0</th>\n",
              "    </tr>\n",
              "  </thead>\n",
              "  <tbody>\n",
              "    <tr>\n",
              "      <th>id</th>\n",
              "      <td>0</td>\n",
              "    </tr>\n",
              "    <tr>\n",
              "      <th>name</th>\n",
              "      <td>0</td>\n",
              "    </tr>\n",
              "    <tr>\n",
              "      <th>price(₹)</th>\n",
              "      <td>0</td>\n",
              "    </tr>\n",
              "    <tr>\n",
              "      <th>Is_discontinued</th>\n",
              "      <td>0</td>\n",
              "    </tr>\n",
              "    <tr>\n",
              "      <th>manufacturer_name</th>\n",
              "      <td>0</td>\n",
              "    </tr>\n",
              "    <tr>\n",
              "      <th>type</th>\n",
              "      <td>0</td>\n",
              "    </tr>\n",
              "    <tr>\n",
              "      <th>pack_size_label</th>\n",
              "      <td>0</td>\n",
              "    </tr>\n",
              "    <tr>\n",
              "      <th>short_composition1</th>\n",
              "      <td>0</td>\n",
              "    </tr>\n",
              "    <tr>\n",
              "      <th>short_composition2</th>\n",
              "      <td>141802</td>\n",
              "    </tr>\n",
              "  </tbody>\n",
              "</table>\n",
              "</div><br><label><b>dtype:</b> int64</label>"
            ]
          },
          "metadata": {},
          "execution_count": 16
        }
      ]
    },
    {
      "cell_type": "markdown",
      "source": [
        "**Interpretation** - * The above data shows that the column short_composition2 has 141802 null data*"
      ],
      "metadata": {
        "id": "E0_1Al2bXEUw"
      }
    },
    {
      "cell_type": "markdown",
      "source": [
        "**Using Fillna() to replace the empty cell with 'NA'.**"
      ],
      "metadata": {
        "id": "oryoOmB6YGLR"
      }
    },
    {
      "cell_type": "code",
      "source": [
        "#using fillna to replace the empty cell in the short_composition2 column\n",
        "df['short_composition2'] = df['short_composition2'].fillna('NA')"
      ],
      "metadata": {
        "id": "ws2QFjZCXUh9"
      },
      "execution_count": 22,
      "outputs": []
    },
    {
      "cell_type": "markdown",
      "source": [
        "##**6.3 Handling Duplicate Records**"
      ],
      "metadata": {
        "id": "VGZ0D3htYj8Q"
      }
    },
    {
      "cell_type": "code",
      "source": [
        "df.duplicated().sum()"
      ],
      "metadata": {
        "colab": {
          "base_uri": "https://localhost:8080/"
        },
        "id": "69PJwcFcYr32",
        "outputId": "ba5cc36d-630c-4249-d14d-b2d3b0c16470"
      },
      "execution_count": 24,
      "outputs": [
        {
          "output_type": "execute_result",
          "data": {
            "text/plain": [
              "np.int64(0)"
            ]
          },
          "metadata": {},
          "execution_count": 24
        }
      ]
    },
    {
      "cell_type": "markdown",
      "source": [
        "**Interpretation** - *There are no dulpicate values in the dataset*"
      ],
      "metadata": {
        "id": "ve2apnbYYuQs"
      }
    },
    {
      "cell_type": "markdown",
      "source": [
        "##**6.4 Standardize Column Name**"
      ],
      "metadata": {
        "id": "2YdFEuu4Y-kn"
      }
    },
    {
      "cell_type": "markdown",
      "source": [
        "Standardizing column names to ensure consistency, readability, and ease of use throughout the analysis."
      ],
      "metadata": {
        "id": "wklZUUJFY_L8"
      }
    },
    {
      "cell_type": "code",
      "source": [
        "df.columns = df.columns.str.lower().str.replace(' ','_')"
      ],
      "metadata": {
        "id": "mNA2fIMIZB11"
      },
      "execution_count": 25,
      "outputs": []
    },
    {
      "cell_type": "code",
      "source": [
        "df.columns"
      ],
      "metadata": {
        "colab": {
          "base_uri": "https://localhost:8080/"
        },
        "id": "rfEgo9rLZE7e",
        "outputId": "9dad33a1-5dea-43bd-af95-1f3ef6329f6f"
      },
      "execution_count": 26,
      "outputs": [
        {
          "output_type": "execute_result",
          "data": {
            "text/plain": [
              "Index(['id', 'name', 'price(₹)', 'is_discontinued', 'manufacturer_name',\n",
              "       'type', 'pack_size_label', 'short_composition1', 'short_composition2'],\n",
              "      dtype='object')"
            ]
          },
          "metadata": {},
          "execution_count": 26
        }
      ]
    },
    {
      "cell_type": "markdown",
      "source": [
        "##**6.5 Identify Numerical And Categorical Columns**"
      ],
      "metadata": {
        "id": "E3d88lfdZJ2e"
      }
    },
    {
      "cell_type": "markdown",
      "source": [
        "Identifying numerical and categorical columns to guide appropriate analysis, visualization, and preprocessing techniques."
      ],
      "metadata": {
        "id": "e3agx_4EZKnn"
      }
    },
    {
      "cell_type": "code",
      "source": [
        "categorical_columns = df.select_dtypes(include='object').columns\n",
        "numerical_columns = df.select_dtypes(include='number').columns"
      ],
      "metadata": {
        "id": "GA7330ERZM7b"
      },
      "execution_count": 27,
      "outputs": []
    },
    {
      "cell_type": "code",
      "source": [
        "# Display categorical columns\n",
        "categorical_columns"
      ],
      "metadata": {
        "colab": {
          "base_uri": "https://localhost:8080/"
        },
        "id": "q06qY4L-ZPPH",
        "outputId": "2b3ed46d-ffe9-4637-cbcb-8a4e5866bece"
      },
      "execution_count": 28,
      "outputs": [
        {
          "output_type": "execute_result",
          "data": {
            "text/plain": [
              "Index(['name', 'manufacturer_name', 'type', 'pack_size_label',\n",
              "       'short_composition1', 'short_composition2'],\n",
              "      dtype='object')"
            ]
          },
          "metadata": {},
          "execution_count": 28
        }
      ]
    },
    {
      "cell_type": "code",
      "source": [
        "# Display numerical columns\n",
        "numerical_columns"
      ],
      "metadata": {
        "colab": {
          "base_uri": "https://localhost:8080/"
        },
        "id": "U7obD_jcZTih",
        "outputId": "35b63a7d-58d4-449a-bb44-635c233eddb1"
      },
      "execution_count": 29,
      "outputs": [
        {
          "output_type": "execute_result",
          "data": {
            "text/plain": [
              "Index(['id', 'price(₹)'], dtype='object')"
            ]
          },
          "metadata": {},
          "execution_count": 29
        }
      ]
    },
    {
      "cell_type": "markdown",
      "source": [
        "##**6.6 Standardize Categorical Features And Explore Unique Values**"
      ],
      "metadata": {
        "id": "NWvJidgoZhaj"
      }
    },
    {
      "cell_type": "markdown",
      "source": [
        "In this section, we clean the categorical columns by standardizing text formats—removing extra spaces and ensuring consistent casing. This step is essential to avoid misleading results when analyzing unique categories. After cleaning, we explore the unique values in each categorical column to understand the feature space and identify any anomalies or inconsistencies."
      ],
      "metadata": {
        "id": "24MshO-wZh2q"
      }
    },
    {
      "cell_type": "markdown",
      "source": [
        "### **6.6. A. Standardizing Categorical Features**"
      ],
      "metadata": {
        "id": "WDn2ocMAZr8q"
      }
    },
    {
      "cell_type": "code",
      "source": [
        "# Clean categorical columns: strip whitespaces and lowercase all strings\n",
        "for cols in categorical_columns:\n",
        "  df[cols] = df[cols].str.strip().str.lower()"
      ],
      "metadata": {
        "id": "odkAV6WvZl7w"
      },
      "execution_count": 30,
      "outputs": []
    },
    {
      "cell_type": "markdown",
      "source": [
        "### **6.6. B. Explore Unique Values in Categorical Features**"
      ],
      "metadata": {
        "id": "vn5VoGNQZuq1"
      }
    },
    {
      "cell_type": "code",
      "source": [
        "for col in categorical_columns:\n",
        "  print(f\"Unique Values in {col}:\")\n",
        "  print(df[col].unique())\n",
        "  print(\"\\n\")"
      ],
      "metadata": {
        "colab": {
          "base_uri": "https://localhost:8080/"
        },
        "collapsed": true,
        "id": "_or7KCv4ZwnJ",
        "outputId": "5d6c7b40-5910-4f6b-d90f-eaa70e795dd1"
      },
      "execution_count": 31,
      "outputs": [
        {
          "output_type": "stream",
          "name": "stdout",
          "text": [
            "Unique Values in name:\n",
            "['augmentin 625 duo tablet' 'azithral 500 tablet' 'ascoril ls syrup' ...\n",
            " 'zivex 25mg tablet' 'zi fast 500mg injection' 'zyvocol 1% dusting powder']\n",
            "\n",
            "\n",
            "Unique Values in manufacturer_name:\n",
            "['glaxo smithkline pharmaceuticals ltd' 'alembic pharmaceuticals ltd'\n",
            " 'glenmark pharmaceuticals ltd' ... 'bliss life pharmaceuticals'\n",
            " 'z plus remedies' 'anamiva life sciences']\n",
            "\n",
            "\n",
            "Unique Values in type:\n",
            "['allopathy']\n",
            "\n",
            "\n",
            "Unique Values in pack_size_label:\n",
            "['strip of 10 tablets' 'strip of 5 tablets' 'bottle of 100 ml syrup' ...\n",
            " 'bottle of 6 gm oral suspension' 'bottle of 6 gm powder'\n",
            " 'packet of 14 rheocap']\n",
            "\n",
            "\n",
            "Unique Values in short_composition1:\n",
            "['amoxycillin  (500mg)' 'azithromycin (500mg)' 'ambroxol (30mg/5ml)' ...\n",
            " 'idarubicin (25mg)' 'artesunate (250mg)' 'artesunate (500mg)']\n",
            "\n",
            "\n",
            "Unique Values in short_composition2:\n",
            "['clavulanic acid (125mg)' 'na' 'levosalbutamol (1mg/5ml)' ...\n",
            " 'formoterol (na)' 'linseed oil (10% w/w)' 'tazobactum (62.25mg)']\n",
            "\n",
            "\n"
          ]
        }
      ]
    },
    {
      "cell_type": "markdown",
      "source": [
        "## **6.7. Outlier Detections for Numerical Features**\n",
        "\n",
        "In this step, we investigate potential outliers in the numerical columns using boxplots. Outliers can indicate data entry errors or unusual behavior."
      ],
      "metadata": {
        "id": "u3FA34qoZ3pJ"
      }
    },
    {
      "cell_type": "markdown",
      "source": [
        "###**6.7.A Visualizing Outlier Through BoxPlots**"
      ],
      "metadata": {
        "id": "YEL66-7hZ6gT"
      }
    },
    {
      "cell_type": "code",
      "source": [
        "# Set up figure size\n",
        "plt.figure(figsize=(5 * len(numerical_columns), 5))  # Dynamic width\n",
        "\n",
        "# Loop through each numerical column and plot a boxplot\n",
        "for i, col in enumerate(numerical_columns):\n",
        "    # Create dynamic subplots (1 row, N columns)\n",
        "    plt.subplot(1, len(numerical_columns), i + 1)\n",
        "\n",
        "    sns.boxplot(y=df[col], color='skyblue')\n",
        "    plt.title(f'Boxplot of {col}')\n",
        "    plt.ylabel('')\n",
        "    plt.grid(True)\n",
        "\n",
        "plt.tight_layout()\n",
        "plt.show()"
      ],
      "metadata": {
        "colab": {
          "base_uri": "https://localhost:8080/",
          "height": 501
        },
        "id": "qxXB5p2pZ7FL",
        "outputId": "25ade533-9e44-4c12-a2c6-cbba0f1aeb1d"
      },
      "execution_count": 32,
      "outputs": [
        {
          "output_type": "display_data",
          "data": {
            "text/plain": [
              "<Figure size 1000x500 with 2 Axes>"
            ],
            "image/png": "[encoded data removed]"
          },
          "metadata": {}
        }
      ]
    },
    {
      "cell_type": "markdown",
      "source": [
        "**Interpretation**\n",
        "\n",
        "**Boxplot of id:**\n",
        "\n",
        "The id values are uniformly spread across the dataset.\n",
        "\n",
        "As expected for a unique identifier, it shows no outliers or skewness.\n",
        "\n",
        "This column should be treated as an identifier only, not used for analysis or modeling.\n",
        "\n",
        "**Boxplot of price(₹):**\n",
        "\n",
        "There is heavy right skew indicating a large number of high-price outliers.\n",
        "\n",
        "Most medicine prices lie in a lower range, but a few medicines are priced above ₹100,000 and even ₹400,000.\n",
        "\n",
        "These extreme values may distort summary statistics like mean — consider using the median or log transformation for analysis."
      ],
      "metadata": {
        "id": "mjWYIAGDaMuk"
      }
    },
    {
      "cell_type": "markdown",
      "source": [
        "### **6.7. B. Statistical Detection of Outliers using IQR**\n",
        "\n",
        "In addition to visual inspection through boxplots, we use the IQR method to programmatically detect potential outliers in the numerical features. This helps in identifying the number and position of values that lie far outside the normal range and could distort our analysis.\n"
      ],
      "metadata": {
        "id": "Gir6T63JaVxg"
      }
    },
    {
      "cell_type": "code",
      "source": [
        "# Function to detect outliers using the IQR method\n",
        "def detect_outliers_iqr(data, column):\n",
        "    Q1 = data[column].quantile(0.25)  # First quartile (25%)\n",
        "    Q3 = data[column].quantile(0.75)  # Third quartile (75%)\n",
        "    IQR = Q3 - Q1                     # Interquartile range\n",
        "    lower_bound = Q1 - 1.5 * IQR      # Lower limit for non-outliers\n",
        "    upper_bound = Q3 + 1.5 * IQR      # Upper limit for non-outliers\n",
        "    outliers = data[(data[column] < lower_bound) | (data[column] > upper_bound)]\n",
        "    return outliers\n",
        "\n",
        "# Loop through numerical columns and report number of outliers in each\n",
        "for col in numerical_columns:\n",
        "    outliers = detect_outliers_iqr(df, col)\n",
        "    print(f\"{col}: {len(outliers)} outliers detected\")"
      ],
      "metadata": {
        "colab": {
          "base_uri": "https://localhost:8080/"
        },
        "id": "MJbsja16aZ7r",
        "outputId": "614d8786-feb4-4434-bce9-7d612ad35d43"
      },
      "execution_count": 33,
      "outputs": [
        {
          "output_type": "stream",
          "name": "stdout",
          "text": [
            "id: 0 outliers detected\n",
            "price(₹): 22517 outliers detected\n"
          ]
        }
      ]
    }
  ]
}